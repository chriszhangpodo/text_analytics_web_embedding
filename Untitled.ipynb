{
 "cells": [
  {
   "cell_type": "code",
   "execution_count": 1,
   "metadata": {
    "collapsed": false
   },
   "outputs": [
    {
     "name": "stderr",
     "output_type": "stream",
     "text": [
      "C:\\Users\\chzhang\\AppData\\Local\\Continuum\\Anaconda3\\lib\\site-packages\\sklearn\\cross_validation.py:41: DeprecationWarning: This module was deprecated in version 0.18 in favor of the model_selection module into which all the refactored classes and functions are moved. Also note that the interface of the new CV iterators are different from that of this module. This module will be removed in 0.20.\n",
      "  \"This module will be removed in 0.20.\", DeprecationWarning)\n",
      "C:\\Users\\chzhang\\AppData\\Local\\Continuum\\Anaconda3\\lib\\site-packages\\gensim\\utils.py:865: UserWarning: detected Windows; aliasing chunkize to chunkize_serial\n",
      "  warnings.warn(\"detected Windows; aliasing chunkize to chunkize_serial\")\n",
      "Using TensorFlow backend.\n"
     ]
    }
   ],
   "source": [
    "from sklearn import model_selection, preprocessing, linear_model, naive_bayes, metrics, svm\n",
    "from sklearn.feature_extraction.text import TfidfVectorizer, CountVectorizer, TfidfTransformer\n",
    "from sklearn import decomposition, ensemble\n",
    "from sklearn.linear_model import SGDClassifier, LogisticRegression\n",
    "from sklearn.pipeline import Pipeline\n",
    "from sklearn.ensemble import ExtraTreesClassifier\n",
    "from sklearn.model_selection import GridSearchCV\n",
    "from sklearn.pipeline import FeatureUnion\n",
    "from sklearn.metrics import classification_report, confusion_matrix\n",
    "\n",
    "import pandas as pd\n",
    "import xgboost, numpy, string\n",
    "import numpy as np\n",
    "import re\n",
    "from collections import Counter, defaultdict\n",
    "from scipy.sparse import hstack\n",
    "import gensim\n",
    "from gensim.models.word2vec import Word2Vec\n",
    "\n",
    "from keras.preprocessing import text, sequence\n",
    "from keras import layers, models, optimizers\n",
    "\n",
    "#import shorttext\n",
    "import matplotlib.pyplot as plt\n",
    "from pandas_ml import ConfusionMatrix\n",
    "%matplotlib inline "
   ]
  },
  {
   "cell_type": "code",
   "execution_count": 2,
   "metadata": {
    "collapsed": true
   },
   "outputs": [],
   "source": [
    "import nltk\n",
    "import textblob"
   ]
  },
  {
   "cell_type": "code",
   "execution_count": 3,
   "metadata": {
    "collapsed": true
   },
   "outputs": [],
   "source": [
    "# load the dataset\n",
    "data = pd.read_csv('bbc-text.csv', encoding = 'ANSI')"
   ]
  },
  {
   "cell_type": "code",
   "execution_count": 4,
   "metadata": {
    "collapsed": false
   },
   "outputs": [
    {
     "data": {
      "text/html": [
       "<div>\n",
       "<style>\n",
       "    .dataframe thead tr:only-child th {\n",
       "        text-align: right;\n",
       "    }\n",
       "\n",
       "    .dataframe thead th {\n",
       "        text-align: left;\n",
       "    }\n",
       "\n",
       "    .dataframe tbody tr th {\n",
       "        vertical-align: top;\n",
       "    }\n",
       "</style>\n",
       "<table border=\"1\" class=\"dataframe\">\n",
       "  <thead>\n",
       "    <tr style=\"text-align: right;\">\n",
       "      <th></th>\n",
       "      <th>category</th>\n",
       "      <th>text</th>\n",
       "    </tr>\n",
       "  </thead>\n",
       "  <tbody>\n",
       "    <tr>\n",
       "      <th>0</th>\n",
       "      <td>tech</td>\n",
       "      <td>tv future in the hands of viewers with home th...</td>\n",
       "    </tr>\n",
       "    <tr>\n",
       "      <th>1</th>\n",
       "      <td>business</td>\n",
       "      <td>worldcom boss  left books alone  former worldc...</td>\n",
       "    </tr>\n",
       "    <tr>\n",
       "      <th>2</th>\n",
       "      <td>sport</td>\n",
       "      <td>tigers wary of farrell  gamble  leicester say ...</td>\n",
       "    </tr>\n",
       "    <tr>\n",
       "      <th>3</th>\n",
       "      <td>sport</td>\n",
       "      <td>yeading face newcastle in fa cup premiership s...</td>\n",
       "    </tr>\n",
       "    <tr>\n",
       "      <th>4</th>\n",
       "      <td>entertainment</td>\n",
       "      <td>ocean s twelve raids box office ocean s twelve...</td>\n",
       "    </tr>\n",
       "  </tbody>\n",
       "</table>\n",
       "</div>"
      ],
      "text/plain": [
       "        category                                               text\n",
       "0           tech  tv future in the hands of viewers with home th...\n",
       "1       business  worldcom boss  left books alone  former worldc...\n",
       "2          sport  tigers wary of farrell  gamble  leicester say ...\n",
       "3          sport  yeading face newcastle in fa cup premiership s...\n",
       "4  entertainment  ocean s twelve raids box office ocean s twelve..."
      ]
     },
     "execution_count": 4,
     "metadata": {},
     "output_type": "execute_result"
    }
   ],
   "source": [
    "# have a look on the text csv to find out the target feature\n",
    "data.head(5)"
   ]
  },
  {
   "cell_type": "code",
   "execution_count": 5,
   "metadata": {
    "collapsed": true
   },
   "outputs": [],
   "source": [
    "# def a text cleaning method\n",
    "def clean_text(text):\n",
    "    text = text.lower()\n",
    "    text = re.sub(r\"what's\", \"what is \", text)\n",
    "    text = re.sub(r\"\\'s\", \" \", text)\n",
    "    text = re.sub(r\"\\'ve\", \" have \", text)\n",
    "    text = re.sub(r\"can't\", \"can not \", text)\n",
    "    text = re.sub(r\"n't\", \" not \", text)\n",
    "    text = re.sub(r\"i'm\", \"i am \", text)\n",
    "    text = re.sub(r\"\\'re\", \" are \", text)\n",
    "    text = re.sub(r\"\\'d\", \" would \", text)\n",
    "    text = re.sub(r\"\\'ll\", \" will \", text)\n",
    "    text = re.sub(r\"\\'scuse\", \" excuse \", text)\n",
    "    text = re.sub('\\W', ' ', text)\n",
    "    text = re.sub('\\s+', ' ', text)\n",
    "    text = text.strip(' ')\n",
    "    return text"
   ]
  },
  {
   "cell_type": "code",
   "execution_count": 6,
   "metadata": {
    "collapsed": true
   },
   "outputs": [],
   "source": [
    "# clean the short abbreviation \n",
    "data['text'] = data['text'].map(lambda x : clean_text(x))"
   ]
  },
  {
   "cell_type": "code",
   "execution_count": 7,
   "metadata": {
    "collapsed": false
   },
   "outputs": [
    {
     "name": "stdout",
     "output_type": "stream",
     "text": [
      "['i', 'me', 'my', 'myself', 'we', 'our', 'ours', 'ourselves', 'you', \"you're\", \"you've\", \"you'll\", \"you'd\", 'your', 'yours', 'yourself', 'yourselves', 'he', 'him', 'his', 'himself', 'she', \"she's\", 'her', 'hers', 'herself', 'it', \"it's\", 'its', 'itself', 'they', 'them', 'their', 'theirs', 'themselves', 'what', 'which', 'who', 'whom', 'this', 'that', \"that'll\", 'these', 'those', 'am', 'is', 'are', 'was', 'were', 'be', 'been', 'being', 'have', 'has', 'had', 'having', 'do', 'does', 'did', 'doing', 'a', 'an', 'the', 'and', 'but', 'if', 'or', 'because', 'as', 'until', 'while', 'of', 'at', 'by', 'for', 'with', 'about', 'against', 'between', 'into', 'through', 'during', 'before', 'after', 'above', 'below', 'to', 'from', 'up', 'down', 'in', 'out', 'on', 'off', 'over', 'under', 'again', 'further', 'then', 'once', 'here', 'there', 'when', 'where', 'why', 'how', 'all', 'any', 'both', 'each', 'few', 'more', 'most', 'other', 'some', 'such', 'no', 'nor', 'not', 'only', 'own', 'same', 'so', 'than', 'too', 'very', 's', 't', 'can', 'will', 'just', 'don', \"don't\", 'should', \"should've\", 'now', 'd', 'll', 'm', 'o', 're', 've', 'y', 'ain', 'aren', \"aren't\", 'couldn', \"couldn't\", 'didn', \"didn't\", 'doesn', \"doesn't\", 'hadn', \"hadn't\", 'hasn', \"hasn't\", 'haven', \"haven't\", 'isn', \"isn't\", 'ma', 'mightn', \"mightn't\", 'mustn', \"mustn't\", 'needn', \"needn't\", 'shan', \"shan't\", 'shouldn', \"shouldn't\", 'wasn', \"wasn't\", 'weren', \"weren't\", 'won', \"won't\", 'wouldn', \"wouldn't\"]\n"
     ]
    }
   ],
   "source": [
    "# stopword is the most common used word which not have a particular meaning such as i, am, you, a...\n",
    "from nltk.corpus import stopwords\n",
    "from textblob import Word\n",
    "new_stopwords = stopwords.words('english')\n",
    "print(new_stopwords)"
   ]
  },
  {
   "cell_type": "code",
   "execution_count": 8,
   "metadata": {
    "collapsed": true
   },
   "outputs": [],
   "source": [
    "#lower case\n",
    "data['text'] = data['text'].apply(lambda x: \" \".join(x.lower() for x in x.split()))"
   ]
  },
  {
   "cell_type": "code",
   "execution_count": 9,
   "metadata": {
    "collapsed": true
   },
   "outputs": [],
   "source": [
    "##remove punctuation in each phrase such as comma, full stop mark and so on\n",
    "data['text'] = data['text'].str.replace('[^\\w\\s]','')"
   ]
  },
  {
   "cell_type": "code",
   "execution_count": 10,
   "metadata": {
    "collapsed": true
   },
   "outputs": [],
   "source": [
    "##stopwords removal  --- if you want to add stopwords in or remove stopwords out, you coould modify the stopwords array\n",
    "data['text'] = data['text'].apply(lambda x: \" \".join(x for x in x.split() if x not in new_stopwords))"
   ]
  },
  {
   "cell_type": "code",
   "execution_count": 11,
   "metadata": {
    "collapsed": true
   },
   "outputs": [],
   "source": [
    " ##Lemmatization, use textblob's lemmatize function to do the lenatization. eg: went -- go\n",
    "data['text'] = data['text'].apply(lambda x: \" \".join([Word(word).lemmatize() for word in x.split()]))"
   ]
  },
  {
   "cell_type": "code",
   "execution_count": 12,
   "metadata": {
    "collapsed": false
   },
   "outputs": [
    {
     "data": {
      "text/html": [
       "<div>\n",
       "<style>\n",
       "    .dataframe thead tr:only-child th {\n",
       "        text-align: right;\n",
       "    }\n",
       "\n",
       "    .dataframe thead th {\n",
       "        text-align: left;\n",
       "    }\n",
       "\n",
       "    .dataframe tbody tr th {\n",
       "        vertical-align: top;\n",
       "    }\n",
       "</style>\n",
       "<table border=\"1\" class=\"dataframe\">\n",
       "  <thead>\n",
       "    <tr style=\"text-align: right;\">\n",
       "      <th></th>\n",
       "      <th>category</th>\n",
       "      <th>text</th>\n",
       "    </tr>\n",
       "  </thead>\n",
       "  <tbody>\n",
       "    <tr>\n",
       "      <th>0</th>\n",
       "      <td>tech</td>\n",
       "      <td>tv future hand viewer home theatre system plas...</td>\n",
       "    </tr>\n",
       "    <tr>\n",
       "      <th>1</th>\n",
       "      <td>business</td>\n",
       "      <td>worldcom bos left book alone former worldcom b...</td>\n",
       "    </tr>\n",
       "    <tr>\n",
       "      <th>2</th>\n",
       "      <td>sport</td>\n",
       "      <td>tiger wary farrell gamble leicester say rushed...</td>\n",
       "    </tr>\n",
       "    <tr>\n",
       "      <th>3</th>\n",
       "      <td>sport</td>\n",
       "      <td>yeading face newcastle fa cup premiership side...</td>\n",
       "    </tr>\n",
       "    <tr>\n",
       "      <th>4</th>\n",
       "      <td>entertainment</td>\n",
       "      <td>ocean twelve raid box office ocean twelve crim...</td>\n",
       "    </tr>\n",
       "  </tbody>\n",
       "</table>\n",
       "</div>"
      ],
      "text/plain": [
       "        category                                               text\n",
       "0           tech  tv future hand viewer home theatre system plas...\n",
       "1       business  worldcom bos left book alone former worldcom b...\n",
       "2          sport  tiger wary farrell gamble leicester say rushed...\n",
       "3          sport  yeading face newcastle fa cup premiership side...\n",
       "4  entertainment  ocean twelve raid box office ocean twelve crim..."
      ]
     },
     "execution_count": 12,
     "metadata": {},
     "output_type": "execute_result"
    }
   ],
   "source": [
    "# after cleaning, let's see the dataset again\n",
    "data.head(5)"
   ]
  },
  {
   "cell_type": "code",
   "execution_count": 14,
   "metadata": {
    "collapsed": false
   },
   "outputs": [],
   "source": [
    "# split the dataset into training and validation datasets \n",
    "# Attach also labels for filter and predict later\n",
    "\n",
    "train_x, valid_x, train_y, valid_y = model_selection.train_test_split(data['text'], data['category'], test_size=0.3, random_state=17)"
   ]
  },
  {
   "cell_type": "code",
   "execution_count": 15,
   "metadata": {
    "collapsed": false
   },
   "outputs": [
    {
     "data": {
      "text/plain": [
       "sport            357\n",
       "business         352\n",
       "politics         290\n",
       "entertainment    279\n",
       "tech             279\n",
       "Name: category, dtype: int64"
      ]
     },
     "execution_count": 15,
     "metadata": {},
     "output_type": "execute_result"
    }
   ],
   "source": [
    "# see the target value distrubution \n",
    "train_y.value_counts()"
   ]
  },
  {
   "cell_type": "code",
   "execution_count": 35,
   "metadata": {
    "collapsed": false
   },
   "outputs": [],
   "source": [
    "# create a tokenizer from text\n",
    "#token = text.Tokenizer()\n",
    "#token.fit_on_texts(data['text'])\n",
    "#word_index = token.word_index\n",
    "#print(word_index)\n",
    "#print(token.word_counts)\n",
    "X, y = [], []\n",
    "text = data['text']\n",
    "label = data['category']\n",
    "text = text.to_frame()\n",
    "label = label.to_frame()\n",
    "text.to_csv('text.txt', header=None, index=None, sep=' ', mode='a')\n",
    "label.to_csv('label.txt', header=None, index=None, sep=' ', mode='a')\n",
    "\n"
   ]
  },
  {
   "cell_type": "code",
   "execution_count": 36,
   "metadata": {
    "collapsed": true
   },
   "outputs": [],
   "source": [
    "TRAIN_SET_x_PATH = \"text.txt\"\n",
    "TRAIN_SET_y_PATH = \"label.txt\"\n",
    "with open(TRAIN_SET_x_PATH, \"r\") as infile:\n",
    "    for line in infile:\n",
    "        # text = line.split(\"\\t\")\n",
    "        # texts are already tokenized, just split on space\n",
    "        # in a real case we would use e.g. spaCy for tokenization\n",
    "        # and maybe remove stopwords etc.\n",
    "        X.append(line.split())\n",
    "X= np.array(X)"
   ]
  },
  {
   "cell_type": "code",
   "execution_count": 37,
   "metadata": {
    "collapsed": true
   },
   "outputs": [],
   "source": [
    "with open(TRAIN_SET_y_PATH, \"r\") as infile:\n",
    "    for line in infile:\n",
    "        # text = line.split(\"\\t\")\n",
    "        # texts are already tokenized, just split on space\n",
    "        # in a real case we would use e.g. spaCy for tokenization\n",
    "        # and maybe remove stopwords etc.\n",
    "        y.append(line.split())\n",
    "y= np.array(y)"
   ]
  },
  {
   "cell_type": "code",
   "execution_count": 38,
   "metadata": {
    "collapsed": false
   },
   "outputs": [
    {
     "name": "stdout",
     "output_type": "stream",
     "text": [
      "[ ['\"tv', 'future', 'hand', 'viewer', 'home', 'theatre', 'system', 'plasma', 'high', 'definition', 'tv', 'digital', 'video', 'recorder', 'moving', 'living', 'room', 'way', 'people', 'watch', 'tv', 'radically', 'different', 'five', 'year', 'time', 'according', 'expert', 'panel', 'gathered', 'annual', 'consumer', 'electronics', 'show', 'la', 'vega', 'discus', 'new', 'technology', 'impact', 'one', 'favourite', 'pastime', 'u', 'leading', 'trend', 'programme', 'content', 'delivered', 'viewer', 'via', 'home', 'network', 'cable', 'satellite', 'telecom', 'company', 'broadband', 'service', 'provider', 'front', 'room', 'portable', 'device', 'one', 'talked', 'technology', 'ce', 'digital', 'personal', 'video', 'recorder', 'dvr', 'pvr', 'set', 'top', 'box', 'like', 'u', 'tivo', 'uk', 'sky', 'system', 'allow', 'people', 'record', 'store', 'play', 'pause', 'forward', 'wind', 'tv', 'programme', 'want', 'essentially', 'technology', 'allows', 'much', 'personalised', 'tv', 'also', 'built', 'high', 'definition', 'tv', 'set', 'big', 'business', 'japan', 'u', 'slower', 'take', 'europe', 'lack', 'high', 'definition', 'programming', 'people', 'forward', 'wind', 'advert', 'also', 'forget', 'abiding', 'network', 'channel', 'schedule', 'putting', 'together', 'la', 'carte', 'entertainment', 'u', 'network', 'cable', 'satellite', 'company', 'worried', 'mean', 'term', 'advertising', 'revenue', 'well', 'brand', 'identity', 'viewer', 'loyalty', 'channel', 'although', 'u', 'lead', 'technology', 'moment', 'also', 'concern', 'raised', 'europe', 'particularly', 'growing', 'uptake', 'service', 'like', 'sky', 'happens', 'today', 'see', 'nine', 'month', 'year', 'time', 'uk', 'adam', 'hume', 'bbc', 'broadcast', 'futurologist', 'told', 'bbc', 'news', 'website', 'like', 'bbc', 'issue', 'lost', 'advertising', 'revenue', 'yet', 'pressing', 'issue', 'moment', 'commercial', 'uk', 'broadcaster', 'brand', 'loyalty', 'important', 'everyone', 'talking', 'content', 'brand', 'rather', 'network', 'brand', 'said', 'tim', 'hanlon', 'brand', 'communication', 'firm', 'starcom', 'mediavest', 'reality', 'broadband', 'connection', 'anybody', 'producer', 'content', 'added', 'challenge', 'hard', 'promote', 'programme', 'much', 'choice', 'mean', 'said', 'stacey', 'jolna', 'senior', 'vice', 'president', 'tv', 'guide', 'tv', 'group', 'way', 'people', 'find', 'content', 'want', 'watch', 'simplified', 'tv', 'viewer', 'mean', 'network', 'u', 'term', 'channel', 'could', 'take', 'leaf', 'google', 'book', 'search', 'engine', 'future', 'instead', 'scheduler', 'help', 'people', 'find', 'want', 'watch', 'kind', 'channel', 'model', 'might', 'work', 'younger', 'ipod', 'generation', 'used', 'taking', 'control', 'gadget', 'play', 'might', 'suit', 'everyone', 'panel', 'recognised', 'older', 'generation', 'comfortable', 'familiar', 'schedule', 'channel', 'brand', 'know', 'getting', 'perhaps', 'want', 'much', 'choice', 'put', 'hand', 'mr', 'hanlon', 'suggested', 'end', 'kid', 'diaper', 'pushing', 'button', 'already', 'everything', 'possible', 'available', 'said', 'mr', 'hanlon', 'ultimately', 'consumer', 'tell', 'market', 'want', '50', '000', 'new', 'gadget', 'technology', 'showcased', 'ce', 'many', 'enhancing', 'tv', 'watching', 'experience', 'high', 'definition', 'tv', 'set', 'everywhere', 'many', 'new', 'model', 'lcd', 'liquid', 'crystal', 'display', 'tv', 'launched', 'dvr', 'capability', 'built', 'instead', 'external', 'box', 'one', 'example', 'launched', 'show', 'humax', '26', 'inch', 'lcd', 'tv', '80', 'hour', 'tivo', 'dvr', 'dvd', 'recorder', 'one', 'u', 'biggest', 'satellite', 'tv', 'company', 'directtv', 'even', 'launched', 'branded', 'dvr', 'show', '100', 'hour', 'recording', 'capability', 'instant', 'replay', 'search', 'function', 'set', 'pause', 'rewind', 'tv', '90', 'hour', 'microsoft', 'chief', 'bill', 'gate', 'announced', 'pre', 'show', 'keynote', 'speech', 'partnership', 'tivo', 'called', 'tivotogo', 'mean', 'people', 'play', 'recorded', 'programme', 'window', 'pc', 'mobile', 'device', 'reflect', 'increasing', 'trend', 'freeing', 'multimedia', 'people', 'watch', 'want', 'want\"']\n",
      " ['\"worldcom', 'bos', 'left', 'book', 'alone', 'former', 'worldcom', 'bos', 'bernie', 'ebbers', 'accused', 'overseeing', '11bn', 'â', '5', '8bn', 'fraud', 'never', 'made', 'accounting', 'decision', 'witness', 'told', 'juror', 'david', 'myers', 'made', 'comment', 'questioning', 'defence', 'lawyer', 'arguing', 'mr', 'ebbers', 'responsible', 'worldcom', 'problem', 'phone', 'company', 'collapsed', '2002', 'prosecutor', 'claim', 'loss', 'hidden', 'protect', 'firm', 'share', 'mr', 'myers', 'already', 'pleaded', 'guilty', 'fraud', 'assisting', 'prosecutor', 'monday', 'defence', 'lawyer', 'reid', 'weingarten', 'tried', 'distance', 'client', 'allegation', 'cross', 'examination', 'asked', 'mr', 'myers', 'ever', 'knew', 'mr', 'ebbers', 'make', 'accounting', 'decision', 'aware', 'mr', 'myers', 'replied', 'ever', 'know', 'mr', 'ebbers', 'make', 'accounting', 'entry', 'worldcom', 'book', 'mr', 'weingarten', 'pressed', 'replied', 'witness', 'mr', 'myers', 'admitted', 'ordered', 'false', 'accounting', 'entry', 'request', 'former', 'worldcom', 'chief', 'financial', 'officer', 'scott', 'sullivan', 'defence', 'lawyer', 'trying', 'paint', 'mr', 'sullivan', 'admitted', 'fraud', 'testify', 'later', 'trial', 'mastermind', 'behind', 'worldcom', 'accounting', 'house', 'card', 'mr', 'ebbers', 'team', 'meanwhile', 'looking', 'portray', 'affable', 'bos', 'admission', 'pe', 'graduate', 'economist', 'whatever', 'ability', 'mr', 'ebbers', 'transformed', 'worldcom', 'relative', 'unknown', '160bn', 'telecom', 'giant', 'investor', 'darling', 'late', '1990s', 'worldcom', 'problem', 'mounted', 'however', 'competition', 'increased', 'telecom', 'boom', 'petered', 'firm', 'finally', 'collapsed', 'shareholder', 'lost', '180bn', '20', '000', 'worker', 'lost', 'job', 'mr', 'ebbers', 'trial', 'expected', 'last', 'two', 'month', 'found', 'guilty', 'former', 'ceo', 'face', 'substantial', 'jail', 'sentence', 'firmly', 'declared', 'innocence\"']\n",
      " ['\"tiger', 'wary', 'farrell', 'gamble', 'leicester', 'say', 'rushed', 'making', 'bid', 'andy', 'farrell', 'great', 'britain', 'rugby', 'league', 'captain', 'decide', 'switch', 'code', 'anybody', 'else', 'involved', 'process', 'still', 'way', 'away', 'going', 'next', 'stage', 'tiger', 'bos', 'john', 'well', 'told', 'bbc', 'radio', 'leicester', 'moment', 'still', 'lot', 'unknown', 'andy', 'farrell', 'least', 'medical', 'situation', 'whoever', 'take', 'going', 'take', 'big', 'big', 'gamble', 'farrell', 'persistent', 'knee', 'problem', 'operation', 'knee', 'five', 'week', 'ago', 'expected', 'another', 'three', 'month', 'leicester', 'saracen', 'believed', 'head', 'list', 'rugby', 'union', 'club', 'interested', 'signing', 'farrell', 'decides', 'move', '15', 'man', 'game', 'move', 'across', 'union', 'well', 'belief', 'would', 'better', 'playing', 'back', 'least', 'initially', 'sure', 'could', 'make', 'step', 'league', 'union', 'involved', 'centre', 'said', 'well', 'think', 'england', 'would', 'prefer', 'progress', 'position', 'back', 'row', 'make', 'use', 'rugby', 'league', 'skill', 'within', 'forward', 'jury', 'whether', 'cross', 'divide', 'club', 'balance', 'struck', 'cost', 'gamble', 'option', 'bringing', 'ready', 'made', 'replacement\"']\n",
      " ...,\n",
      " ['\"rem', 'announce', 'new', 'glasgow', 'concert', 'u', 'band', 'rem', 'announced', 'plan', 'perform', '10', '000', 'scottish', 'fan', 'rescheduled', 'gig', 'band', 'play', 'dubbed', 'europe', 'biggest', 'tent', 'glasgow', 'green', 'tuesday', '14', 'june', 'forced', 'pull', 'concert', 'secc', 'glasgow', 'last', 'month', 'bassist', 'mike', 'mill', 'contracted', 'flu', 'fan', 'bought', 'ticket', 'original', '22', 'february', 'show', 'attend', 'rescheduled', 'concert', 'june', 'gig', 'act', 'warm', 'rem', 'open', 'air', 'concert', 'balloch', 'castle', 'country', 'park', 'bank', 'loch', 'lomond', 'four', 'day', 'later', 'promoter', 'regular', 'music', 'booked', 'glasgow', 'green', 'secc', 'available', 'suitable', 'date', 'mark', 'mackie', 'director', 'regular', 'music', 'said', 'fantastic', 'news', 'really', 'show', 'rem', 'commitment', 'scottish', 'fan', 'coming', 'back', 'glasgow', 'truly', 'unique', 'gig', 'rem', 'gig', 'kick', 'start', 'promise', 'memorable', 'summer', 'scottish', 'music', 'lover', 'grammy', 'award', 'winner', 'u2', 'play', 'hampden', '21', 'june', 'oasis', 'also', 'perform', 'national', 'stadium', 'glasgow', '29', 'june', 'coldplay', 'announced', 'concert', 'bellahouston', 'park', 'glasgow', '1', 'july', 'park', 'held', 'balado', 'near', 'kinross', '9', '10', 'july', 'ticketweb', 'secc', 'box', 'office', 'write', 'customer', 'bought', 'ticket', 'february', 'gig', 'asking', 'want', 'attend', 'new', 'show', 'bought', 'ticket', 'person', 'urged', 'return', 'point', 'purchase', 'anyone', 'cannot', 'make', 'concert', 'given', 'refund', 'cut', 'date', 'swapping', 'ticket', '1', 'april', 'remaining', 'go', 'sale', 'public\"']\n",
      " ['\"political', 'squabble', 'snowball', 'become', 'commonplace', 'argue', 'blair', 'brown', 'like', 'squabbling', 'school', 'kid', 'supporter', 'need', 'grow', 'stop', 'bickering', 'analysis', 'fact', 'get', 'wrong', 'child', 'fight', 'adult', 'solid', 'reason', 'even', 'trivial', 'argument', 'mature', 'protagonist', 'hard', 'stop', 'got', 'going', 'key', 'feature', 'endless', 'feud', 'everyone', 'agree', 'better', 'ended', 'everyone', 'want', 'last', 'word', 'participant', 'genuinely', 'want', 'row', 'stop', 'think', 'worth', 'prolonging', 'argument', 'tiny', 'bit', 'ensure', 'view', 'heard', 'successive', 'attempt', 'end', 'argument', 'last', 'word', 'ensure', 'argument', 'go', 'case', 'mr', 'blair', 'mr', 'brown', 'successive', 'book', 'published', 'ensuring', 'issue', 'never', 'die', 'participant', 'stupid', 'actually', 'individual', 'behaving', 'entirely', 'rationally', 'given', 'incentive', 'facing', 'indeed', 'even', 'piece', 'economic', 'theory', 'explains', 'nothing', 'obscure', 'post', 'neo', 'classical', 'endogenous', 'growth', 'theory', 'chancellor', 'quoted', 'ubiquitous', 'piece', 'game', 'theory', 'respectable', 'policy', 'wonk', 'familiar', 'often', 'referred', 'prisoner', 'dilemma', 'based', 'parable', 'much', 'told', 'economics', 'degree', 'course', 'sheriff', 'two', 'prisoner', 'story', 'go', 'two', 'prisoner', 'jointly', 'charged', 'heinous', 'crime', 'locked', 'separate', 'cell', 'sheriff', 'desperately', 'need', 'confession', 'least', 'one', 'provide', 'enough', 'evidence', 'convict', 'crime', 'without', 'confession', 'prisoner', 'get', 'minimal', 'sentence', 'trumped', 'charge', 'clearly', 'prisoner', 'best', 'strategy', 'keep', 'mouth', 'shut', 'take', 'short', 'sentence', 'clever', 'sheriff', 'idea', 'induce', 'talk', 'tell', 'prisoner', 'separately', 'confess', 'one', 'confess', 'let', 'crime', 'tell', 'confess', 'one', 'confess', 'get', 'life', 'prisoner', 'confronted', 'choice', 'best', 'bet', 'confess', 'partner', 'confess', 'get', 'completely', 'partner', 'confess', 'better', 'confess', 'ensure', 'get', 'life', 'result', 'course', 'prisoner', 'confess', 'sheriff', 'let', 'either', 'one', 'prisoner', 'individual', 'logic', 'behave', 'way', 'even', 'though', 'would', 'better', 'somehow', 'agreed', 'shut', 'worry', 'entirely', 'follow', 'look', 'google', '283', '000', 'entry', 'prisoner', 'dilemma', 'ramification', 'truly', 'captured', 'economist', 'last', 'couple', 'decade', 'parable', 'used', 'describe', 'situation', 'obvious', 'sensible', 'choice', 'taken', 'collectively', 'rational', 'choice', 'individually', 'behave', 'selfishly', 'cold', 'war', 'arm', 'race', 'example', 'classic', 'case', 'russia', 'america', 'would', 'better', 'arm', 'rather', 'lot', 'arm', 'long', 'want', 'arm', 'arm', 'race', 'ensues', 'result', 'individually', 'logical', 'decision', 'buy', 'arm', 'result', 'arm', 'level', 'high', 'economics', 'tell', 'u', 'prisoner', 'dilemma', 'unless', 'repeating', 'experience', 'many', 'time', 'hard', 'escape', 'perverse', 'logic', 'good', 'exhorting', 'people', 'stop', 'buying', 'arm', 'stop', 'arguing', 'incentive', 'encourage', 'carry', 'somehow', 'incentive', 'change', 'case', 'labour', 'party', 'believe', 'rift', 'blair', 'brown', 'camp', 'bad', 'report', 'suggest', 'solomon', 'wisdom', 'need', 'deployed', 'solve', 'problem', 'every', 'parent', 'know', 'ingenious', 'solution', 'argument', 'solution', 'affect', 'incentive', 'participant', 'example', 'famous', 'rule', 'one', 'divide', 'chooses', 'way', 'allocating', 'piece', 'cake', 'sliced', 'greedy', 'child', 'case', 'apparently', 'endless', 'argument', 'want', 'come', 'end', 'ensure', 'person', 'last', 'word', 'one', 'loses', 'rather', 'one', 'win', 'row', 'cost', 'prolonging', 'row', 'even', 'one', 'briefing', 'one', 'book', 'matter', 'exceed', 'benefit', 'last', 'word', 'getting', 'point', 'rest', 'party', 'enforce', 'protagonist', 'retreating', 'pretty', 'quickly\"']\n",
      " ['\"souness', 'delight', 'euro', 'progress', 'bos', 'graeme', 'souness', 'felt', 'newcastle', 'never', 'really', 'danger', 'going', 'uefa', 'cup', 'heerenveen', 'early', 'goal', 'followed', 'alan', 'shearer', 'strike', 'earned', '2', '1', 'win', 'place', 'uefa', 'cup', 'last', '16', 'obviously', 'winning', 'first', 'leg', 'gave', 'u', 'great', 'advantage', 'said', '4', '2', 'aggregate', 'victory', 'got', 'goal', 'early', 'mind', 'player', 'job', 'done', 'got', 'goal', 'perhaps', 'made', 'u', 'bit', 'nervous', 'shearer', 'goal', 'moved', 'within', '12', 'jackie', 'milburn', 'club', 'scoring', 'record', '200', 'magpie', 'souness', 'said', 'think', 'beating', 'record', 'would', 'bearing', 'decision', 'retire', 'end', 'season', 'think', 'got', 'year', 'would', 'want', 'stay', 'next', 'year', 'anyway', 'added', 'struck', 'ball', 'well', 'always', 'done', 'think', 'power', 'pace', 'beat', 'goalkeeper', 'souness', 'also', 'paid', 'tribute', 'laurent', 'robert', 'heart', 'much', 'united', 'attacking', 'play', 'first', 'half', 'really', 'well', 'everything', 'want', 'wide', 'player', 'future', 'please', 'said\"']]\n",
      "[['tech']\n",
      " ['business']\n",
      " ['sport']\n",
      " ..., \n",
      " ['entertainment']\n",
      " ['politics']\n",
      " ['sport']]\n"
     ]
    }
   ],
   "source": [
    "print(X)\n",
    "print(y)"
   ]
  },
  {
   "cell_type": "code",
   "execution_count": 39,
   "metadata": {
    "collapsed": false
   },
   "outputs": [
    {
     "name": "stdout",
     "output_type": "stream",
     "text": [
      "['said', 'year', 'mr', 'would', 'also', 'people', 'new', 'one', 'u', 'time', 'could', 'game', 'â', 'last', 'first', 'two', 'say', 'world', 'government', 'film', 'company', 'make', 'uk', 'firm', 'best', 'get', 'like', 'told', '1', 'back', 'number', 'service', 'take', 'month', 'made', 'way', 'music', 'many', 'three', 'country', 'market', 'player', 'set', '000', 'party', 'week', 'next', 'labour', 'well', 'show', 'bbc', '2', 'home', 'election', 'day', 'minister', 'want', 'sale', 'win', 'added', 'go', 'good', 'work', 'second', 'plan', 'million', 'right', 'may', 'technology', 'think', 'come', 'mobile', 'play', '6', 'going', 'group', 'part', 'still', '2004', 'much', 'phone', 'england', 'top', 'since', 'see', 'award', '3', 'use', 'high', 'report', 'blair', 'need', 'tax', 'public', '10', 'european', '4', 'system', 'british', 'end', 'tv', '5', 'five', 'used', 'however', 'news', 'cost', 'share', 'record', 'expected', 'price', 'old', 'four', 'put', 'even', 'director', 'tory', 'business', 'life', 'user', 'six', 'bank', 'net', 'deal', 'chief', 'already', 'place', 'economy', 'law', 'half', 'problem', 'growth', 'state', 'help', 'industry', 'london', 'issue', 'team', 'hit', 'star', 'brown', 'britain', 'former', 'computer', 'job', 'long', 'final', 'rate', 'money', 'thing', 'figure', 'third', '2005', 'according', 'club', 'move', 'based', 'change', 'know', 'decision', 'international', 'open', 'big', 'cut', 'network', 'point', 'look', 'europe', 'including', 'digital', 'side', 'offer', 'analyst', 'give', 'start', 'around', 'lord', 'consumer', 'court', 'claim', '7', 'economic', 'case', 'great', 'mean', 'called', '2003', 'really', 'match', 'future', 'another', 'office', 'executive', 'software', 'leader', 'security', 'action', 'wale', 'video', 'got', 'run', 'took', 'general', 'line', 'site', 'child', 'nation', 'rise', 'result', 'face', 'came', 'lot', 'website', 'better', 'information', 'spokesman', 'radio', 'france', 'medium', 'interest', 'howard', 'without', 'campaign', 'online', 'programme', 'president', 'united', 'real', 'national', 'call', 'despite', 'found', 'power', 'making', 'term', 'increase', 'far', 'minute', 'using', 'member', 'ireland', 'likely', 'woman', 'prime', 'data', 'title', 'role', 'seen', 'control', 'level', 'hope', 'saying', 'try', 'chance', 'given', 'taking', 'bill', 'able', 'away', 'foreign', 'every', 'china', 'le', 'internet', 'pc', 'become', 'lost', 'mp', 'biggest', 'pay', 'cup', 'oil', '20', 'although', 'december', 'quarter', 'left', 'playing', 'secretary', 'mail', 'house', 'whether', 'return', 'anti', 'man', 'past', 'later', 'research', 'hard', 'january', 'earlier', '12', 'e', 'early', 'policy', 'song', 'support', 'michael', 'attack', 'recent', 'rule', 'legal', 'due', 'budget', 'dollar', 'season', 'spending', 'played', 'champion', 'profit', 'eu', 'never', 'demand', 'card', 'key', 'performance', 'lead', 'important', 'little', '0', 'thought', 'working', 'strong', 'current', 'meeting', 'device', 'euro', 'american', 'went', 'official', 'chancellor', 'injury', 'major', 'believe', 'free', 'following', 'single', 'school', 'local', 'ahead', 'band', 'find', 'financial', 'must', 'microsoft', 'looking', 'currently', 'john', 'list', 'keep', 'union', '8', 'different', 'held', 'full', 'actor', 'david', 'something', 'south', 'let', 'statement', 'access', 'head', 'police', 'coach', 'event', '30', 'latest', 'm', 'act', 'sport', 'scotland', 'announced', 'series', 'charge', 'conservative', 'area', 'among', 'trade', 'movie', 'council', 'sunday', 'family', 'always', 'war', 'yet', 'centre', 'mark', 'low', 'manager', 'broadband', 'goal', 'personal', 'winning', 'hour', 'almost', 'virus', 'fan', 'talk', 'project', 'bid', 'vote', 'name', 'version', 'product', 'hold', '11', 'test', 'book', 'might', 'investment', 'include', 'search', 'ever', '9', 'aid', 'order', 'behind', 'ago', 'message', 'taken', '50', 'clear', 'sold', 'political', 'form', 'across', 'chairman', 'men', 'rather', 'getting', 'tony', 'released', 'dvd', '25', 'done', 'enough', 'content', 'victory', 'winner', 'album', 'oscar', 'file', 'concern', 'city', 'continue', 'march', 'needed', 'standard', 'customer', '100', 'trial', 'break', '18', 'monday', 'hand', 'comment', 'wednesday', 'rugby', 'tuesday', 'japan', 'least', 'beat', 'young', 'gadget', 'within', 'production', 'feel', 'account', 'coming', 'today', 'possible', 'available', 'common', 'huge', 'car', 'november', 'success', 'allow', 'forward', '15', 'program', 'chart', 'stock', 'williams', 'prize', 'warned', 'asked', 'close', 'main', 'february', 'competition', 'target', 'league', 'buy', 'friday', 'machine', 'chelsea', 'fund', 'development', 'running', 'drug', 'saturday', 'human', 'idea', 'india', 'total', 'global', 'debt', 'known', 'race', 'wanted', 'career', 'opportunity', 'cash', 'fall', 'street', 'web', 'choice', 'small', 'commission', 'apple', 'box', 'belief', 'proposal', 'several', 'live', 'committee', 'view', 'yukos', 'trying', 'speed', 'release', 'meet', 'fear', 'though', 'french', 'effort', 'recently', 'previous', 'saw', 'higher', 'health', '2001', 'question', 'black', 'sony', 'led', 'eight', 'picture', 'giant', 'short', 'agreed', 'fact', 'reported', 'launch', 'showed', 'evidence', 'iraq', 'age', 'turn', 'board', 'liberal', 'difficult', 'rose', 'football', 'community', 'position', 'york', 'others', 'failed', 'sir', 'stop', 'christmas', 'rival', 'agency', 'fourth', 'pressure', 'screen', 'television', 'stage', 'force', 'russian', 'late', '17', 'stand', 'popular', 'thursday', 'organisation', 'camera', 'image', 'nothing', 'co', 'maker', 'charles', 'democrat', 'annual', 'growing', 'instead', 'airline', 'september', 'lib', 'gaming', 'value', 'authority', 'received', '40', 'risk', 'cannot', 'drive', 'challenge', 'appeal', 'tour', 'voter', 'date', 'exchange', 'italy', 'conference', 'producer', 'sure', 'seven', 'boost', 'actress', 'ball', 'bos', 'jones', 'october', 'story', 'large', 'newspaper', 'singer', 'together', '16', 'love', 'summer', 'range', 'involved', 'liverpool', 'bit', 'parliament', 'paid', 'audience', 'moment', 'round', 'arsenal', 'denied', 'education', '2002', 'artist', 'survey', 'finance', 'fell', 'attempt', 'department', 'step', 'championship', 'africa', 'body', 'sector', 'double', 'weekend', 'feature', 'association', 'similar', 'special', 'extra', 'paul', 'launched', 'investor', 'australian', 'olympic', 'period', 'leading', 'university', 'pre', 'loss', 'opening', '13', 'sent', 'window', 'accused', 'worker', 'potential', 'largest', 'create', 'benefit', 'amount', 'judge', 'robert', 'gordon', 'pension', 'festival', 'ensure', 'remain', 'individual', 'ban', 'senior', 'manchester', 'started', 'track', '14', 'anything', 'night', 'quite', 'claimed', 'sell', 'dr', 'simply', '24', 'per', 'martin', 'germany', 'whole', 'speech', 'german', 'reason', 'fight', 'independent', 'threat', 'grand', 'provide', 'irish', 'favourite', 'revenue', 'host', 'west', 'nomination', 'model', 'process', 'poll', 'unit', 'squad', 'experience', 'either', 'immigration', 'helped', 'penalty', 'operation', 'blog', 'matter', 'battle', 'sign', 'contract', 'rock', 'scottish', 'generation', 'comedy', '2000', 'detail', 'wrong', 'scheme', 'reform', 'russia', 'situation', 'course', 'measure', 'press', 'effect', 'gave', 'bring', 'category', 'everyone', 'meanwhile', 'shot', 'included', 'bt', 'compared', 'parent', 'average', 'channel', 'credit', 'forced', 'bush', 'deficit', 'worked', 'quality', 'history', 'entertainment', 'fraud', 'admitted', 'focus', 'original', 'operator', 'console', 'source', 'private', 'impact', 'everything', 'defence', 'shareholder', 'add', 'named', 'export', 'response', 'via', 'peer', 'v', 'studio', 'criminal', 'poor', 'soon', '2006', 'robinson', 'energy', 'income', 'post', 'front', 'particularly', 'example', 'critic', 'happy', 'became', 'reach', 'download', 'turned', 'outside', 'store', 'forecast', 'america', 'stay', 'spent', 'brought', 'word', 'bought', 'tsunami', 'kennedy', 'friend', 'damage', 'agreement', 'staff', 'sound', 'remains', 'decided', 'raise', 'crime', 'whose', 'june', 'created', 'building', 'billion', 'ukip', 'expert', 'cross', 'debate', 'debut', 'concerned', 'speaking', 'often', 'shown', 'death', 'majority', 'widely', 'spend', 'student', 'connection', 'lower', 'tough', 'smith', 'pop', 'positive', 'spam', 'lawyer', 'australia', 'easy', 'selling', 'bad', 'doubt', 'economist', 'non', 'davis', 'indian', 'civil', 'ceremony', 'longer', 'training', 'revealed', 'field', 'confirmed', 'offered', 'signed', 'mike', 'air', 'google', 'andy', 'gone', '19', 'care', 'james', 'copy', 'captain', 'society', 'insisted', 'link', 'voice', 'kilroy', 'increased', 'april', 'roddick', 'trust', 'worth', 'confidence', 'r', 'build', 'protection', 'watch', 'code', 'alan', 'looked', '22', 'reached', 'leave', 'silk', 'study', 'north', 'disaster', 'aim', 'limit', 'officer', 'row', 'serious', 'defeat', 'previously', 'central', 'thousand', 'mini', 'heart', 'management', 'finding', 'fast', 'light', 'ray', 'designed', 'hollywood', 'station', 'nine', 'followed', 'paper', 'becoming', 'handset', 'madrid', 'social', 'affair', 'white', 'rest', 'allowed', 'road', 'ground', 'person', 'anyone', 'johnson', 'de', 'suggested', 'nominated', 'trading', 'spain', 'argued', 'chip', 'began', 'tool', 'probably', 'deutsche', 'opposition', 'east', 'met', 'english', 'nearly', 'ability', 'review', 'politics', 'moved', 'couple', 'felt', 'warning', 'address', 'magazine', 'wireless', 'campbell', 'brand', 'tell', 'bankruptcy', 'illegal', 'sort', 'wide', 'b', 'keen', 'fox', 'present', 'believed', 'park', 'ask', 'domestic', 'along', 'significant', 'property', 'pair', 'peter', 'expect', 'missed', '27', 'king', 'gold', 'premiership', 'red', 'fit', 'language', 'cabinet', 'victim', 'answer', 'activity', 'musical', 'dems', 'approach', 'offering', 'operating', 'viewer', 'definition', 'kind', 'ipod', 'seek', 'planning', 'giving', 'art', 'towards', 'boy', 'affected', 'blunkett', 'mind', '60', 'politician', 'save', 'actually', 'ruled', 'confident', 'slam', 'material', 'option', 'dropped', 'shadow', '5bn', 'fee', 'near', 'written', 'announcement', 'seat', 'owner', 'athens', 'theatre', 'engine', 'andrew', 'successful', 'kelly', 'drop', 'broadcast', 'seed', 'predicted', 'stake', 'aviator', 'send', 'supporter', 'particular', 'character', 'fair', 'asylum', 'portable', 'kept', 'fuel', '500', 'g', 'j', 'decade', 'commercial', 'ready', 'certainly', 'receive', 'wage', 'investigation', '28', 'especially', 'kick', 'zealand', 'spot', 'built', 'display', 'id', 'blue', 'richard', 'rising', 'backed', 'continued', 'ruling', 'suggests', 'thomas', 'design', 'raised', 'newcastle', 'someone', '21', 'golden', 'asia', 'described', 'produced', 'text', '200', 'starting', 'format', 'join', 'capital', 'japanese', 'tie', 'federal', 'appear', 'honour', 'clarke', 'highest', 'tackle', 'overall', 'gain', 'criticised', 'rejected', 'daily', 'controversial', 'speculation', 'planned', 'recovery', 'happen', 'chinese', 'drama', 'ex', 'lack', 'talking', 'guilty', 'fine', 'published', 'asset', 'taylor', 'cinema', 'facing', 'died', 'changed', 'george', 'terror', 'duty', 'august', 'supply', 'said\"', 'massive', 'tournament', 'indoor', 'beyond', 'separate', 'interview', 'follow', 'draw', 'travel', 'takeover', 'joined', 'understand', 'cause', 'considered', 'july', 'inquiry', 'inflation', 'athlete', 'condition', 'compete', 'happened', 'aimed', 'telecom', 'protect', 'spanish', 'adding', 'pretty', 'steve', 'buying', 'document', 'trend', 'progress', 'ticket', 'arm', 'closed', 'lose', 'asian', 'hoping', 'subject', 'voted', 'nintendo', 'improve', 'referee', 'strike', 'meant', 'saving', 'advantage', 'begin', 'developing', 'partner', 'gamers', 'developed', 'certain', 'difference', 'produce', 'eye', 'payment', 'academy', 'tried', 'carry', 'missing', 'stadium', 'type', 'introduced', 'writer', 'welsh', 'showing', 'green', 'ferguson', 'lion', 'journalist', 'retail', 'mac', 'panel', 'cable', '80', 'promise', 'earnings', 'ended', '5m', 'visitor', 'corporate', 'marketing', 'division', 'true', 'electronics', 'vice', '26', 'leicester', 'environment', 'strategy', 'score', 'responsibility', 'unlikely', 'avoid', 'traffic', 'capacity', 'serve', 'promised', '1bn', 'region', 'greater', 'read', 'patent', 'appeared', 'unveiled', 'living', 'tim', 'decide', 'visit', 'starring', 'straight', 'scene', 'loan', 'picked', 'limited', 'existing', 'includes', 'fellow', 'seems', 'straw', 'quickly', 'gerrard', '23', 'poster', 'room', 'sky', 'direct', 'suspended', 'refused', 'relief', 'onto', '45', 'hunt', 'hunting', 'spyware', 'la', 'interested', 'secure', 'developer', 'factor', 'striker', '3g', 'page', '1997', 'favour', 'dem', 'paris', 'suffered', 'baby', 'auction', 'moving', 'edinburgh', 'output', 'ambition', 'losing', '70', 'grow', 'relationship', 'increasingly', 'xbox', 'faster', 'proposed', 'alongside', 'unemployment', 'size', 'gm', 'poverty', 'vehicle', 'jackson', 'middle', 'expectation', 'flight', 'increasing', 'beginning', 'brother', 'writing', 'jamie', 'worldwide', 'lawsuit', 'consider', 'advice', 'opinion', 'food', '3bn', 'crowd', 'van', 'piracy', 'application', 'lse', 'putting', 'sullivan', 'proved', 'hospital', 'owned', 'agree', 'waiting', 'holding', 'trouble', 'housing', 'deliver', 'culture', 'justice', 'reduce', 'space', 'deputy', 'manufacturing', 'technical', 'edward', 'stone', 'adult', 'communication', 'legislation', '31', 'falling', 'harry', 'broken', 'helping', 'candidate', 'continuing', 'charity', 'super', 'minimum', 'scored', 'alone', 'responsible', 'entry', 'skill', 'cardiff', 'finished', 'appearance', 'editor', 'obviously', 'northern', 'driven', 'tennis', 'issued', 'us', 'talent', 'style', 'reserve', 'estimated', 'italian', 'replacement', 'argentina', 'estimate', 'inside', 'african', 'dominated', 'bigger', 'suspect', 'clearly', 'born', 'stephen', 'insurance', 'initiative', 'label', 'index', 'touch', 'failure', 'simple', 'foot', 'gas', 'gazprom', 'urged', 'transport', 'glazer', 'knew', 'birmingham', 'los', 'spokeswoman', 'fifth', 'guy', 'slow', 'cutting', 'cover', 'simon', 'hoped', 'twice', 'morgan', 'hip', 'critical', 'door', 'athletics', 'else', 'morning', 'complaint', 'telephone', 'pace', 'medal', 'electronic', 'natural', 'memory', 'laptop', 'funding', 'miss', 'powerful', 'vital', 'smaller', 'brian', 'fiat', 'faced', 'crucial', 'urban', 'san', 'currency', 'replace', 'pas', 'sentence', 'terrorism', 'sense', 'develop', 'employee', 'presented', 'lee', 'reporter', 'population', 'cap', 'voting', 'handed', 'shop', 'bond', 'sharing', 'perhaps', '90', 'milburn', 'continues', 'decline', 'leadership', 'cell', 'science', 'respect', 'accept', 'spread', 'jump', 'completely', 'watchdog', 'surprise', 'claiming', 'caused', 'traditional', 'hewitt', 'fi', 'owen', 'fly', 'arrest', '35', 'task', 'concert', 'citizen', 'setting', 'self', 'paying', 'solution', 'easier', '4bn', 'worry', 'boerse', 'domain', 'session', 'chris', 'unless', 'heard', 'throughout', 'terrorist', 'prince', 'failing', 'worst', 'linked', 'questioned', '1999', 'offence', 'cent', 'fighting', 'olympics', 'turkey', 'allegation', 'finally', 'bringing', 'downing', 'reuters', 'korea', 'prevent', 'filed', 'father', 'improving', 'mourinho', 'parliamentary', 'aware', 'seeing', 'queen', 'briton', 'prison', 'accepted', 'nominee', 'browser', 'land', 'mortgage', 'wing', 'photo', 'broke', 'quit', 'committed', 'holmes', 'documentary', 'angeles', 'commitment', 'basic', 'camp', 'classic', 'managed', 'hundred', 'approval', 'suggest', 'treasury', 'strength', 'wait', 'fully', 'monthly', 'basis', 'robot', 'hop', 'muslim', 'ian', 'tipped', 'ibm', 'storage', '6bn', 'hotel', 'manifesto', 'provider', 'older', 'multimedia', 'initially', 'push', 'nadal', 'seeking', 'administration', 'evening', 'wrote', 'absolutely', 'monitor', 'ten', 'celebrity', 'contest', 'class', 'mass', 'immediately', 'criticism', 'amid', 'murder', 'kenteris', 'henry', 'malicious', 'broadcaster', 'ebbers', 'scott', 'steven', 'passed', 'jason', 'carried', 'william', 'returned', 'practice', 'gmt', 'fallen', 'grew', 'thinking', 'creating', 'dead', 'alleged', 'behaviour', 'glasgow', 'chosen', 'transfer', 'impressive', '8bn', 'semi', 'follows', 'pledged', 'fantastic', 'royal', 'remained', 'easily', 'episode', 'handheld', 'improved', 'colleague', 'modern', 'expensive', 'household', 'border', 'mistake', 'hearing', 'influence', 'treatment', 'rosneft', 'supporting', 'factory', 'highly', 'com', 'doping', 'graphic', 'tech', 'discus', 'watching', 'worldcom', 'fa', 'matt', 'cast', 'opera', 'slightly', 'fresh', 'sending', 'effectively', 'hill', '1998', 'expects', 'musician', 'discussion', 'century', 'listen', 'allowing', 'manufacturer', 'prepared', 'leaving', 'greek', 'providing', 'reality', 'recorded', '1m', 'attention', 'finish', 'specific', 'contribution', 'innovation', 'professional', 'd', 'iaaf', 'regulator', 'yugansk', 'minority', 'pick', 'robbie', 'lewis', 'lie', 'drawn', 'maybe', 'considering', 'ran', 'roger', 'turning', 'creative', 'jack', 'commissioner', 'surprised', 'colour', 'resource', 'institute', 'leg', 'novel', '29', 'israel', 'imf', 'prosecutor', 'trip', 'movement', 'sydney', 'mid', 'achieved', 'yen', 'provided', 'remaining', 'closer', 'core', 'charged', 'retailer', 'overseas', 'improvement', 'jose', 'regulation', 'stronger', 'retirement', 'wall', 'scandal', '\"u', 'joint', 'argument', 'foxx', 'employer', 'extremely', 'server', 'disappointing', 'fun', 'arrested', 'struggling', 'beating', 'soul', 'profile', 'competitive', 'driving', 'scale', 'assembly', '2bn', 'piece', 'package', 'agenda', 'eventually', 'marathon', 'gara', 'gap', 'runner', 'female', 'freedom', 'yahoo', 'hd', 'happens', '4m', 'pushed', 'creditor', 'seem', 'pledge', 'achievement', 'pound', 'block', 'dance', 'complete', 'jonathan', 'introduce', 'prospect', 'researcher', 'element', 'waste', 'write', 'sri', 'corner', 'kevin', 'backing', 'mp3', 'bath', 'worried', 'jail', 'reading', 'signal', 'hodgson', 'sixth', 'rating', 'passenger', 'trillion', 'incident', 'explained', 'california', 'opened', 'attorney', 'statistic', 'federation', 'author', 'affect', 'drink', 'choose', 'direction', 'patient', 'safety', '34', 'useful', 'sec', 'agent', 'employment', 'interactive', 'wi', 'detailed', 'sequel', 'directed', 'famous', 'performed', 'banking', 'alliance', 'veteran', 'regular', 'settlement', 'playstation', 'federer', 'alex', 'globe', 'founder', 'celtic', 'ranger', 'son', 'clean', 'c', 'bell', 'danger', 'advance', 'listing', 'letter', 'correspondent', 'island', 'organiser', 'thanou', 'collection', 'elected', 'sister', 'winter', 'emerged', 'base', 'greatest', 'downloaded', 'mtv', 'appears', 'chamber', 'swiss', '75', 'clash', 'asking', 'p', 'competing', 'ministry', 'water', 'possibility', 'teacher', '100m', 'yard', 'barcelona', 'worse', 'delivered', 'client', 'tom', 'raising', 'contact', 'secret', 'aged', 'crisis', 'optimistic', 'hugely', 'audio', 'killed', 'donation', 'banned', 'shared', '300', 'encourage', '800m', 'fed', 'edge', 'murray', 'larger', 'pro', 'hear', 'welcomed', '1980s', 'prove', '1994', 'effective', 'constitution', 'remember', 'wenger', 'angel', 'parry', 'mci', 'younger', 'suit', 'recording', 'distance', 'ring', 'acting', 'vision', 'henman', 'calling', 'crude', 'wife', 'definitely', 'managing', 'processor', 'clive', 'alternative', 'brit', 'reduced', 'intel', 'attend', 'purchase', 'negotiation', 'woodward', 'blogger', 'essential', 'weak', 'variety', 'physical', 'split', 'dutch', 'rap', 'usually', 'stability', 'republic', 'controversy', 'cheaper', 'directly', 'satellite', 'advertising', 'false', 'signing', 'beaten', '8m', 'campaigning', 'western', 'wimbledon', 'venture', 'infected', 'delighted', 'wish', 'perform', 'protest', 'risen', 'associated', 'intention', 'phil', 'wasp', 'lift', 'injured', 'pitch', 'print', 'fastest', 'nuclear', 'military', 'safe', 'oliver', 'christian', 'buyer', 'desktop', 'plus', 'industrial', 'sprinter', '200m', '32', 'allows', 'everton', 'sheffield', 'frank', 'holiday', 'distribution', 'collins', 'stuff', 'desire', 'hopefully', 'quick', 'structure', 'assistant', 'intended', 'wider', 'expansion', 'deep', 'willing', 'pocket', 'expressed', 'contrast', 'driscoll', 'controlled', 'dismissed', 'peace', 'environmental', 'plant', 'sometimes', 'creation', 'enter', 'drake', 'pointed', 'theme', 'library', '7m', 'speak', 'breaking', 'boeing', 'plane', 'compensation', 'fake', 'accounting', 'medical', 'balance', 'pack', 'headline', 'announce', 'heavy', 'learn', 'interesting', 'completed', 'recognise', 'l', 'vodafone', 'bar', '60m', 'producing', 'st', 'constituency', 'slowdown', 'blamed', 'determined', 'defended', 'graham', 'targeted', 'broadcasting', 'exactly', 'outstanding', 'sharp', 'vera', 'platform', 'wave', 'thompson', 'wilson', 'train', 'friendly', 'elvis', 'fiscal', 'borrowing', 'item', '1990s', 'telling', 'stressed', 'replaced', 'focused', 'motor', 'merger', 'bridge', 'exciting', 'changing', 'capable', 'foundation', 'psp', 'nice', 'cheap', 'representative', 'relation', 'henson', 'ross', 'indonesia', 'thanks', 'mother', 'earned', 'upon', 'standing', 'davy', 'defender', 'itunes', 'handle', 'airport', 'conte', 'p2p', 'holder', 'flying', 'feeling', 'owns', 'barrel', '48', 'purpose', 'shut', 'totally', 'abuse', 'prosecution', 'everybody', 'electoral', 'principle', '2007', 'disappointed', 'check', '7bn', 'steel', 'stopped', 'doctor', 'reader', 'ballot', 'originally', 'rich', 'lanka', 'respond', 'dispute', 'obvious', 'construction', 'weapon', 'table', 'abroad', 'rumour', 'enjoyed', 'walk', 'dublin', 'sideways', 'dallaglio', 'recognised', 'whatever', 'knee', 'organised', 'closely', 'delay', 'popularity', 'halo', 'cope', 'unable', 'defend', 'scorsese', 'suffering', 'fixed', 'crown', 'learning', 'foster', '65', 'sun', 'visa', 'scrum', 'flanker', 'hardware', 'gdp', 'phillips', 'forum', 'suggestion', 'relatively', 'bafta', 'granted', 'keeping', 'nokia', 'male', 'shock', 'prescott', 'leigh', 'opponent', 'milan', 'radcliffe', 'downloads', 'complex', 'trick', 'hiv', 'advert', 'pushing', 'request', 'switch', 'highlight', 'placed', 'southampton', 'westminster', 'canada', 'partly', 'lowest', 'multi', 'proper', '150', 'enjoy', 'pulled', 'instance', '250', 'infrastructure', 'fire', 'wine', 'rover', 'priority', 'battery', 'rapper', 'genre', 'girl', 'article', 'import', 'blow', '2008', 'sub', 'spammer', 'disc', 'southern', 'jewish', 'attacked', 'drinking', 'lock', 'copyright', 'cd', 'campaigner', 'conducted', 'swank', 'identity', 'function', 'gate', 'declared', 'weather', 'carrier', '36', 'opposed', 'necessary', 'remark', 'speaker', 'prompted', 'intelligence', 'indeed', 'becomes', 'sensitive', 'church', 'presenter', 'settle', 'dedicated', 'pupil', 'hurt', 'violence', 'conflict', 'apart', 'related', 'required', 'normal', '400', 'houston', 'murphy', 'joining', 'resolution', 'mate', 'gun', 'ownership', 'attacking', 'linux', 'benitez', 'computing', 'bellamy', 'reaching', 'wonder', 'hero', 'fortune', 'quoted', 'dog', '000m', 'animal', 'bittorrent', 'recorder', 'adam', 'capability', 'leeds', 'express', 'spring', 'autumn', 'listed', 'cold', 'threatened', 'reducing', 'shape', 'gig', 'liberty', 'dean', 'yes', 'section', 'subscriber', 'occasion', 'bet', 'comeback', 'reportedly', 'recover', 'davenport', 'ethnic', 'earn', 'kong', 'combined', 'whilst', 'ruddock', 'tourist', 'tag', 'established', 'automatically', 'remove', 'eastwood', 'pull', 'charlie', 'town', 'corporation', 'entire', 'approved', 'tend', 'forsyth', 'topped', 'neither', 'badly', 'lab', 'ferdinand', 'facility', 'breakthrough', 'pensioner', 'note', 'un', 'achieve', 'kicking', 'status', 'sex', 'commerce', 'keeper', 'seemed', 'vast', 'upgrade', 'outlook', 'bob', 'vulnerable', 'staunton', 'gary', 'jeeves', 'referendum', 'gathered', 'ordered', 'tactic', 'equity', 'disease', 'genuine', 'breach', 'cole', 'closing', 'dicaprio', 'diary', 'hughes', 'detention', 'year\"', 'pleased', 'hole', 'ons', 'hot', 'duo', 'earning', '800', 'trophy', 'professor', 'equipment', 'summit', 'therefore', 'declined', 'acquisition', 'ally', 'n', 'tobacco', 'rupee', 'daughter', 'khodorkovsky', 'highlighted', 'thank', 'largely', 'ink', 'dj', 'letwin', 'testing', 'texas', 'pilot', 'square', 'represent', 'joss', 'rooney', 'excellent', 'potentially', 'ea', 'brazil', 'initial', 'legitimate', 'laser', 'ce', 'struck', 'wilkinson', 'collapse', 'reputation', 'potter', 'subscription', 'invest', 'hosted', 'simpson', 'marsh', 'praised', 'additional', 'gained', 'afford', 'w', 'tight', 'capt', 'provides', 'route', 'regularly', 'sum', 'properly', 'driver', 'perfect', 'institution', '\"uk', 'tribute', 'mainstream', 'wild', 'letting', 'welcome', 'rural', 'entirely', 'euronext', 'method', 'casino', 'bomb', 'agassi', 'apologise', 'climate', 'tribunal', 'pirated', 'ultimately', 'premier', 'racist', 'ordinary', 'activist', 'secured', 'bench', 'regime', 'moya', 'grown', 'background', 'efficient', 'thailand', 'detainee', 'suspension', 'taxpayer', 'returning', 'lending', 'solid', 'scot', 'grant', 'seriously', 'tested', 'maintain', 'illegally', 'competitor', 'extend', 'aspect', 'headed', 'desperate', 'wanting', 'encouraging', 'seventh', 'boosted', 'premium', 'hi', 'triple', 'delta', 'understanding', 'souness', 'margin', 'struggle', 'awarded', 'worm', 'usual', 'virtual', 'succeed', 'truth', 'regional', 'mary', 'forget', 'kid', 'boom', 'stepped', 'mouse', 'understood', 'anniversary', 'sought', 'ad', 'x', 'error', 'addition', 'licence', 'ensuring', 'proud', 'reject', 'refuse', 'caught', 'strongly', 'era', 'sued', 'goldsmith', 'bay', '42', '39', 'superb', 'carefully', '2010', 'reflects', 'universal', 'scheduled', '53', 'reduction', 'gartner', 'theft', 'comic', 'commit', 'u2', 'aircraft', 'stade', 'motion', 'update', 'tape', '\"blair', '43', 'telegraph', 'dream', 'thrown', 'delayed', 'cleared', 'fewer', 'ranking', 'democracy', 'cool', 'sweden', 'equal', 'arrived', 'fundamental', 'membership', 'argues', 'college', 'congress', 'insurer', 'spirit', 'prop', 'peel', 'aside', '600', 'publish', 'independence', 'argue', 'uefa', 'plenty', 'roll', 'prisoner', 'observer', 'recognition', 'knowledge', 'various', 'jet', 'lifted', 'latin', 'angry', 'transaction', 'visual', 'resort', 'relay', 'posted', 'damaging', 'immediate', 'disney', 'iran', 'entered', 'monetary', 'veritas', 'ballet', 'partnership', 'pleaded', 'norwich', 'swansea', '2m', 'discipline', 'nobody', 'officially', 'appropriate', 'hopeful', 'ease', 'emergency', 'proving', 'nature', 'receiving', 'subsidy', 'indicated', 'directive', 'registered', 'matthew', 'appointed', 'servant', 'h', 'douglas', 'recall', 'teenager', 'sue', 'ofcom', 'dramatic', 'auto', 'economics', 'miller', 'register', 'aiming', 'saved', 'shortlist', 'rapid', 'convention', 'gloucester', 'faith', 'flat', 'selected', 'hong', 'silver', 'poorest', 'sporting', 'predict', '44', 'nick', 'preparing', 'wonderful', 'ac', 'brazilian', 'defending', 'bmw', 'mart', 'slower', 'jury', 'divide', 'dubbed', 'entitled', 'heineken', 'dark', 'served', 'suffer', 'horse', 'importance', 'fired', 'wake', '3d', 'processing', 'downloading', 'hall', 'generally', 'reaction', 'select', 'sparked', 'suspicion', 'welfare', 'require', 'apply', 'switzerland', 'selection', 'retired', 'shake', 'ultimate', 'gross', 'invention', 'removed', 'ulster', 'subsidiary', 'dam', 'keane', 'remote', 'confidential', 'ben', 'argentine', 'happening', 'impossible', 'anywhere', 'jumped', 'elsewhere', '9m', 'supplier', 'smart', 'map', 'motorola', 'none', 'jean', 'chair', 'kate', 'dealing', 'scam', 'paula', 'airbus', 'outcome', 'sophisticated', 'hdtv', 'protected', 'alexander', 'g8', 'resigned', 'blu', 'promote', 'substantial', 'knocked', '38', 'berlin', 'peak', '55', 'rush', 'carlos', 'usa', 'bottom', 'kim', 'multiple', 'passion', 'publisher', 'monitoring', 'analysis', 'keyboard', 'ken', 'moore', 'discussed', 'involvement', 'scrutiny', 'treated', 'praise', 'mayor', 'gift', 'notice', 'enable', 'funded', 'tackling', 'prof', 'lewsey', 'midfielder', 'gavin', 'tait', 'kicked', 'insists', 'f', 'twickenham', 'constitutional', 'operate', 'engineering', 'chapter', 'orange', 'alicia', 'destruction', 'spoke', 'crash', 'chicago', 'atmosphere', 'lisbon', 'ass', '85', 'begun', 'trusted', 'jim', '37', 'blame', 'penny', 'normally', 'performing', 'safin', 'hide', 'frost', 'liam', 'shell', 'legend', 'represents', 'reveal', '1500m', 'saint', 'catholic', 'realise', 'palestinian', 'presley', 'betting', 'guarantee', '64', 'ebay', 'vega', 'branded', 'hidden', 'blackburn', 'triumph', 'hitting', 'virgin', 'lived', 'incredible', 'surface', 'lg', 'acknowledged', 'accident', 'rusedski', 'impressed', 'surrounding', 'investigating', 'overcome', 'struggled', 'ankle', 'mainly', '3m', '47', 'sensible', 'ill', 'resignation', 'conduct', 'apology', 'represented', 'departure', 'extended', 'shift', 'absence', 'suddenly', 'predicts', 'franz', 'chain', 'ukraine', 'requirement', 'combination', 'shane', 'publication', 'lover', 'aol', 'supported', 'lesson', 'disabled', 'yuganskneftegas', 'baikal', 'clark', 'anfield', 'contender', 'convicted', 'barrier', '33', 'delivery', 'suggesting', 'worrying', 'circumstance', 'dial', 'unfair', 'wright', 'watched', 'philip', 'alert', 'evans', 'promising', 'enormous', 'assault', 'shopper', 'ronaldo', 'odds', 'gardener', 'francisco', 'stolen', 'junk', 'xp', 'balco', 'barkley', 'dec', 'detained', 'silicon', 'wal', 'replay', 'reflect', 'bolton', 'villa', 'judgement', 'behalf', 'teenage', 'perfectly', 'jonny', 'brain', 'attitude', 'amazing', '52', 'operates', '6m', 'internal', 'spokesperson', 'parker', 'firefox', 'contained', 'adopted', 'discovered', 'cueto', 'widespread', 'journal', 'strategic', 'craig', 'unique', 'employ', 'corp', 'netherlands', 'telecommunication', 'combine', 'racing', 'governing', 'connor', 'attract', 'beijing', 'mixed', 'formal', 'component', 'scoring', 'negative', 'attracted', 'adviser', 'jupiter', 'expense', 'appointment', 'forthcoming', 'czech', 'harder', 'lycos', '1993', 'combat', 'shooting', '9bn', '400m', 'deeply', 'francis', 'blind', 'specialist', 'involving', 'hybrid', 'imelda', 'neil', 'toshiba', 'elderly', 'exhibition', 'prior', 'iraqi', 'da', 'mirza', 'upset', 'schedule', 'familiar', 'witness', 'tiger', 'boston', 'upbeat', 'quota', '35bn', 'timing', 'dubai', 'nicolas', 'equivalent', 'laboratory', 'possibly', 'ongoing', 'surge', 'fitness', 'impression', 'otherwise', 'advanced', 'venue', 'oaten', 'string', '56', 'husband', 'bruce', 'rome', 'metal', 'hurdle', 'stick', 'covered', 'technique', 'salary', 'representing', 'dealt', 'harm', 'smoking', 'percentage', 'launching', 'rely', 'motorcycle', 'gear', 'motivated', 'hilary', 'patch', 'preparation', 'consumption', 'heavily', 'ending', 'workforce', 'reward', 'globally', 'header', 'carmaker', 'screensaver', 'lifestyle', 'messaging', 'iron', 'falconer', 'draft', 'simonetti', 'spoken', 'gather', 'reconstruction', 'pattern', 'fail', 'wearing', 'compiled', 'featured', 'concept', 'tourism', 'closure', 'dawson', 'revolution', 'bnp', 'army', 'prefer', 'lane', 'charlton', 'festive', 'decent', 'eighth', 'afterwards', 'sustained', 'fought', '62', 'boss', 'headquarters', 'attachment', 'connected', 'starred', 'talented', 'dinner', 'snap', 'introduction', 'picking', 'challenging', 'mcconnell', 'privacy', 'serving', 'wto', 'malcolm', 'replacing', 'handling', 'jeremy', 'surgery', 'entering', 'rally', 'filing', 'repeatedly', 'hamstring', 'callaghan', 'visiting', 'turkish', 'assessment', 'killer', 'butler', 'jay', 'maria', 'spin', 'rarely', 'epic', 'fault', 'burden', 'audit', 'passport', 'soldier', 'performer', 'amazon', 'spider', 'winger', 'chat', 'bernard', 'somebody', 'killing', 'promotion', 'grammy', 'glad', 'featuring', 'prediction', 'succession', 'qualifying', 'carrying', 'nielsen', 'laporte', 'interface', 'eastern', 'presence', 'clint', 'screenplay', 'metre', 'israeli', 'islamic', 'fix', 'shopping', 'anybody', 'relative', 'aston', 'tottenham', 'warner', 'margaret', 'coverage', 'booked', 'tommy', 'historical', 'bear', 'nervous', 'scientist', 'suspected', 'concluded', 'contains', 'click', 'spell', 'listener', 'shoot', 'efficiency', 'swap', 'proof', 'rank', 'realised', 'earth', 'wedding', 'attended', 'stood', '50m', 'denies', 'guitarist', 'al', 'hotspot', 'barclays', 'cultural', 'convinced', 'trader', 'recession', 'mutual', 'luxury', 'brussels', 'midfield', 'joe', 'experienced', 'ignored', 'sight', 'soap', 'slot', 'profitable', 'johnny', 'encouraged', 'sea', 'inspired', 'dangerous', 'personally', 'robin', 'dent', 'volume', 'ford', 'habit', 'enterprise', 'gambling', 'applied', 'founded', 'skipper', 'terry', 'stuart', 'g7', '120', 'tune', 'encounter', 'guard', 'intervention', 'mile', 'pundit', 'allegedly', 'peston', 'counter', 'throw', 'wood', 'gb', 'withdraw', 'farmer', 'hardly', 'fashion', 'embargo', 'added\"', 'melbourne', 'mcilroy', 'distribute', 'exploit', 'gareth', 'collect', 'seller', 'korean', 'livingstone', 'samsung', 'refugee', 'aviation', 'moody', 'airway', 'phishing', 'regiment', 'uwb', 'guide', 'leaf', 'middlesbrough', 'utd', 'master', 'dan', 'somewhere', 'stance', 'pig', 'reference', 'damaged', 'upper', '46', '41', 'strategist', 'determination', 'consortium', '99', 'presidential', 'jimmy', 'junior', 'sacked', 'flow', 'consultant', 'knock', 'shortage', 'ups', 'spaniard', 'mercedes', 'formed', 'adventure', 'adaptation', 'contestant', 'explain', 'count', 'museum', 'boosting', 'manage', 'mikhail', 'joy', 'sitting', 'optimism', 'consultation', 'anger', 'nh', 'defeated', 'difficulty', 'slide', 'utility', 'freeze', 'chase', 'mcdonald', 'legally', '700', 'deserved', 'johansson', 'query', 'brilliant', 'equally', 'revised', 'ranging', 'screened', 'territory', 'gallas', 'ignore', 'unlike', '87', 'catch', 'bennett', 'steal', 'connect', 'stewart', 'degree', 'chose', 'insist', 'reasonable', 'giggs', 'wealth', 'fined', 'maximum', 'imposed', 'k', 'lucrative', 'leap', 'farm', 'magic', 'beer', 'awareness', 'cairn', 'innocent', 'stamp', 'andre', 'ericsson', 'stored', 'feud', 'printer', 'restructuring', 'hacker', 'parmalat', 'ham', 'portsmouth', '95', '1960s', '57', 'cancelled', 'deny', 'arrival', 'rafael', 'counterpart', 'fierce', 'heading', 'fbi', 'bandwidth', 'significantly', 'dip', 'egypt', 'restriction', 'zone', 'ship', 'informed', 'accessible', 'eurozone', 'regarding', '1995', 'heat', 'tiny', 'troubled', 'exercise', 'snow', 'idol', 'guideline', 'oxford', 'anticipated', 'affordable', 'raw', 'slipped', 'deserve', 'connell', 'doubled', 'guardian', 'impose', 'msn', 'consecutive', 'topping', 'rb', 'fiction', 'shortly', 'rebuild', 'millennium', 'typical', 'absolute', 'guantanamo', 'lleyton', 'blocking', 'reporting', 'serena', 'mention', 'expand', 'distributor', 'duff', 'tip', 'typically', 'cooper', 'goalkeeper', 'port', 'colin', 'singing', 'blockbuster', 'greece', 'victor', 'eddie', 'forgotten', 'unacceptable', 'medallist', 'cafe', 'alcohol', 'uncertainty', 'rebate', 'shocked', 'tale', 'bookmaker', 'fame', 'aaa', 'flaw', '49', 'iptv', 'napster', 'dividend', 'stayed', 'probe', 'conversion', 'explains', 'troop', 'lender', 'hp', 'persuade', 'bowl', 'commodore', 'policing', 'orchestra', 'palace', 'respectively', 'spur', 'animated', 'guidance', '51', 'hague', 'advocate', 'arrangement', 'severe', 'alastair', 'horror', '20th', '54', '1985', 'itv1', 'youngster', 'crack', 'installed', 'expecting', 'extent', 'strengthen', 'dozen', 'successive', 'aggressive', 'cautious', 'procedure', 'washington', 'copper', 'apparent', 'delivering', 'retire', 'glory', 'easterby', 'attempting', 'lopez', 'screening', 'halt', 'underground', 'booming', 'trio', 'cook', 'saudi', 'lansdowne', 'corry', 'unfortunately', 'commissioned', 'incentive', 'momentum', 'robben', 'substance', 'village', 'studying', 'andreas', 'extraordinary', 'nissan', 'ranked', 'passing', 'reliance', 'breakfast', 'rift', 'travelling', 'fairly', 'frankfurt', 'democratic', 'mission', 'shark', 'promoting', 'depth', 'die', 'thriller', 'bollywood', 'dragon', 'tariff', 'munster', 'similarly', 'meaning', 'truly', 'coalition', 'carroll', 'controlling', 'searching', 'recommended', 'doherty', 'rfid', 'comfortable', 'arguing', 'replied', 'carling', 'ocean', 'hank', 'rob', 'drew', 'sharply', 'mix', 'avoided', 'extending', 'moral', 'merge', 'mitsubishi', 'lindsay', 'lay', 'emerging', 'ear', 'successfully', 'honoured', 'gang', 'threatening', 'mood', 'married', 'supreme', 'disappointment', 'attempted', 'surplus', 'itv', 'deciding', 'circuit', 'generated', 'invited', 'quarterly', 'ed', 'byrne', 'possession', 'paterson', 'afternoon', 'newcomer', 'accurate', 'rebuilding', 'tremendous', 'singapore', 'fixture', 'morris', 'martyn', 'roy', 'politically', 'putin', 'retain', 'belgian', 'yuan', 'pirate', 'eve', 'cuba', 'stevens', 'apparently', 'influential', 'proportion', 'kuznetsova', 'tank', 'innovative', 'mexico', 'immigrant', 'nigel', 'qualified', 'exposure', 'fill', 'flexibility', 'volley', 'drogba', 'revival', 'agriculture', 'portal', 'gigabyte', 'weight', 'citigroup', 'investigate', 'prototype', 'sprint', 'juninho', 'marked', 'collected', 'morrison', 'icon', 'adoption', 'delegate', 'fuelled', 'abused', 'punishment', 'advised', 'secondary', 'ryan', 'settled', 'shall', 'conversation', 'sit', 'dominate', 'comedian', 'noon', 'active', '\"tory', 'consistently', '1987', 'generate', 'premiere', 'conspiracy', 'unity', 'mcletchie', 'bot', 'skype', 'quango', 'keynote', 'trafford', 'fulham', 'blackpool', 'wolf', 'january\"', 'remake', 'rid', 'pact', 'patrick', 'branch', 'remarkable', 'constantly', 'elite', 'greg', 'exit', 'warn', 'explosion', 'solve', 'marriage', 'pain', 'explorer', 'ie', 'publicly', 'extension', 'creator', 'confirm', 'renewed', 'bristol', 'sam', 'loose', 'slight', 'province', 'tension', 'religious', 'identify', 'weaker', 'oppose', 'historic', 'barry', 'conceded', 'mentioned', 'richest', 'recalled', 'marigny', 'discover', 'blogging', 'log', '500m', 'modest', 'jp', 'vowed', 'pakistan', 'bus', 'cry', 'river', 'unusual', 'olivier', 'implication', 'manuel', 'compulsory', 'hosting', 'surprising', 'warm', 'maternity', 'damien', 'disciplinary', 'offset', 'coast', 'releasing', 'evolution', 'drm', 'enemy', '10bn', 'directing', 'obligation', 'empire', 'mep', 'neverland', 'slowing', 'knight', 'complained', 'amongst', 'resolve', 'usher', '1970s', 'afghanistan', 'commentator', 'catalogue', 'florida', 'wayne', 'daniel', 'beautiful', 'resident', 'seeker', 'floor', 'ashley', 'tindall', 'tonne', 'enjoying', 'journey', 'tragedy', 'wasted', 'denial', 'el', 'clothing', 'mpc', 'interact', 'clothes', 'surely', 'correct', 'threshold', 'broker', 'estate', 'elli', 'midland', 'tear', 'biarritz', 'harrier', 'qualification', 'doom', 'rubbish', 'verizon', 'sundance', 'cabir', 'crystal', 'external', 'farrell', 'cambridge', 'alive', 'qantas', 'recovered', 'engage', 'manner', 'compare', '40m', 'holland', '\"mobile', 'stream', 'origin', '1983', 'twin', 'announcing', 'ice', 'routine', 'osbourne', 'admits', 'plot', 'district', 'siemens', 'nationwide', 'clock', 'walked', 'brings', 'sufficient', 'merit', 'sorry', 'tps', 'contacted', 'kaplan', 'sustainable', 'bonus', 'maintained', 'corruption', 'honest', 'careful', 'attractive', 'tel', 'footage', 'publicity', 'consistent', 'humphreys', 'norway', 'scare', 'reflected', 'khan', 'indication', 'pioneer', '233', 'noted', 'ambitious', 'weekly', 'discrimination', 'millan', 'carpet', 'february\"', 'tate', 'lampard', 'shaun', 'valued', 'chasing', 'staged', 'osprey', 'birthday', 'anthony', 'perception', 'traditionally', 'photograph', 'jobless', '72', 'violation', 'ideal', 'mcfadden', 'noise', 'suicide', 'interviewed', 'blanchett', 'bidding', 'offensive', 'binge', 'context', 'birth', 'designer', 'mm', 'integrity', 'chepkemei', 'eric', 'rare', 'fish', 'opted', 'kill', 'supposed', 'celebration', 'visited', 'responded', 'canadian', 'imagine', 'hub', 'fuller', 'satisfied', 'regulatory', 'harris', 'command', 'flash', 'allowance', 'backbencher', 'demanded', 'textile', 'outbreak', 'advisor', 'hang', 'chemical', 'boxing', 'scan', 'exist', 'firewall', 'mubanga', 'tycoon', 'unveil', 'vinci', 'hsdpa', 'cyprus', 'mda', 'pew', 'southcorp', 'csi', 'exeem', 'enhancing', 'questioning', 'collapsed', 'admission', 'forest', 'mine', 'seal', 'discovery', 'munich', 'clay', 'bail', 'rescue', 'administrator', 'premise', 'bates', 'withdrew', 'billed', 'creates', 'escape', 'mostly', 'appearing', 'intends', 'wholesale', 'perspective', 'temporary', 'zero', 'weakness', '\"labour', 'classroom', 'primary', 'lucky', 'stuck', 'drawing', 'consolidation', 'privatisation', 'yushchenko', 'atlantic', 'topic', 'vickery', 'drafted', 'orquera', 'tougher', 'landmark', 'youth', 'grid', 'jurisdiction', 'enthusiasm', 'hickie', 'stringer', 'qualify', 'rail', 'pub', 'qc', 'grewcock', '1984', 'rom', 'mill', 'mutu', 'costly', 'scrapped', 'schroeder', 'jerry', 'approached', 'lloyd', 'malaysia', 'threw', 'odd', 'bronze', 'wong', 'dame', 'nanny', 'avoiding', 'landed', 'afraid', 'reacted', 'deliberately', 'helen', 'winslet', 'withdrawal', 'dyer', 'challenged', 'taxation', 'lady', 'dropping', '1992', 'battled', 'location', 'personality', 'tomorrow', 'costume', 'aragones', 'arsene', 'biopic', 'qualifier', 'steroid', 'newly', 'arnold', 'resolved', 'landscape', 'boot', 'curry', 'eating', 'dating', 'apologised', 'emerge', 'lawrence', 'halifax', 'jacques', 'baa', 'cartridge', 'guest', 'busy', 'dancer', 'venezuela', 'agricultural', '74', 'postal', 'viewing', 'redknapp', 'nasdaq', 'grip', 'stress', 'concentrate', 'intent', 'neville', 'niro', 'greenspan', 'tracker', 'abc', 'almunia', 'leinster', 'televised', 'fockers', 'password', 'toulousain', 'talked', 'programming', 'inch', 'unknown', 'burnley', 'sunderland', 'derby', 'pm', 'learned', 'rain', 'violent', 'emotional', 'nazi', 'sluggish', 'opec', 'hemisphere', 'slowly', 'stem', 'withdrawn', 'argonaut', 'monster', '110', 'center', 'communicate', 'basically', 'donate', 'leonardo', 'clip', 'dy', 'script', 'luck', 'gaining', 'dancing', 'sharon', 'destroyed', 'deadline', 'urge', 'maintaining', 'consensus', 'radical', 'adjusted', '2009', 'prix', 'collaboration', 'requires', 'objective', 'turnover', 'treaty', 'moscow', 'nerve', 'kerr', 'accusing', 'reynolds', 'existence', 'soft', 'owed', 'separately', 'length', 'prepare', 'practical', 'mental', 'horgan', 'animation', 'upward', 'subsequent', 'sample', 'updated', 'god', 'emphasis', 'necessarily', 'edition', 'cancel', 'submit', 'expanding', 'reef', 'beckham', 'bone', 'petrol', 'responding', 'involve', 'protecting', 'depp', 'neck', 'identified', 'ec', 'lyric', 'laid', 'outdoor', 'megabit', 'principal', 'aviv', 'arbitration', 'permission', 'marvel', 'slump', 'finishing', 'proceeding', 'knife', 'sentenced', 'stern', 'veto', 'establish', 'electorate', 'cate', '77', 'countryside', '1989', 'keegan', 'consequence', 'abandoned', 'formally', 'bluetooth', '83', 'conviction', 'jailed', 'registration', 'seeded', 'copying', 'awesome', 'wembley', 'protocol', 'luscombe', 'gunner', 'switched', 'podcasting', 'listening', 'billboard', 'exposed', 'overwhelming', 'presidency', 'brief', 'lad', 'chartered', 'cbi', 'anderson', 'fannie', 'mae', 'excess', 'tuition', 'participation', 'blood', 'introducing', 'fails', 'poorer', 'bpi', 'wmc', 'gervais', 'straightforward', 'gameboy', 'marion', 'gene', 'bening', 'vivendi', 'instruction', 'hockney', 'qwest', 'cyber', 'mock', 'pause', 'wind', '11bn', 'brighton', 'hart', 'striking', 'pose', 'covering', 'murrayfield', 'shoulder', 'suitable', 'chronicle', 'intense', '67', 'frustrated', 'converted', 'enhance', 'tokyo', 'healthy', 'employed', 'expression', 'percent', 'fishing', 'russell', 'pole', 'excited', 'surfer', 'vocal', 'spitzer', 'plea', 'stanley', 'resign', 'turnout', 'daimlerchrysler', 'prompting', 'prestigious', '21st', 'scissor', 'composer', 'etc', 'diversity', 'genuinely', 'pursue', 'knowing', 'josh', 'provision', 'discount', 'robust', 'bergamasco', 'nitoglia', 'stroke', 'shelf', 'calculation', 'continental', 'email', 'install', 'phenomenon', 'soaring', 'shame', 'adapted', 'automatic', 'tradition', 'trevor', 'minor', 'hayes', 'menatep', 'divided', 'slowed', 'hantuchova', 'relevant', 'blast', 'steam', 'freeview', 'judged', '71', 'eminem', 'spark', 'pointing', 'gudjohnsen', 'consideration', 'filter', 'reddy', 'sweet', 'cohen', 'caribbean', 'specification', 'voiced', 'stated', 'defined', 'matched', 'kostas', 'editing', 'taste', 'demonstrated', 'intend', 'lying', 'causing', 'fictional', 'hinted', 'kinnock', 'enforcement', 'disappear', 'fantasy', 'walker', 'monopoly', 'targeting', 'ancram', 'hugh', 'acclaimed', 'rolling', 'sotherton', 'indoors', 'predicting', 'attraction', 'locked', 'dressing', 'metropolitan', 'conventional', 'cycle', '05', 'rubber', 'distributed', 'virginia', 'preliminary', 'abortion', 'contain', 'publishing', 'compromise', 'hunter', '\"brown', 'restaurant', 'height', '1991', 'baghdad', 'auditor', 'franchise', 'regard', 'technically', 'sm', 'jowell', 'bez', 'ira', 'implemented', 'surveyed', 'compliance', 'ongc', 'telewest', 'nbc', 'quinn', 'cea', 'showcase', 'prosperity', 'walter', 'firmly', '\"howard', 'ivan', 'ljubicic', 'cbs', 'hell', 'leaflet', 'marc', 'archive', 'burst', 'repayment', 'christopher', 'constant', 'suspend', 'surround', 'santa', 'lifetime', '1996', '1970', 'governor', 'titled', '2005\"', 'hendrix', 'unhappy', 'patrol', 'tense', 'bed', 'inappropriate', 'educational', 'relating', 'country\"', 'grab', 'arcy', 'bortolami', 'painkiller', 'enables', 'dual', 'elena', 'diverse', 'bug', 'blake', 'nevertheless', 'drag', '63', 'examine', 'frontline', 'technological', 'vladimir', 'describe', 'electricity', 'guitar', 'comparison', 'substitute', 'philippe', 'painting', 'z', 'ninth', 'game\"', 'consultancy', 'celebrate', 'beach', 'gateshead', 'blocked', 'thatcher', 'frozen', 'fifa', 'poorly', 'seafarer', 'safer', '102', 'loophole', 'postponed', 'filmed', 'financing', 'neath', 'focusing', 'shooter', 'earmarked', 'unclear', 'greene', 'gibson', '68', 'sustain', 'voip', 'katerina', 'explanation', 'tzekos', 'climbed', 'narrow', 'trail', 'custody', 'woolf', 'insisting', 'tomlinson', 'loved', 'yelling', '10th', 'compatriot', 'bidder', 'negotiate', 'drunk', 'georgia', 'substantially', 'exploration', 'anyway', 'sooner', 'restore', 'rivalry', 'dirty', 'priced', 'plastic', 'posed', 'photographer', 'den', 'endured', 'steady', 'citizenship', 'desperately', 'engineer', 'ba', 'yachvili', 'michalak', 'expanded', 'kerry', 'kenya', 'poland', 'carolina', 'unveils', 'default', 'licensed', 'meps', '59', 'spectator', 'strange', 'sophos', 'strict', 'prominent', 'coal', 'fat', 'valuable', 'enron', 'experiment', 'heathrow', 'grace', 'menu', 'fare', 'brando', 'cannes', 'kicker', 'sadly', 'mining', 'arena', 'morientes', 'permanent', 'traveller', 'uncertain', 'sarah', 'migrant', 'terrestrial', 'suprnova', 'org', 'supercomputer', 'eviction', 'jazz', 'reveals', 'viotti', 'tb', 'bloglines', 'reid', 'persistent', 'finalist', 'northampton', 'twelve', 'garcia', 'incredibly', 'lucas', 'evil', 'distributing', 'convert', 'illness', 'clearing', 'recipient', 'herald', 'intelligent', 'stepping', 'jon', 'succeeded', 'leary', 'thai', 'atp', 'contribute', 'preference', 'tap', 'carpenter', 'regarded', 'niche', 'ii', 'castle', 'engagement', 'resulted', 'eastenders', 'impress', 'dominance', 'reluctant', 'competitiveness', 'attendance', 'feared', 'disk', 'soviet', 'upcoming', 'specifically', 'stopping', 'trigger', 'associate', 'depend', 'scrap', 'dave', 'unison', 'mandelson', 'eternal', 'mathew', 'hogg', 'approve', 'voluntary', 'investing', 'columbia', '\"india', 'exact', 'underlying', 'digit', 'chest', '20bn', 'submitted', 'suing', '27bn', 'chunk', 'antonio', 'crew', 'jointly', 'cult', 'coaching', 'influenced', 'outrage', 'strongest', 'inclusion', 'broad', 'anymore', 'adopt', 'rent', 'racial', 'fogg', 'mcclaren', 'native', 'rapidly', 'rick', 'slip', 'cech', 'dunne', 'load', 'intellectual', 'csa', 'cruise', 'internationally', 'opener', 'scope', 'purchased', 'perry', 'gameplay', 'earthquake', 'netcraft', 'edged', 'dramatically', 'circle', 'megapixel', 'determine', 'everyday', 'toyota', 'snapped', '69', 'natalie', 'printed', 'mountain', 'paramount', 'safeguard', 'sunshine', 'repeat', '58', 'occurred', 'amendment', 'stunning', 'contributor', 'gprs', 'essex', '19th', 'dot', 'gallery', 'liked', 'susan', 'turner', 'resume', 'depending', 'romantic', 'continent', 'longest', 'devon', 'complain', 'kit', 'exploited', 'shanklin', 'clearance', 'nicholas', 'brewer', 'merrill', 'swapping', 'teaching', 'variant', '84', 'stable', 'scared', 'macintosh', 'levy', 'fletcher', 'tremor', 'richards', 'baroness', 'repeated', 'empty', 'toll', 'shaw', 'commodity', 'acquire', 'davos', 'strain', 'realistic', 'charging', 'circulating', 'landing', 'spectrum', 'deserves', 'battling', 'opposite', 'islam', 'kay', 'pompey', 'representation', 'anil', 'poppins', '50th', 'iranian', 'rio', 'finnish', 'austria', 'greeted', 'janet', 'edu', 'geoff', 'trojan', 'constable', 'fsa', 'bekele', 'rwanda', 'vieira', 'umaga', 'beattie', 'forensic', 'bjorn', 'plasma', 'instant', 'juror', 'rushed', 'saracen', 'raid', 'julia', 'predecessor', 'grabbed', 'legacy', 'brent', 'connors', 'survival', 'attributed', 'clicking', '73', '25m', 'dimension', 'demo', 'virtually', 'outlined', 'curfew', 'recruit', 'opt', 'tower', 'handing', '92', 'crowned', 'survived', 'privilege', 'marshall', 'donor', 'acceptable', 'threaten', 'accompanied', '82', 'drove', 'kapranos', 'lecture', 'thumb', 'destroy', 'jamieson', 'identification', '76', 'midnight', 'viktor', 'cited', 'calm', 'frederick', 'regret', 'clinton', 'browse', 'ntl', 'preferred', 'buzz', '\"microsoft', 'indonesian', 'enabled', 'submission', 'childcare', 'adapt', 'raced', 'wheel', 'regain', 'punished', 'evasion', 'denis', 'prosecuted', 'pakistani', 'incredibles', 'sand', 'reception', 'irb', 'governance', 'arabia', 'briefly', 'frustration', 'ronan', 'bow', 'sized', 'phase', 'solo', 'clijsters', 'skin', 'religion', 'terrible', 'exclusive', 'passage', '180', 'reflecting', 'qatar', 'quiet', 'sheet', 'preview', 'cunningham', 'involves', 'generic', 'freely', 'undermine', 'programmer', 'guess', 'nationality', 'kingdom', 'thierry', 'bound', 'zombie', 'zurich', 'unified', 'appealed', '4x100m', 'explore', 'foul', 'victoria', 'transmission', 'kent', 'ps2', 'webpage', 'unfortunate', 'frequently', 'bankrupt', 'duet', 'forcing', 'scholes', 'offender', 'life\"', 'investigated', 'concentrating', 'spotless', 'benchmark', 'formerly', 'demonstration', 'strengthened', 'disappeared', 'nottingham', 'anonymous', 'uniform', 'smoke', 'amsterdam', 'martinez', 'contemporary', 'spear', 'capture', 'walking', 'nistelrooy', 'motivation', 'max', 'extreme', 'barred', '66', 'sanction', 'promotional', 'storm', 'condemned', 'dempsey', 'disruption', 'guild', '1982', 'infection', '86', 'warrior', 'somewhat', 'symbol', 'unbeaten', 'telco', 'gradually', 'convincing', 'merged', 'teach', 'cautioned', 'keith', 'myskina', 'fernando', 'mario', 'licensing', 'extensive', 'clever', 'denmark', 'sean', 'flynn', 'superior', 'bulk', 'rogue', 'jamelia', 'hailed', 'transition', 'finest', 'wear', 'shrek', '1973', 'entrepreneur', 'shed', 'sentiment', '1979', 'handful', '300m', 'gregory', 'academic', 'chavez', 'icann', 'usage', 'outing', 'justified', 'respondent', 'hardest', 'pacific', 'neill', 'robson', 'blinkx', 'billionaire', 'polling', 'equality', 'emotion', 'telephony', 'filled', 'poised', 'sad', 'integral', 'gogh', 'stripped', 'graeme', 'simultaneously', 'admit', 'mpaa', 'referring', 'viacom', 'excluding', 'ferrero', 'spreading', '3gsm', 'pride', 'custom', 'lure', '1981', 'recycling', 'patenting', 'unaware', 'tci', 'valve', 'lehmann', 'galloway', 'busted', 'fightstar', 'tivo', 'pressing', 'exeter', 'brentford', 'county', 'trilogy', 'frustrating', 'subsequently', 'shirt', 'sideline', 'revenge', 'roughly', 'temperature', 'biography', 'seville', 'triggered', 'recovering', 'bubble', 'framework', 'anne', 'tunnel', 'stamford', 'nec', 'immersive', 'donated', 'decider', 'barbara', 'romeo', 'breached', 'belmarsh', 'freed', 'cancer', '1974', 'marry', 'archbishop', 'diana', 'numerous', 'phoenix', 'strictly', '98', 'reverse', 'notebook', 'frontman', 'allied', 'artistic', 'banning', 'summary', 'trained', 'whistle', 'rethink', 'gill', 'portfolio', 'spotlight', 'rewarded', 'worsley', 'kirwan', 'webster', 'ca', 'medicine', 'react', 'tabloid', 'mirror', 'wta', 'dementieva', 'outright', 'controller', 'upload', 'borrow', 'valley', 'balanced', 'joseph', 'isle', 'supplied', 'operated', 'embrace', 'physically', 'slogan', 'juan', 'achieving', 'bombay', 'disguise', 'gorge', 'refusing', 'generating', 'kasabian', 'songwriter', 'hey', 'benefiting', 'dossier', 'amnesty', 'belgium', 'abn', 'amro', 'referred', 'defensive', 'respected', 'thus', 'consulting', 'tolerance', 'spare', 'loyal', 'boro', 'toughest', 'pool', 'stiff', 'mexican', 'navigate', 'boyd', 'carter', 'tired', 'hail', 'bust', 'swiftly', 'prevented', 'sack', 'michelle', 'unchanged', 'healthcare', 'pharmaceutical', 'bp', 'database', 'enforce', 'powered', 'grows', 'industrialised', 'stretch', 'pipeline', 'genius', 'examining', 'setback', 'justin', 'time\"', 'stan', 'burn', 'romania', 'imagination', 'forever', 'barely', 'sends', 'infringement', 'branding', 'stunt', 'committing', '1990', 'runway', 'squabbling', 'julie', 'throwing', 'baros', 'curb', 'hike', '2004\"', 'preventing', 'newsnight', 'beauty', 'thoroughly', 'funeral', 'march\"', 'seize', 'shearer', '104', 'vendor', 'irresponsible', '1980', 'hammer', 'altogether', 'celebrated', 'reyes', 'ethiopia', 'dechy', 'contributed', 'melzer', '\"new', 'specially', 'destination', 'claxton', 'idowu', 'accusation', 'bobby', '\"eu', 'measured', 'christ', 'eased', 'sbc', 'pelous', 'delaigue', 'sidoli', 'yapp', 'sceptical', 'theory', '\"china', 'captaincy', 'engaging', 'silva', 'guaranteed', 'hardenne', 'wrist', 'hint', 'espn', 'sims', 'entertaining', 'mode', 'halfway', 'fortnight', 'robertson', 'buck', 'coffee', 'yorkshire', 'ringtones', 'gray', 'fate', 'fuss', 'payne', 'ghosn', 'knapman', 'petroleum', 'outline', 'dick', 'interval', 'collecting', 'disclosure', 'immense', 'counterfeit', 'gay', '2012', 'joke', 'clause', 'literally', 'workplace', 'demonstrate', 'saulnier', 'injunction', 'tree', 'echoed', 'instrument', 'freddie', 'arab', 'flawed', 'overturned', 'capped', 'toy', 'spotted', 'persuaded', 'eligible', 'warren', 'centred', 'venezuelan', 'banker', 'bureaucracy', 'artificial', 'sheer', 'surveillance', 'survivor', 'phonographic', 'xstrata', 'verge', 'credibility', 'concession', 'sick', 'boateng', 'leslie', 'detain', 'fcc', 'mouth', 'chaos', 'mcmanus', 'magnier', 'assistance', 'cartoon', 'donofrio', 'inbev', 'actual', 'migration', 'samoa', 'macrovision', 'ripguard', 'csos', 'leaked', 'agrees', 'newton', 'lufthansa', 'turkcell', 'outkast', 'reggae', 'dennis', 'lira', 'anelka', 'inter', 'pvr', 'loyalty', 'bernie', 'graduate', 'transformed', 'allen', 'narrowly', 'catherine', 'sake', 'cleaner', 'marr', 'resisted', 'halted', 'aired', 'planet', 'han', 'tyranny', 'hitler', 'somehow', 'fortunate', 'obsessed', 'youngest', 'injection', 'ufj', 'redundancy', 'unsolicited', 'warns', 'ensures', 'unpaid', '10m', 'sebastien', 'lengthy', 'month\"', 'portrayal', 'except', 'indefinitely', 'curtis', 'clue', 'reunited', 'browsing', 'homeland', 'heel', 'thin', 'ozzy', 'filming', 'joshua', 'doubling', 'crackdown', 'tackled', 'feed', 'incorporated', 'mercury', 'define', 'scrapping', 'sponsorship', 'financially', 'touched', 'offside', 'mandatory', 'generous', 'transparent', 'julian', 'frame', 'lo', 'cicero', 'advisory', 'alarm', 'marketed', 'printing', 'addiction', 'lied', 'contrary', 'surpassed', 'loop', 'hutt', 'plaid', 'cymru', 'declaration', 'tuc', 'yesterday', 'explaining', 'maggs', 'rein', '13m', 'unnamed', 'violated', 'assume', 'sidelined', 'swede', 'concentration', 'exporter', '1948', 'angle', 'danny', 'kanye', 'commercially', 'svetlana', 'mad', 'excitement', 'tone', 'indicator', 'presentation', 'hottest', 'latinohiphopradio', 'cuban', 'cheese', 'pierre', 'jam', 'girlfriend', 'survive', 'keanu', 'bernabeu', '1969', 'brave', 'kezman', 'fowler', 'deprived', 'adrian', 'broadway', 'suv', 'soar', '93', 'gathering', 'declining', 'doug', 'thunderbird', 'reviewed', 'versus', '61', 'gerhard', 'playback', 'convergence', 'please', 'dominant', 'remembered', 'pile', 'array', 'hurricane', 'maldives', '\"apple', 'owning', 'offline', 'closest', 'sheridan', 'judicial', 'slice', 'pea', 'protester', 'mann', 'luis', 'andrea', 'offshore', 'combining', 'assurance', 'spree', 'prejudice', 'moderate', 'aide', 'pin', 'implementation', 'accolade', 'dell', 'ruud', '1986', 'alfa', 'racism', 'requested', 'criterion', 'kenyan', 'treat', 'insider', '80m', '30m', 'confusion', 'modem', 'usb', 'accepting', 'newport', 'urgent', 'compression', 'viewed', 'yannick', 'harinordoquy', 'sweeney', 'angola', 'sitcom', 'slate', 'lynch', 'swapped', 'fraser', 'cement', 'civilian', 'ok', 'henin', 'graphical', 'touchline', 'microphone', 'hype', 'savvy', 'calculated', 'embassy', 'hoddle', 'axed', 'garden', 'fighter', 'warcraft', 'albeit', 'honorary', 'renault', 'turnaround', 'consult', 'shortfall', 'republican', 'ossie', 'humour', 'crop', 'compatible', 'abbott', 'deccan', 'cebit', 'sole', 'austrian', 'defendant', 'fiji', 'assured', 'chirac', 'bono', 'dry', 'walkman', 'casual', 'physic', 'neeson', 'carnival', 'sharer', '140', 'burglar', 'pump', 'sleep', 'bombing', 'profitability', 'blur', 'deposit', 'wooden', 'pan', 'hazell', 'acquired', 'engaged', 'whereas', 'elton', 'contractor', 'tricky', 'mobility', 'rodgers', 'jailhouse', 'tautou', 'ppi', 'ministerial', 'wallace', 'bogdanovic', 'reassure', 'briefing', 'dortmund', 'borussia', 'realising', 'frequency', 'billy', 'eff', 'nestle', 'dipped', 'jaynes', 'ahold', 'hansard', 'unauthorised', 'amicus', 'scarlet', 'skull', 'nostalgia', 'psychological', 'paniccia', 'jol', 'telekom', 'fenice', 'faroe', 'unilever', 'hailey', 'feta', 'sloncek', 'asimo', 'button', 'lcd', 'myers', 'gamble', 'decides', 'griffin', 'millwall', 'bournemouth', 'brad', 'fagin', 'asks', 'till', 'awaited', 'cheer', 'excessive', 'lta', 'confusing', 'latter', 'integration', 'gamer', 'sealed', 'jane', 'commonly', 'mozilla', 'vulnerability', '94', 'lacking', 'louis', 'walsh', 'week\"', 'demanding', 'adequately', 'visible', 'ruth', 'permitted', 'sweep', 'triumphed', 'rhythm', 'player\"', 'downturn', '79', 'lottery', 'scooped', 'reviewing', 'overhaul', 'axa', 'dying', 'maso', 'masi', 'del', 'justify', 'tumbled', 'harmful', 'circulation', 'advertiser', 'cigarette', 'unexpected', 'existed', 'saab', 'exceeded', 'unnecessary', 'aceh', 'removal', '2003\"', 'totalling', 'vaccine', 'marginal', 'rowntree', 'darren', 'climb', 'foley', 'horan', 'bribe', 'linking', 'insight', 'jude', 'deeper', 'processed', 'dutchman', 'solicitor', 'burger', 'translated', 'perceived', 'rebound', 'tends', 'prominence', 'housewife', 'mauresmo', 'crashed', 'palmer', 'recommendation', 'urging', 'exists', '125', '350', 'spacey', 'beverly', 'celebrating', 'path', 'sexual', 'glass', 'leak', 'steer', 'likened', 'finger', 'libertine', 'enduring', 'incompatible', 'fancy', 'alien', 'bizarre', 'marat', 'expenditure', 'serge', 'jan', 'maurice', 'coloured', 'individually', 'pixel', 'forecasting', 'samuel', 'ip', 'confronted', 'faking', 'gta', '\"lib', 'bombarded', 'poured', 'universe', 'ali', 'electric', 'brien', 'micro', 'independently', 'rental', 'eyed', 'animosity', 'nonsense', 'diane', 'nod', 'lasted', 'harrison', 'commonwealth', 'stormed', '\"mp', 'duncan', 'clinched', 'scorer', 'copied', 'ft', 'highland', 'councillor', 'rod', 'acceptance', 'demonstrates', 'inevitable', 'lenovo', 'jurgen', 'unveiling', 'savage', 'norman', 'lined', 'nathalie', 'obliged', 'promptly', 'norfolk', 'integrated', 'streaming', 'breast', 'springbok', 'hansen', 'hal', 'rougerie', 'dominici', 'betsen', 'bourgoin', 'textbook', 'vastly', 'o', 'labor', '777', 'ge', 'patricia', 'thanked', 'venus', 'architecture', 'handled', 'disadvantaged', 'contested', 'pr', '11th', '15th', 'downloadable', 'podcasts', 'shifting', 'egyptian', 'drummer', 'transparency', 'ftse', 'pentagon', 'fahrenheit', 'sci', 'locally', 'tuned', 'idle', 'educated', 'jeff', 'ruck', 'joel', 'jungle', 'queue', 'pete', 'menzies', 'experiencing', 'pit', 'blew', 'archer', 'lush', 'convenient', 'analogue', 'freeman', 'comprehensive', 'haas', 'jr', 'transferred', 'irregularity', 'creature', 'quicker', 'rightly', 'umbrella', 'promoted', 'arthur', 'belfast', 'spends', 'secretly', 'morquendi', 'ladbrokes', 'promoter', 'swing', 'traded', 'olly', 'householder', 'ordinate', 'exceed', 'holocaust', 'invisible', 'tracking', 'extremist', 'agreeing', 'assumption', 'bat', 'bulgaria', 'organise', 'lobby', 'arnesen', 'hat', 'borthwick', 'ism', 'ore', 'copyrighted', 'ambani', 'laura', 'healey', 'begg', 'ward', 'rafa', '35m', 'madonna', 'everquest', 'duran', 'santini', 'betamax', 'comply', 'carers', 'backwards', 'phenomenal', 'ridiculous', 'flood', 'equipped', 'deaf', 'packet', 'mel', 'showcasing', 'supermarket', 'labelled', 'guerrouj', 'nuisance', 'disclose', 'inadequate', 'chidambaram', 'ethiopian', 'polish', 'iconic', 'impetus', 'landline', 'indecency', 'symbian', 'godzilla', 'lasting', 'login', 'milk', 'dtt', 'ageing', 'trek', 'assist', 'nelly', 'clarkson', 'legendary', 'inspector', 'nair', 'dundee', 'honda', 'vogts', 'peoplesoft', 'powys', 'radically', 'essentially', 'pressed', 'mounted', 'preston', 'rat', 'bros', 'hain', 'applying', 'ordinator', 'muscle', 'sophie', 'plunged', 'stockpile', 'blown', '\"game', 'accessed', 'monitored', 'undisclosed', 'roman', 'brink', 'emergence', 'fool', 'handhelds', 'sponsor', 'exceptional', 'millionaire', 'quest', 'outfit', 'tagging', 'intercept', 'cat', '1978', 'teen', 'displayed', 'diamond', 'steadily', 'arranged', 'neat', 'cowell', 'describing', 'obtained', 'shipped', 'shipment', '78', 'system\"', 'serial', 'tiebreak', 'clocked', 'precious', 'restricted', 'creativity', 'appreciate', 'mould', 'attending', 'bundled', 'trim', 'sticking', 'acknowledge', 'jenkins', 'cusiter', 'troncon', 'verdict', 'cox', 'vioxx', 'commenting', '\"broadband', 'translates', 'disagreement', 'opel', 'flagship', 'attracting', '\"wale', 'gibbon', 'sorted', 'weighed', 'merchant', 'heath', 'clutch', '\"yukos', 'travelled', 'vary', 'undergo', 'leamy', 'sheahan', 'testimony', 'wrongdoing', 'touring', 'cooperation', 'mumbai', 'neighbour', 'hoffman', 'binding', '2015', 'acclaim', 'hopman', 'daniela', 'hrbaty', 'legality', 'greenwood', 'swept', 'scenario', 'regained', 'weakening', 'resulting', 'critically', 'revive', 'trademark', 'shortlisted', 'portion', 'sharapova', 'kok', 'conclusion', 'compelling', 'hamper', 'considerably', 'touted', 'appetite', 'clamp', 'surged', 'groundbreaking', 'venice', 'eriksson', 'dallas', 'dudek', 'maintenance', 'nowhere', 'absent', 'quitting', 'biometric', 'nigerian', 'shore', '81', 'coupled', 'calendar', 'painful', 'sing', 'slug', 'filling', 'nightmare', 'marine', 'complicated', 'macworld', 'portugal', 'helsinki', 'slid', 'jackie', 'lennon', 'azkaban', 'certificate', 'beta', 'grey', 'sandra', 'infamous', 'vaughan', 'criminally', 'bdo', 'clashed', 'judiciary', 'overlooked', 'manoeuvring', 'gere', 'portman', 'accuse', 'magpie', 'bowyer', 'bryan', 'euthanasia', 'affecting', '750', 'totalled', 'regulate', 'signature', 'highbury', 'speculated', 'cord', 'choosing', 'buenos', 'meantime', 'solely', 'sturgeon', 'gospel', 'confession', 'reservation', '1950s', 'funny', 'gizmondo', 'navigation', 'multiplayer', 'lucy', 'swedish', 'jumper', 'packard', 'oldest', 'vincent', 'miami', 'jennifer', 'dig', 'frenchman', 'heptathlon', 'defra', 'rifle', 'negotiated', 'relied', 'toured', 'dragged', 'rees', 'llanelli', 'embarrassing', 'flair', 'sits', 'julien', 'traille', 'bruno', 'cockbain', 'primarily', 'marque', 'hiding', 'tied', 'eduvision', 'ancient', 'con', 'roof', 'danish', 'dominic', 'kluft', 'smashed', 'mittal', 'hiring', 'payroll', 'kurt', 'chile', 'criticise', 'controversially', 'wise', 'ron', 'holy', 'fitting', 'payout', 'successor', 'topper', 'destiny', 'oecd', 'bloc', 'jamaican', 'adapter', 'plug', 'gender', 'ride', 'cluley', 'wham', 'tended', 'permit', 'senator', 'dress', 'baftas', 'gmt\"', 'dee', 'quirky', 'rem', 'coldplay', 'eager', 'plain', 'kenny', 'bright', 'rough', 'childhood', 'overtaken', 'clearer', 'bcc', 'compact', 'describes', 'factual', 'ryanair', 'abbas', 'porto', 'milanesi', 'beatles', 'kodak', 'gesture', 'restate', 'valid', 'ashamed', 'establishing', 'booking', 'advise', 'precisely', 'fold', 'ioannidis', '900', 'backer', 'decisive', 'mentally', 'mess', 'paolo', 'hogan', 'hooker', 'thirty', 'interpretation', 'imposing', 'opposing', 'toulouse', 'ranch', 'inner', 'deleted', 'participant', 'harsh', 'mccartney', 'thrilled', 'reflection', '101', 'shine', 'oh', 'slim', 'louise', 'fulfil', 'belonging', 'installation', 'invitation', 'concentrated', 'bravery', 'saga', 'mechanism', 'fashioned', '06', 'negroponte', '16bn', 'gerard', 'norwegian', 'gen', 'prospective', 'examined', 'ironic', 'replaces', 'detect', 'willis', 'indicate', 'nalbandian', 'mask', 'firing', 'interaction', 'isinbayeva', 'demographic', 'jacket', 'merely', 'illegitimate', 'semitic', 'coastal', 'relies', 'deemed', 'cocoa', 'fiorina', 'quake', 'rack', 'addressing', 'upheld', 'emission', 'bailey', 'raymond', 'mido', 'confess', 'riot', 'murderer', 'phrase', 'conti', 'lisa', 'useless', 'elgindy', 'spurlock', 'redford', 'sinclair', 'llewellyn', 'desailly', 'mcallister', 'genocide', 'pires', 'toure', 'housemate', 'roundabout', 'ioc', 'worthwhile', '25th', 'stevie', 'cml', 'railway', 'cardinal', 'ak', 'cosby', 'notion', 'muse', 'phytopharm', 'lanzone', 'searcher', 'macklin', 'adriano', 'rsa', 'kazaa', 'bayern', 'usada', 'calculator', 'oracle', 'sigarchi', 'envelope', 'agua', 'abiding', 'showcased', 'liquid', 'overseeing', 'darling', 'ceo', 'wary', 'brom', 'chester', 'pitt', 'treasure', 'blade', 'eleven', 'vanity', 'dixon', 'whip', 'favoured', '1977', 'devil', 'scholl', 'citing', 'valencia', 'outset', 'embracing', 'devastating', 'expectancy', 'courage', 'paralysed', 'sumitomo', 'enabling', 'daiwa', 'bureau', 'lag', 'toward', 'hungry', 'em', 'crowded', 'wire', 'hair', 'bowles', 'awaiting', 'princess', 'divorce', 'footballer', 'crazy', 'memorial', '20m', 'relentless', 'weird', 'seasonally', 'allan', 'panda', 'nirvana', 'beneficial', 'jumping', 'hate', 'flourish', 'whatsoever', 'privately', 'productive', 'squeeze', 'weakened', 'consulted', 'payouts', 'sat', 'dal', 'lamont', 'castrogiovanni', 'persico', 'parisse', 'axe', 'pearson', 'ash', 'nationally', 'satisfy', 'godfather', 'playlist', 'speculate', 'temporarily', 'bounced', '170', 'considerable', 'hawkins', 'formula', 'modified', 'kremlin', 'meaningless', 'corrigan', 'auctioned', 'understands', 'rajasthan', 'bullet', 'yangtze', 'indie', 'slovakia', 'molik', 'matrix', 'coached', 'rochus', 'boyfriend', 'strengthening', 'grammys', 'soared', 'obsession', 'relaxed', 'projected', 'naming', 'abolish', 'literary', 'nasty', '2011', 'imported', 'foreigner', 'widen', 'marie', 'def', 'credible', 'beastie', 'underlined', '1988', 'rip', 'trapped', 'nurse', 'arjen', 'crossed', 'sensational', 'paulo', 'cudicini', 'parma', 'arriving', 'requiring', 'megabyte', 'gulf', 'dealer', 'equaliser', 'wound', 'inaccurate', 'horrible', 'ilo', 'exploring', 'shipping', 'twenty', '1971', 'sudden', 'humanitarian', 'checking', 'denying', 'wipe', 'finland', 'digitally', 'casting', 'halliwell', 'griffith', 'playwright', 'rhys', 'commonplace', 'downside', 'pending', 'christos', '24m', 'knocking', '97', 'feedback', 'coordinator', 'objection', 'embarrassed', 'bite', 'infringed', 'flag', 'harold', 'crosby', 'shocking', 'eurosceptic', 'prosper', 'contempt', 'fry', 'hunger', 'repay', 'constructive', 'accelerating', 'carragher', 'acted', 'elliot', 'severely', 'debated', 'clarity', 'tightening', 'intensive', 'quartet', 'yuganskneftegaz', 'flexible', 'egg', 'clinch', 'posting', 'actively', 'bach', 'ware', 'aire', 'clara', 'furse', 'seifert', 'helm', 'iii', 'cameron', 'battlefront', 'hewlett', 'juventus', 'manually', 'insult', 'aggressively', '3000', 'lacked', 'aftermath', 'tiananmen', 'zimbabwe', 'macdonald', 'uncle', 'mgm', 'mount', 'browne', 'applicant', '96', 'exercising', 'cruel', 'checked', 'answered', 'reliable', 'pat', 'anglo', 'employing', 'undoubtedly', 'guided', 'misery', 'jauzion', 'fabien', 'grandclaude', 'mcbryde', 'challenger', 'dow', 'destined', 'antenna', 'mature', 'brewery', 'comfortably', 'deacon', 'lighter', 'authentic', 'podcast', 'disappearance', 'ringtone', 'inadvertently', 'glenn', 'druyun', 'sentencing', 'seemingly', 'excuse', 'newest', 'nao', 'expose', 'misunderstood', 'abba', 'remotely', 'booker', 'poetry', 'provisional', 'seamless', 'squeezed', 'giveaway', 'inheritance', 'precedent', 'surprisingly', '1945', 'thrill', 'witnessed', 'ubs', 'grade', 'realistically', 'ambassador', 'courtesy', 'blackberry', 'bird', 'bskyb', 'westlife', 'skilled', 'globalisation', 'frederic', 'pass', 'hungary', 'franc', 'tender', 'buoyant', 'guillermo', 'albert', 'exhibitor', 'andersen', 'harvey', 'cyril', 'cheat', 'goodwill', 'wef', 'manages', 'removing', 'obliges', 'shakespeare', 'statutory', 'limped', 'woe', 'stansted', 'dependent', 'nortel', 'bangkok', 'dominates', 'emi', '130', 'thorpe', 'stefan', 'tessa', 'leisure', 'skinner', 'mccririck', 'founding', 'marlon', 'dressed', 'collective', 'looming', 'footed', 'catching', 'touching', 'pursuing', 'suspicious', 'precise', 'echo', 'pornography', 'pornographic', 'symantec', 'silly', 'proposes', 'stupid', 'inform', 'quote', 'criticising', 'suffers', 'propaganda', 'manufactured', 'turf', 'delete', 'attacker', 'ant', 'spoon', 'heritage', 'breakdown', 'christophe', 'revolutionary', 'whitehall', 'pulse', 'thg', 'occasionally', 'goode', 'vcr', 'carson', 'mukesh', 'monsanto', 'jakarta', 'favourable', 'accessing', 'investigator', 'corium', 'fortunately', 'magnitude', 'prevention', 'tube', 'delight', 'eat', 'scary', 'toilet', '\"kennedy', 'disillusioned', 'toshack', 'deliberate', 'greatly', 'climax', 'protein', 'boundary', 'montgomery', 'opting', 'ferrari', 'attached', 'tod', 'declare', 'nou', 'heralded', 'nightclub', 'forrester', 'literacy', 'solving', 'functionality', 'limiting', '1965', 'escaped', 'unprecedented', 'albania', 'noel', 'gallagher', 'edonkey', 'cracking', 'inflated', 'wearable', 'personalisation', 'ddos', 'seagrave', '1976', 'aguilera', 'searched', 'protested', 'digby', 'cadbury', 'loser', 'goodbye', 'complaining', 'shoe', 'commentary', 'grady', 'ladder', 'mcguire', 'annually', 'bitter', 'rigging', 'smash', 'texting', 'grasp', 'gilbert', 'persie', 'conductor', 'brixton', 'fond', 'novo', 'mcleish', 'fraudulent', 'ljungberg', 'londoner', 'sina', 'warehouse', 'permanently', 'kite', 'judy', 'chorus', 'cesar', 'carr', 'bearing', 'garment', 'wheelchair', 'pda', 'hopkins', 'musharraf', 'bofra', 'mccall', 'odpm', 'heinze', 'spector', 'crawford', 'mikoliunas', 'sizzla', 'aer', 'lingus', 'umd', 'villalba', 'joystick', 'khatami', 'scarman', 'raskin', 'purushotma', 'absa', 'tevez', 'hitachi', 'ssl', 'cab', '7e7', 'everywhere', 'whoever', 'stoke', 'hartlepool', 'elliott', 'behaving', 'frantic', 'falcon', 'disrupted', 'exception', 'communist', 'accuracy', 'vying', 'cape', 'heating', '89', 'bin', 'smarter', 'tabled', 'geneva', 'smooth', 'titanic', 'deport', 'jordan', 'torture', 'fitted', 'pursued', 'windsor', 'propose', 'respectable', 'sayeed', '1956', 'ecb', 'parenting', 'rotterdam', 'slashed', 'zhang', 'dialogue', 'thrive', 'hostility', 'classical', 'travis', 'yeah', 'u\"', 'soccer', 'exclusion', 'oversee', 'puzzle', 'pernod', 'diageo', 'capitalisation', 'lvmh', 'ripe', 'reiterated', 'claude', 'xv', 'trailing', 'petrie', 'griffen', 'recommend', 'fda', 'litigation', 'observed', 'teeth', 'alike', 'switching', 'tri', 'wallaby', 'flotation', 'tata', 'unbundling', 'halve', '1964', 'transmitted', 'messenger', 'layout', 'foray', 'moratorium', 'owes', 'seychelles', 'ap', 'deadly', 'ashcroft', 'promotes', 'casualty', 'lap', 'steering', 'column', 'leverkusen', 'importantly', 'streak', 'santander', 'disputed', 'rupert', '12bn', 'contentious', 'dustin', 'collateral', 'electrical', 'bassist', 'mervyn', 'invasion', 'willingness', 'lawful', 'scepticism', 'qaeda', 'adelaide', 'brady', 'verbal', 'adjustment', 'credited', 'jewellery', 'amelie', 'supremo', 'presenting', 'declaring', 'earns', 'team\"', 'judging', 'chilean', 'wgbh', 'production\"', 'undervalued', 'downward', 'prodigy', 'melcher', 'charm', 'rallying', 'unemployed', 'renew', 'timely', 'ferreira', 'romanian', 'slater', 'solved', 'flagged', 'refinery', 'supportive', 'backhand', 'lacklustre', 'ratified', 'fever', 'richie', 'tempted', 'purchasing', 'berlusconi', 'sang', 'mere', 'peso', 'livelihood', 'overturn', 'pen', 'varga', 'petrov', 'bulgarian', 'welshman', 'hamilton', 'o2', 'budd', 'concerning', 'service\"', 'assigned', 'hack', 'superhero', 'lomu', 'statement\"', 'ict', 'goodrem', 'sebastian', 'honesty', 'insane', 'uniquely', 'sterling', 'inflationary', 'obtain', 'appoint', 'election\"', 'gritty', 'carrey', 'pegged', 'magistrate', 'eton', 'petition', 'refusal', 'peg', 'pavey', 'seized', 'personnel', 'tally', 'contention', 'overtook', 'attendant', 'ensured', 'enforced', 'suitor', 'clearstream', 'anna', 'cheaply', 'holyrood', 'britney', 'mounting', 'rumoured', 'sweetener', 'fetch', '17m', 'henri', 'furniture', 'carl', 'apacs', '\"holmes', 'imaging', 'lyon', 'captured', 'di', 'mixture', 'unpredictable', 'portrait', '18th', 'collector', 'furious', 'cheating', 'grave', 'lifting', 'li', 'retiring', 'hackford', 'ronald', 'invented', 'hound', 'eads', 'aerospace', 'restored', 'connectivity', 'digital\"', 'nelson', 'smile', 'rallied', 'whenever', 'exploiting', 'nyanga', 'laharrague', 'lamboley', 'issuing', 'stimulate', 'herr', 'bottle', 'unavailable', 'newer', 'vault', 'kemp', 'concrete', 'way\"', 'taiwan', 'cancellation', 'inspiring', '\"wenger', 'anastasia', 'roland', 'floating', 'fruit', 'mediation', 'completing', 'massively', 'loaded', 'luciano', 'reply', 'slotted', 'angled', 'weblogs', 'weblog', 'mystery', 'disorder', 'containing', 'parallel', 'tuesday\"', 'provoked', 'heaped', 'scrub', 'amounted', 'eponymous', 'slipping', 'whitbread', 'smartphones', 'lishman', 'cursor', 'implement', 'cosmetic', 'refund', 'faltering', 'lake', 'bump', 'considers', 'exclude', 'hugo', 'spike', 'vienna', 'addressed', 'credential', 'uncapped', 'kfb', 'reforming', 'inspection', 'consume', 'confidentiality', 'lease', 'zen', 'outsourcing', 'spy', 'diplomatic', 'receives', 'atomic', 'q', 'uncovered', 'accountable', 'jelena', 'gracenote', 'jeunet', 'msp', 'wealthy', 'dynamic', 'pricing', 'gatwick', 'securing', 'celltick', 'moderator', 'miner', 'stabbed', 'evicted', 'stallone', 'greer', 'accountability', 'kirchner', 'wednesday\"', 'enjoys', 'mogul', 'lula', '25bn', 'indefinite', 'intruder', 'protects', 'informal', 'inevitably', 'recruited', 'compromised', 'behave', 'naive', 'differently', 'reminded', 'buhecha', 'ace', 'walliams', '12th', 'nearby', 'dimitri', 'caution', 'yann', 'participate', 'burner', 'partisan', 'outsider', 'lesotho', 'tier', 'thrust', 'diesel', 'netratings', '52m', 'automotive', 'rehabilitation', 'mailed', 'christie', 'mick', 'demise', 'supposedly', 'abbasi', 'fairer', 'historically', 'wrongly', 'earner', 'commuter', 'magnificent', 'mmorpgs', 'distracted', 'fade', 'potato', 'cantona', '300p', 'bag', 'serbia', 'bangladesh', 'unusually', 'reformed', 'invested', 'diet', 'innocence', 'expertise', 'finale', 'pervasive', 'pulling', 'adopting', 'der', 'unaffected', 'bishop', 'msps', 'vhs', 'jamaica', 'sheriff', 'proceeds', 'outrageous', 'subjected', 'elizabeth', 'notably', 'tarantino', 'benz', 'dodgy', 'kinsey', 'cameroon', 'writes', 'audrey', 'logged', 'rebel', 'testament', 'frontier', 'lighting', 'fischer', 'hijack', 'epidemic', 'confirmation', 'footstep', 'ai', 'backbench', '30bn', 'mansfield', 'hamm', 'supplement', 'imminent', 'energis', 'berry', 'gigabit', 'downlink', 'sociedad', 'ripping', 'preserve', 'cragg', 'dod', 'motivate', 'pasquale', 'censor', 'judgment', 'ceplak', 'tenfold', 'fragile', 'confirming', 'commander', 'unreleased', 'appliance', 'walkout', 'remittance', 'hartson', 'zafi', 'camara', 'stocking', 'recycled', 'portuguese', 'harbouring', 'warwick', 'jens', 'fabregas', 'imanol', 'sella', 'goodman', 'confused', 'stiller', 'tgwu', 'may\"', 'restricting', 'hepburn', 'yili', 'usability', 'fargo', 'houllier', 'reoffending', 'scammer', 'paypal', 'idn', 'registry', 'francais', 'dome', 'lomax', 'counting', 'deloitte', 'hosford', 'kronor', 'gameboyzz', 'ashdown', 'arash', 'chronometer', 'castaignede', 'bagle', 'rand', 'yoran', 'campese', 'sculthorpe', '\"tv', 'portray', '180bn', 'luton', 'oldham', 'clooney', '21m', 'polar', 'labelling', 'rattled', 'shield', 'grandchild', 'confirms', 'interrupted', 'intervened', 'robredo', 'resistance', 'inspiration', 'carmen', 'overnight', 'weaken', 'nicknamed', 'exceeds', 'bunch', 'humble', 'overhead', 'outgoing', 'todd', 'cheque', 'stretching', 'sainsbury', 'enters', 'sonaptic', 'bend', 'basketball', 'coincided', 'deported', 'pioneering', 'throne', 'drum', 'volunteer', 'practise', 'osbournes', 'plead', 'defraud', 'debating', 'contraction', 'hardcore', 'truant', 'costing', 'dug', 'relax', 'southwest', 'gerry', 'spawned', 'stereotype', 'korn', 'tonight', 'reinforce', 'disagree', 'avenue', 'boil', 'telephoning', '\"england', 'clinical', 'anxious', 'discussing', 'volatility', 'cream', 'ibrox', 'lancashire', 'groin', 'davey', 'shaped', 'krivorizhstal', 'bbc1', 'maturity', 'mauro', 'southwell', 'grime', 'dunbar', 'ongaro', 'dellape', 'intoppa', 'perugini', 'fava', 'merck', 'torn', 'sacking', 'well\"', '280bn', 'racketeering', 'altria', 'world\"', 'adsl', 'cps', 'banner', 'technorati', 'blogosphere', 'wru', 'demon', 'joked', 'stature', 'bayer', 'bowe', 'levelled', 'admitting', 'blend', 'rca', 'siege', 'mentality', 'peaked', 'dominik', 'okay', 'notorious', 'drafting', 'indictment', 'simpler', 'joachim', 'staying', '\"ireland', 'cleverly', 'fatal', 'inspire', 'superstar', 'fractured', 'humorous', 'surpass', 'waning', 'productivity', 'recommends', 'helicopter', 'bedroom', 'outdated', 'lazio', 'aloud', 'definitive', 'devoted', 'economically', 'gaudio', 'evolved', 'howl', 'packed', 'laying', 'ovation', 'bosvelt', 'didier', 'sven', 'goran', 'petr', 'cocaine', 'flew', 'heather', 'amanda', 'beef', 'malfunction', 'fluid', 'fingerprint', 'clampdown', 'charvis', 'sonny', 'thomson', 'retro', 'sergeant', 'slick', 'arcade', 'robotic', 'refers', 'ultra', 'addictive', 'brilliantly', 'reinsurance', 'catastrophe', 'hammered', 'watcher', 'gatlin', 'piano', 'scanned', 'viable', 'maloney', 'grammar', 'sylvia', 'rampant', 'convince', 'wimax', 'segas', 'houlihan', 'gangster', 'battlefield', 'negotiating', 'autolink', 'plate', 'penalised', 'counted', 'truck', 'detroit', 'confuse', 'sim', 'honouring', 'harbour', 'regardless', 'suited', 'capra', 'reap', 'criticises', 'defy', 'hutton', 'profound', 'swell', 'schoolboy', 'playground', 'pierce', 'brosnan', 'michel', 'complacency', 'kluivert', 'finnan', 'diagnosis', 'breakneck', 'lovely', 'hayley', 'jo', 'karl', 'charter', 'osborne', 'thorough', 'quantity', 'faulty', 'gong', 'trotter', 'organic', 'unseeded', 'woo', 'snp', 'staggering', 'jesus', 'maroon', 'wreck', 'fairness', 'vietnam', 'gps', '75bn', 'unsure', 'cristiano', 'competed', 'unsuccessfully', 'painted', 'kilometre', 'wartime', 'punter', 'mcgregor', 'jackman', 'aberdeen', 'mitchell', 'tracey', 'nathan', 'unwanted', 'deer', 'bradshaw', 'bilateral', 'selecting', 'availability', 'kiwi', 'thrilling', 'experimental', 'side\"', 'breed', 'receiver', 'integrate', 'bold', 'aurelien', 'marconnet', 'ma', 'undertaking', 'spoof', 'californian', 'teething', 'harvard', 'kingfisher', 'accounted', '01', 'mackie', 'stole', 'holcim', 'lining', 'airplane', 'embedded', 'unlimited', 'inability', 'tactical', 'beith', 'sandy', 'sega', 'cake', 'gough', 'amateur', 'wow', 'bass', 'advertise', 'rice', '404', 'floated', 'turkmenistan', 'trialling', 'forty', 'manic', 'preacher', 'uncomfortable', 'bud', 'insulting', 'managerial', 'gammell', 'procurement', 'rocket', 'hardie', 'lung', 'breath', 'dismantle', 'seventy', 'clare', 'bullish', 'needing', 'adaptor', 'karen', 'proven', 'manipulate', 'stride', 'wished', 'heir', 'revaluation', 'gregan', 'agence', 'choir', 'airplay', 'stalking', 'porn', 'decorated', 'rossignol', 'notch', 'shook', 'oxfam', 'pitched', 'revelation', 'nemo', 'speegle', 'nigeria', 'du', 'darin', 'hsbc', 'contributing', 'enlarged', 'finegold', 'placing', 'broader', 'jk', 'banter', 'wes', 'pure', 'revamped', 'premature', 'atr', 'bombardier', 'haul', 'needle', 'panic', 'upsurge', 'sudan', 'benefited', 'compressed', 'headset', 'pregnant', '14bn', 'warming', 'mi6', 'upgrading', 'alter', 'pleasure', 'enthusiast', 'pursuit', 'monica', 'sarbanes', 'oxley', 'laundering', 'protege', 'schwartz', 'bulletin', 'constituent', 'aurora', 'fleet', 'sander', 'conducting', 'completion', 'depends', 'administrative', 'jain', 'lankan', 'excluded', 'notify', 'diagnosed', 'kenzie', 'nose', 'bullying', 'govern', 'unlawful', 'distinct', 'corpus', 'spamhaus', 'ingram', 'geordan', 'armed', '550', 'occur', 'firstly', 'insistence', 'hostile', 'sania', 'eventual', 'uphill', 'ligament', 'satisfaction', 'scrappy', 'worthy', 'petrochemical', 'napier', 'titterrell', 'suite', 'garage', 'companion', 'stealth', 'transportation', 'mauritius', 'zambia', 'vince', 'backbone', 'peugeot', 'exploded', 'shanghai', 'commented', 'affiliate', 'spat', 'improper', 'gossip', 'surrey', 'indicted', 'metlife', 'watt', 'canal', 'moazzam', 'auschwitz', 'grandmother', 'persecution', 'drilling', 'lifelong', 'hostage', 'presumably', 'buccaneer', 'cubic', 'cure', '10\"', 'merging', 'kraft', 'croatia', 'ditch', 'irishman', 'marchionne', 'unwilling', 'waited', 'mit', 'assembled', 'arise', 'burke', 'derek', 'sin', 'artificially', 'maserati', 'timetable', 'opposes', 'courting', 'blip', 'pinochet', 'alleging', 'math', 'socially', 'gcse', 'minded', 'quentin', 'von', 'folk', 'pedigree', 'gatland', 'gabriel', 'baume', '\"singer', 'inc', 'arrive', 'raf', 'wippit', 'playable', 'remind', 'forgot', 'caroline', 'satisfying', 'roche', 'flop', 'endless', 'rowling', 'projection', 'meal', 'colourful', 'famously', 'speaks', 'incumbent', 'sugar', 'stefani', 'repair', 'stir', 'baht', 'capella', 'teraflop', 'enormously', 'earliest', 'hazel', 'blears', 'audition', 'niesr', 'cloud', 'delegation', 'valuation', 'aspiration', 'conscience', 'electioneering', 'furore', 'hanging', 'desert', 'blaming', 'ifpi', 'tattoo', 'day\"', 'optinrealbig', 'abeyie', 'snake', 'bsa', 'dubious', 'termination', 'restructure', 'maintains', 'buyout', 'disruptive', 'shepherd', 'chaired', 'valentine', 'confrontation', 'subsidised', 'infect', 'keystroke', 'infested', 'spybot', 'unsuccessful', '75m', 'burton', 'nowadays', 'flamini', 'rupiah', 'maximise', 'portability', 'registering', 'storyline', 'okonedo', 'powell', 'geldof', 'oasis', 'polled', 'maguire', 'wanadoo', 'foo', 'maiden', 'abandoning', 'dvb', 'pvrs', 'serf', 'obscured', 'embraced', 'dairy', 'partially', 'fibre', 'expires', 'mallon', 'rory', 'instantly', 'memorable', 'ajax', 'carbon', 'sunset', 'gravesen', 'dc', 'cheadle', 'qrio', 'brush', 'rebellion', 'accomplished', 'identical', 'loses', '190', 'unremittingly', 'undergoing', 'archos', 'valbon', 'wpp', 'moyes', 'dismissal', 'icstis', 'bullock', 'patience', 'adb', 'tanzania', 'discontent', 'nots', 'sa', 'hereford', 'megapixels', 'sexism', 'prutton', 'sensor', 'botin', 'carib', 'nogar', 'panke', 'dca', 'kse', 'snooker', 'wang', 'dixie', 'masai', 'duchy', 'corinthian', 'alitalia', 'gw', 'timewarner', 'kiely', 'piero', 'hadi', 'dvr', 'personalised', 'uptake', '\"worldcom', 'paint', 'arguably', 'slough', 'swindon', 'entertain', 'mongrel', 'curriculum', 'prepares', 'croatian', 'kiefer', 'irrelevant', 'aggravating', 'final\"', 'transformation', 'heroic', 'defiant', 'tragic', 'inflate', 'libya', '\"moya', 'unrealistic', 'conglomerate', 'parkinson', 'input', 'conclude', 'rubin', 'clan', 'isps', 'incoming', 'algorithm', 'donating', 'outlaw', 'henderson', 'algeria', 'internment', 'assumed', 'fisher', 'cornwall', 'canterbury', 'rowan', 'authorised', 'congratulation', 'incarnation', 'recruiting', 'sabbath', 'merchandise', 'suppose', 'mclennan', 'psps', 'seattle', 'goldman', '\"german', 'volkswagen', 'remainder', 'belong', 'cooled', 'kilbride', 'hook', 'ploughed', 'organization', 'hatred', 'classed', 'swift', 'lecturer', 'disallowed', 'serwotka', 'ukrainian', 'accession', 'pragmatic', 'glittering', 'gethin', 'lively', 'certainty', 'blighted', 'taught', 'bulloch', 'stomach', 'shrinking', 'aussie', 'partial', 'ing', '6km', 'shrunk', 'cotton', '1900', 'overshadowed', 'sinking', 'contracted', 'businessman', '105', 'accommodate', 'brake', 'vauxhall', 'gazpromneft', 'disposal', 'wrangling', 'definite', 'midway', '13bn', 'bribery', 'appropriately', 'corrupt', 'ranieri', 'liga', 'nicole', 'murdered', 'pledging', 'mw', 'charismatic', 'glastonbury', 'progressed', 'embark', 'unfounded', 'pivotal', 'misled', 'fuelling', 'achilles', 'explosive', 'villain', 'anomaly', 'takenaka', '\"rapper', 'blueprint', '03', 'sink', 'edging', 'staple', 'debutant', 'emulate', 'barroso', '00', 'hooked', 'conjunction', 'prompt', 'knockout', 'aspiring', 'en', 'caballeros', 'emcee', 'revision', 'inherited', 'kosslick', 'berlinale', 'mama', 'johnston', 'miyazaki', 'sage', '60bn', 'blasted', 'quietly', 'surging', 'makelele', 'mcmanaman', 'webb', 'applies', 'thief', 'cadillac', 'prozac', 'tracked', 'seasonal', 'lobbying', 'royalty', 'modify', 'jerzy', 'theresa', 'harmony', 'incorporates', 'occupation', 'nem', 'seamlessly', 'locking', 'scoggins', 'scrolling', 'gasp', 'relieved', 'colombia', '70m', 'smoker', 'contend', 'expo', 'overwhelmed', 'adequate', 'random', 'inventory', 'worsened', 'brushed', 'bryson', 'tapped', 'lambert', 'goat', 'formidable', 'slash', 'provisionally', 'clement', 'reluctance', 'werner', 'disable', 'doctorow', 'mighty', 'inequality', 'strip', 'armes', 'chrysler', 'deployment', 'description', 'ted', 'offended', 'imprisonment', 'robbery', 'depressed', 'tendency', 'hung', 'thoday', '\"ukip', 'hayward', 'nudity', 'understandably', 'betrayed', 'kruger', 'abortionist', 'dagger', 'forster', 'repaid', 'bramble', 'wildly', 'kewell', 'glorious', 'upwards', 'ferry', 'intercepted', 'forged', 'presumption', 'withdrawing', 'inherit', 'exporting', 'lawmaker', 'accelerated', 'rowlands', 'kenneth', 'beast', 'pearce', 'gibraltar', 'liability', 'dein', '07', 'assuming', 'prohibited', 'reasonably', 'sustaining', '\"sony', 'forehand', 'luxembourg', 'conchita', 'nicola', 'sung', 'instrumental', 'immensely', 'sufficiently', 'neutral', 'remedy', 'allegiance', 'alleges', 'disaster\"', 'derivative', 'onboard', 'meyer', 'artwork', 'frontbencher', 'pal', 'flu', 'fraudsters', 'stall', '42m', '22m', '\"ferguson', 'portrayed', 'lunchtime', 'accurately', 'indebted', 'boxer', 'airing', 'bull', 'burma', 'profoundly', 'turnbull', 'monsoon', '\"hewitt', 'disproportionate', 'blatant', 'purse', 'katherine', 'maduaka', 'clocking', 'watkins', '04', '91m', 'rated', 'listened', 'maori', 'midst', 'geoffrey', 'barbarian', 'bruising', 'rediscovered', 'gwent', 'thion', 'bonnaire', 'servat', 'milloud', 'mignoni', 'angolan', 'crossing', 'accompanying', 'butragueno', 'disgrace', 'thwart', 'installing', 'tightly', 'investec', 'leicestershire', 'crunch', '200lr', 'rolled', 'underpin', 'boulevard', 'brick', '13th', 'ancic', 'workstation', 'ps3', 'thirst', 'retained', 'upright', 'converting', 'wherever', 'bloom', 'dotcom', 'campaigned', 'suez', 'expands', '17th', 'nicky', 'fiercely', 'depression', 'rachel', 'trainer', 'washed', 'soundtrack', 'trace', 'flower', 'engineered', 'upturn', 'hilton', 'asbestos', 'misleading', '149', 'shrugged', 'giamatti', 'zach', 'braff', 'conceding', 'bumper', '91', 'goldeneye', 'biz', 'retains', 'cube', 'nonetheless', 'poem', 'philosophy', 'deliberation', 'snub', 'jukebox', 'lacroix', 'falic', 'windfall', 'coin', 'motif', 'pink', 'flooding', 'bombard', 'cliff', 'paved', 'cheney', '45bn', 'cage', 'pountney', 'soil', 'appreciated', 'duffy', 'riverside', 'farewell', 'wisdom', 'golf', 'assure', 'ginepri', 'enforcing', 'receipt', 'operational', 'rig', 'colonial', 'marking', 'assessing', '\"bbc', 'statistical', 'insee', 'webcam', 'terminal', 'darker', 'ugly', 'sap', 'executed', 'suisse', 'ivory', 'mahmoud', 'makarov', 'distinctive', 'spiritual', 'sealing', 'organising', 'glimpse', 'entourage', 'na', 'famed', 'gdc', 'continuous', 'payer', 'strathclyde', 'phantom', '1968', 'glen', 'treating', 'invite', 'inkjet', 'toronto', 'dunn', 'monumental', 'naturally', 'wondered', 'moreno', 'rodrigo', '167', 'wap', 'downgrade', '70th', 'punk', 'ampas', 'night\"', 'surf', 'resigning', 'government\"', 'resist', 'manhunt', 'plight', 'forming', 'abolishing', 'widow', 'comfort', '\"tsunami', '250m', 'barrister', 'fred', 'endorsed', 'stressing', 'info', '\"warning', 'excludes', 'wore', 'whim', 'detective', 'overly', 'spilled', 'gut', 'blitz', 'routinely', 'sovereign', 'cutback', '920', 'postcard', 'uranium', 'unprotected', 'ricky', 'nighty', 'marco', 'hire', 'unfavourable', 'sylvain', 'dire', 'highlighting', 'remembering', 'adapting', 'congratulated', 'baker', 'mozambique', 'beam', 'chernin', 'undecided', 'diving', 'mg', 'longbridge', 'eighteen', 'shorter', 'betty', 'boothroyd', 'hacking', 'thigh', 'calvisano', 'vic', 'fleeing', 'bent', 'frankly', 'evaluate', 'foolish', 'dragging', 'devastated', 'danton', 'accountant', 'injury\"', 'gym', 'worn', 'pathetic', 'birchfield', 'liable', 'screaming', 'dre', 'disciplined', 'bartlett', 'needlessly', 'obscene', 'defer', 'obesity', 'shaken', 'object', 'illiterate', 'supercomputing', 'revealing', 'exported', 'brewing', 'interbrew', 'cj', 'communicator', '\"mourinho', 'bolster', '\"campbell', 'hmv', 'flooded', '\"radcliffe', 'richer', 'brc', 'gloomy', 'rocked', 'annette', 'beatty', 'coveted', 'yellow', 'varied', 'cleaning', 'caring', 'au', 'happier', 'akin', 'texture', 'firearm', 'onslaught', 'renowned', 'erfurt', '1957', 'walt', 'segment', 'grass', 'conflicting', 'cop', 'erase', 'yearly', 'license', 'cm', 'relegation', 'grail', 'detected', 'cuaron', 'watson', 'morrissey', 'natasha', 'bedingfield', 'snoop', 'beatle', 'refer', 'mull', 'grokster', 'comparing', 'civic', 'offending', 'elaborate', '\"gadget', 'recognises', '5gb', 'dab', 'porsche', '133', 'cheapest', 'surfing', 'debuted', 'longhorn', '\"minister', 'farming', 'concludes', 'portishead', 'ronnies', 'jeremiah', 'alessandro', 'gwen', 'removable', 'feeding', 'effectiveness', 'flowing', 'hijacked', 'hasselbaink', 'ev', 'lucent', 'simulator', 'folding', 'albanian', 'thames', 'stat', 'rehearsal', 'intact', 'relying', 'donaldson', 'outweigh', 'sonia', 'stephenson', 'dowd', '\"kilroy', 'hoon', 'backdoor', 'lazy', '\"oscar', 'ipo', 'unanimous', 'hassan', 'afi', 'wardrobe', 'tendon', 'savoy', 'flared', 'incorporate', 'trauma', 'misuse', 'hicham', 'westwood', 'marketplace', 'contepomi', 'bafin', 'outlet', 'journalism', 'inefficient', 'weir', 'vw', 'kenenisa', 'inclined', 'belgrave', 'eerdekens', 'kilgore', 'underline', 'tempt', 'holme', 'wrongful', '600m', 'broadreach', 'kimberly', 'atticus', 'paparazzo', 'voyce', 'kisna', 'weston', 'iv', 'clermont', 'signalled', '\"million', 'pave', '230', 'diallers', 'unleashed', 'invasive', '3ami', 'ironically', 'surreptitious', 'quincy', 'bondi', 'explode', 'literature', 'stam', 'kitchen', 'bergkamp', 'bethnal', 'saddam', 'mar', 'herve', 'gaymard', 'marlin', 'purely', '115', 'gearing', 'meadow', 'kyoto', 'plausible', '65s', 'kumar', 'rwandan', 'leaking', 'trainor', 'aka', 'federated', 'devine', 'pollard', 'continually', '270', 'cellnet', 'roaming', 'gypsy', 'vignal', 'waterreus', 'slavery', 'lemony', 'snicket', 'fifty', 'smartphone', 'logo', 'amplify', 'optic', 'electron', 'dergarabedian', 'camus', 'vantage', 'precursor', 'physio', 'fearsome', 'bourne', 'kreme', 'amazed', 'club\"', 'pessimistic', 'wimpey', 'indicating', 'overwhelmingly', 'brightest', 'kidman', 'deterioration', 'bureaucratic', 'bsl', 'huw', 'jacobsen', 'probation', 'ollie', 'blessed', 'weitz', 'gant', 'semitism', 'crass', 'sexually', 'explicit', 'visually', 'alphabet', 'priest', 'massenet', 'strauss', 'fao', 'sponsored', 'secures', 'timberlake', 'tysabri', 'redwood', 'homeless', 'presse', 'capriati', 'diploma', 'pascal', 'quits', 'clapton', 'becky', 'peru', 'clearswift', 'detector', 'baggage', 'memorabilia', 'underwood', 'berger', 'umbro', 'mosque', 'bba', 'yeo', 'madden', 'florin', 'meldrum', 'calder', 'scalp', 'varig', 'fabric', 'litre', 'saic', 'michels', 'frenzy', 'osi', 'markova', 'crossover', 'dictionary', 'industry\"', 'mojtaba', 'guinness', 'allard', 'pouwelse', 'winn', 'holiff', 'gurkha', 'electrode', 'jarvis', 'pb', 'corbett', 'tbwa', 'mladenovic', 'bruvik', 'cannabis', 'pharma', 'michigan', 'novartis', 'amr', 'hreidarsson', 'newry', 'parking', 'rewind', 'freeing', 'assisting', 'weingarten', 'examination', 'wigan', 'rounding', '110m', 'milder', 'jibe', '\"henman', 'classified', 'restrictive', '\"berlin', 'loud', 'award\"', 'branson', 'approximately', 'slack', 'freezing', 'boring', 'arrese', 'mcenroe', 'tactically', 'redemption', 'alzheimer', 'tissue', 'kidney', 'sclerosis', 'lawn', 'redundant', 'purport', 'questionnaire', 'infects', 'phoney', 'belongs', 'guise', 'eighty', 'luke', 'ubiquitous', 'widening', 'fujitsu', 'limitation', 'chennai', 'srichaphan', 'utterly', 'gsm', 'persuading', 'tunisia', 'discriminatory', 'deter', 'screenwriter', 'halloween', 'jersey', 'collaborated', 'resurrection', 'duke', 'dedication', 'toolbar', 'carol', 'jessica', 'guiding', 'eliot', '850m', 'threatens', '68m', '15m', 'trimming', 'outweighed', 'skip', 'truancy', 'stretched', 'racket', 'halved', 'breeding', 'infant', 'surroundings', 'tea', 'kylie', 'minogue', 'fm', 'originality', 'pollution', 'people\"', 'fundraising', 'rung', 'cease', 'nikkei', 'sliding', 'structural', 'robbed', 'brigade', 'policyholder', 'slumping', '2006\"', 'domecq', '1200', 'snack', 'learnt', 'ewood', 'goodison', 'insulation', 'ousted', 'kuchma', 'fearing', 'backlash', 'unlucky', 'dwayne', 'eradicate', 'stoica', 'hines', 'hinshelwood', 'mirco', 'voluntarily', 'pfizer', '150m', 'midday', 'publishes', 'wishing', 'mafia', 'hingis', 'volvo', 'money\"', 'ntpc', 'asymmetric', 'agnelli', 'bank\"', '\"top', 'mixing', 'fronted', 'bakrie', 'recognising', 'architect', 'issue\"', 'magnate', 'treasurer', 'reorganisation', 'ceri', '\"call', 'barber', 'motorsport', 'endeavour', 'tansley', 'limb', 'manual', 'letitia', 'gruelling', 'disadvantage', 'objected', 'benin', 'titan', 'mathieu', 'falsifying', 'atletico', 'kashmir', 'dividing', 'warmly', 'respective', 'sensitivity', 'immunisation', 'rhetoric', 'builder', 'xiluodu', 'sepa', '440', 'meighan', 'sergio', 'enlisted', 'spotting', 'linda', 'manson', 'isolation', 'sneak', 'ethic', '\"bank', 'cooling', 'softer', 'jeffrey', 'transplant', 'wholly', 'mackay', 'finalised', 'cherie', 'schalk', 'complexity', 'hardcourt', 'ignacio', 'chela', 'militant', 'overshadow', 'wiped', 'suck', '\"japan', 'jaw', 'transatlantic', 'roc', 'fella', 'clyde', 'ludacris', 'mobo', 'overtake', 'ushered', 'quo', 'sustainability', 'tote', 'ann', 'seminar', 'novelist', 'yet\"', 'france\"', '\"web', 'streamed', 'mustafa', 'logging', 'imbalance', 'ja', 'beyonce', 'fated', 'gaston', 'santoro', 'doris', 'witch', 'campaign\"', '\"chelsea', 'enhanced', 'rave', 'rinaldi', 'braking', 'sedan', 'endlessly', 'pollmann', 'lilly', 'ingredient', 'refining', 'mechanical', 'networking', '\"benitez', 'abandonment', 'backlog', 'dissatisfied', 'surrounded', 'designated', 'rib', 'goodness', 'hampered', 'sail', 'guaranteeing', 'tulip', 'recovers', '\"dollar', 'volatile', 'automated', 'correction', 'locate', 'lester', 'visuals', '2d', 'peppered', 'acre', 'reel', 'colombian', 'accepts', 'fundamentally', '88', 'sutton', 'curled', 'whipped', 'unmarked', 'mcgeady', 'geek', 'ransom', 'popping', 'unite', '\"greek', 'slimmer', 'tripled', 'outstripping', 'speeding', 'ifo', 'mild', 'retreat', 'specified', 'revolutionised', 'dumb', 'hulk', 'daredevil', 'humanity', 'relishing', 'mohammed', 'boast', 'conscious', 'sprinting', 'easymobile', 'muted', 'hinge', 'bang', 'encountered', 'alerted', 'springer', 'croucher', 'pretending', 'alright', 'squabble', '\"star', 'odeon', 'backstreet', 'meryl', 'streep', 'smear', 'somerset', 'shrewsbury', 'dorset', 'wayward', 'wasteful', 'lifeline', 'riise', 'nunez', 'hamann', 'macfarlane', 'unreasonable', 'costello', 'sheep', 'confront', 'omission', 'scholarship', 'loving', 'embattled', '900m', 'stockholm', 'downfall', 'emirate', 'formation', 'ellen', 'barca', 'hazard', 'qwerty', 'ra', 'oust', 'liffe', 'gaffe', 'norah', 'heaven', 'lil', 'vertigo', 'sting', 'persuasion', 'automobile', 'outcry', 'feasible', 'simplify', 'evaluation', '\"french', 'disquiet', 'gamecube', 'emily', 'anticipation', 'tightened', 'verify', 'mi', 'shevchenko', 'costa', 'shout', 'carlo', 'zoom', 'utah', 'rewrite', '360', 'kristin', 'cylinder', 'deteriorate', 'complacent', 'peaceful', 'unjustified', 'fan\"', 'dibaba', 'kathy', 'singh', 'wyatt', 'sham', 'iceland', 'proportionate', 'registrar', 'allocated', 'grudge', 'aaron', 'bout', 'cpl', 'joice', 'vaulter', 'sprinted', 'distinguish', 'exempt', 'disastrous', 'arisen', 'dad', 'climbing', '1967', 'haden', 'professionalism', 'thwarted', 'shaping', 'ecosystem', 'interactivity', 'flank', 'stuttering', 'horizon', 'succeeding', 'modelled', 'soros', 'forecaster', 'stylus', 'digitised', 'governmental', 'scroll', 'carlsberg', 'mallya', 'convertible', 'upgraded', 'stripe', '\"johnson', 'jade', 'brizzel', 'consolation', '27m', '1947', 'cow', 'delhi', 'honestly', 'trap', 'educating', 'emma', 'derail', 'noting', 'smallest', 'beirut', 'sounded', 'ripped', 'justine', 'arbitrary', 'residency', 'rennard', 'misrepresentation', 'demonstrating', 'couch', 'unhealthy', 'coup', 'icing', 'pozzebon', 'diy', 'aggregator', 'subscribe', 'syndication', 'tailored', 'podcasters', 'dawn', 'scandinavian', 'financed', 'larkin', 'bible', 'revamp', 'reacting', 'caretaker', 'calibre', 'elevated', 'sears', '23bn', 'recruitment', 'sufferer', 'compensate', 'performance\"', 'settling', 'underway', 'spectacular', 'occupying', 'magical', 'graduated', 'likeable', 'generates', 'dignity', 'camcorder', 'erratic', 'et', 'champagne', 'dub', 'regulated', 'plaster', 'comprised', 'rouble', 'analysed', 'overwhelm', 'numerical', 'poking', 'gonna', 'merry', 'dictate', 'belt', '19bn', 'disrepute', 'lander', 'dive', 'burt', 'alda', 'harlem', 'ski', 'nike', 'eyeing', 'prolonged', 'stats', 'outplayed', 'donald', 'mardy', 'disco', 'hyde', 'razorlight', 'pager', 'accidentally', 'laden', 'shedding', 'blurred', 'springing', 'specialised', 'shouting', 'fc', 'entertainer', 'crippled', 'lille', 'crane', 'herbert', 'completes', 'madagascar', 'sovereignty', 'state\"', 'jew', 'spite', '\"blunkett', '103', 'competent', 'nursery', 'wet', 'generator', 'preferring', 'overcame', 'amounting', 'chairmanship', 'realisation', 'kahn', 'lieutenant', 'aesthetic', 'larry', 'bandmates', 'restoring', 'uploaded', 'hedge', 'congressional', 'scrushy', 'alice', 'truce', 'obstacle', 'e3', 'displaying', 'spore', 'devised', 'menace', 'casey', 'belonged', 'proceed', 'fax', 'kooyong', 'programmed', 'expire', 'subdued', 'deflation', 'translation', 'hutch', 'igor', 'alain', 'coincide', 'rampersad', 'guru', 'trowbridge', 'chicoine', '178', 'lodge', 'understandable', 'await', 'whereabouts', 'brigitte', 'disgraceful', '14m', 'raft', 'despatch', 'cameo', 'ignite', 'detaining', 'adverse', 'grossly', 'costed', 'logical', 'liberalisation', 'sibneft', 'domination', 'vow', 'cynical', 'coped', 'curtain', 'pretend', 'swear', 'alerting', 'miscarriage', 'sinister', 'tagged', 'laughable', 'governed', 'proposition', 'libertarian', 'systematically', 'grieve', 'faked', 'exchequer', 'arrange', 'coincidence', 'benn', 'repeating', 'program\"', 'hyderabad', 'prerogative', 'minus', 'tyke', 'strachan', 'mandaric', 'rfu', 'livid', 'dour', 'agroflora', '96bn', 'wash', 'marlu', 'paddy', 'zealand\"', 'splitting', 'viewpoint', 'bland', 'equalised', 'memorandum', 'utilise', 'seismic', 'buoyed', '\"collins', 'dwain', 'reconsider', 'potent', 'viability', 'correctly', 'meaningful', 'root', 'altering', 'advertisement', 'edits', 'bored', 'ipcl', 'hitch', 'impresario', 'irritating', 'shadowcrew', 'brokerage', 'zoe', 'outraged', 'woodhill', 'liberation', 'generosity', 'ofsted', 'exclusively', 'stalwart', 'sincerely', 'confessed', 'countered', 'ideally', 'ante', 'acknowledges', 'warned\"', 'unidentified', 'conciliation', 'inspirational', 'buried', 'consuming', 'mmorpg', 'hobby', 'obsessive', 'thankfully', 'galaxy', 'tampa', 'montenegro', 'fading', 'eavis', 'proliferation', '70p', 'have', 'ignorance', 'picket', 'diverted', 'bondholder', 'wsis', 'decision\"', 'mccarthy', 'transistor', 'subtlety', 'believer', 'theo', 'fortuyn', 'moroccan', 'heated', 'silence', 'neighbourhood', 'ambev', 'reign', 'deportation', 'hindi', 'smit', 'giuseppe', 'matsushita', 'anthem', 'springsteen', 'famine', 'babayaro', 'sol', 'unanimously', 'preventable', 'learner', 'eef', 'discriminates', 'mendes', '1930s', 'marseille', 'royale', 'arrives', '007', 'awful', 'panasonic', 'latham', 'candela', '000th', 'battleground', 'lewd', 'shamble', 'void', 'rage', 'hassle', 'chairing', 'stark', 'clamping', 'parcel', 'interoperability', 'reassurance', 'shameless', 'doc', 'tweaked', 'mythology', 'louvre', 'admiration', 'modernise', 'apiece', 'lundgren', 'apprentice', 'taxi', '\"dvd', 'dogg', 'lightbody', 'grabbing', 'underneath', 'streamcast', 'islington', 'cancelling', 'ram', 'codenamed', 'icm', 'futurelab', 'dummy', 'zeppelin', 'imagery', 'bulb', 'democratisation', 'compatibility', 'rainbow', 'ringing', 'gloom', 'overruling', 'cripple', 'athletic', 'mechanic', 'protestors', '120m', 'livermore', 'mapping', 'larsson', 'consistency', 'webber', 'exemption', 'delaying', 'tongue', 'alistair', 'defar', 'plagued', 'donnelly', 'nickname', 'massachusetts', 'limelight', 'obscurity', 'sweeping', 'backside', 'easing', 'blunt', 'nairobi', 'buckingham', 'jerome', 'paperwork', 'notified', 'unece', '36th', 'composure', 'prettejohn', 'relayed', 'paver', 'hodge', 'powerpage', 'heal', 'barker', 'barnard', 'inexperienced', 'baring', 'imply', 'hired', 'defamation', 'toe', 'stating', 'one\"', 'cherkasky', 'mefin', 'dilemma', 'trailed', 'bernath', 'spurred', 'reversed', 'undermining', 'tore', 'dani', 'costacurta', 'hefty', 'resurrected', 'ghost', 'composition', 'interpreter', 'in', 'fingerprinting', 'earthlink', 'webroot', 'widened', 'feat', 'eliminate', '\"parmalat', 'mdr', 'hanson', 'explored', 'career\"', 'ref', 'spice', 'swung', 'lauren', 'fragmented', 'perceive', 'brive', 'tnt', 'toshitsune', 'longevity', '2020', 'crap', 'cram', 'ippr', 'proposing', 'mailing', 'dizzee', 'rascal', 'lemar', 'marvin', 'isolated', 'trailer', '\"man', 'pet', 'jill', 'puppet', 'transformer', 'jolin', 'cgi', 'marvellous', 'sampling', 'affection', 'gupta', 'burying', 'adjust', 'scent', 'hare', 'uk\"', 'secondly', 'accommodation', 'prso', 'slave', 'boardroom', 'allege', 'jealous', 'katharine', 'caller', 'bypassed', 'spelling', '\"police', '1975', 'forgeard', 'buddy', 'saturday\"', 'cruyff', 'krispy', 'ncci', 'discriminated', 'scar', 'rendered', 'indicates', 'waverley', 'kazakhstan', '\"jones', 'hurdler', 'translate', 'unforced', 'establishment', 'catchy', 'shanda', 'capgemini', 'wada', 'gomarsall', 'pullman', 'pie', 'offs', 'winemaker', 'libel', 'barbra', 'streisand', 'esteem', 'abusive', 'farina', 'elia', 'walder', 'tighten', 'lull', 'sophistication', 'raynsford', 'cue', 'imaginary', '18m', 'akamai', 'twist', 'induction', 'reopening', 'angrily', 'tetri', 'cellery', 'jugnot', 'nippon', 'pill', 'elan', 'biogen', 'boat', 'boe', 'gateway', 'appealing', 'perpignan', 'indexing', 'rosy', 'mackenzie', 'slimming', 'instalment', 'reinforces', 'quinlan', 'positively', '162', 'tanzi', 'emotionally', 'slopping', 'ietf', 'ipv6', 'ignoring', 'bargain', 'exam', 'cedric', 'ludovic', 'dialler', 'rejection', 'captained', 'benny', 'nicholls', 'contradictory', 'schrader', 'boogeyman', 'betts', 'sfa', 'dependence', 'giannakopoulos', 'bitterly', 'harley', 'lupoli', 'owusu', 'comair', 'epa', 'welch', 'britannia', 'reilly', 'amf', 'handler', 'observes', 'kujda', 'deflection', '\"clarke', 'gebrselassie', 'brutal', 'rosenborg', 'graphically', 'saakashvili', 'uganda', 'diemont', 'liberian', 'quashie', 'hislop', 'zeeuw', 'datamonitor', 'projector', 'greenfield', 'palm', 'weiner', 'smernicki', 'bosch', '7610', 'powerbook', 'conlon', 'avoids', 'cnpc', 'bloggies', 'riley', 'cobain', 'merriam', 'mia', '227', 'multiplex', 'iaea', 'makower', 'logic', 'tfc', 'fairford', 'treviso', 'exel', 'errera', 'swearing', 'wipro', 'llwyd', 'sgc', 'brennan', 'molyneux', 'pbgc', 'wardle', 'rad', 'goldfine', 'itf', 'hassell', 'babinet', 'maruti', 'sativex', 'exxon', 'contrack', 'tellier', 'solidere', 'messagelabs', 'eurodisney', 'sexist', 'nachison', 'huaral', 'irrigation', 'saldarriaga', 'tsutsumi', 'miliband']\n",
      "[[ 0.72756851 -0.26057884 -0.73779637 ..., -0.59350276  0.46667406\n",
      "  -0.34387818]\n",
      " [ 0.58914304  0.62779385 -0.57124746 ..., -0.44564831  0.67644763\n",
      "   0.51555574]\n",
      " [ 0.84139132 -1.55693746  0.57134479 ..., -1.0923152  -0.13459912\n",
      "  -0.59044909]\n",
      " ..., \n",
      " [ 0.04383487 -0.03698334 -0.05624707 ..., -0.05358861  0.04042584\n",
      "  -0.03047162]\n",
      " [ 0.04094311 -0.02201137 -0.02418733 ..., -0.03649042  0.01641328\n",
      "  -0.02548887]\n",
      " [ 0.05058155 -0.0317612  -0.01974179 ..., -0.04600464  0.02659057\n",
      "  -0.02070546]]\n"
     ]
    }
   ],
   "source": [
    "#Do the word2vec\n",
    "#Self-train word embedding\n",
    "#Train word2vec on all the texts\n",
    "model1 = Word2Vec(X, size=100, window=5, min_count=5, workers=2)\n",
    "print(model1.wv.index2word)\n",
    "print(model1.wv.syn0)\n",
    "#w2v = {w: vec for w, vec in zip(model.wv.index2word, model.wv.syn0)}"
   ]
  },
  {
   "cell_type": "code",
   "execution_count": 40,
   "metadata": {
    "collapsed": false
   },
   "outputs": [],
   "source": [
    "w2v = {w: vec for w, vec in zip(model1.wv.index2word, model1.wv.syn0)}\n",
    "#print(w2v)"
   ]
  },
  {
   "cell_type": "code",
   "execution_count": 41,
   "metadata": {
    "collapsed": false
   },
   "outputs": [
    {
     "data": {
      "text/plain": [
       "9740"
      ]
     },
     "execution_count": 41,
     "metadata": {},
     "output_type": "execute_result"
    }
   ],
   "source": [
    "len(model1.wv.index2word)"
   ]
  },
  {
   "cell_type": "code",
   "execution_count": 42,
   "metadata": {
    "collapsed": false
   },
   "outputs": [],
   "source": [
    "class TfidfEmbeddingVectorizer(object):\n",
    "    def __init__(self, word2vec):\n",
    "        self.word2vec = word2vec\n",
    "        self.word2weight = None\n",
    "        if len(word2vec)>0:\n",
    "            self.dim=len(word2vec[next(iter(w2v))])\n",
    "        else:\n",
    "            self.dim=0\n",
    "        \n",
    "    def fit(self, X):\n",
    "        tfidf = TfidfVectorizer(analyzer=lambda x: x)\n",
    "        tfidf.fit(X)\n",
    "        # if a word was never seen - it must be at least as infrequent\n",
    "        # as any of the known words - so the default idf is the max of \n",
    "        # known idf's\n",
    "        max_idf = max(tfidf.idf_)\n",
    "        self.word2weight = defaultdict(\n",
    "            lambda: max_idf, \n",
    "            [(w, tfidf.idf_[i]) for w, i in tfidf.vocabulary_.items()])\n",
    "    \n",
    "        return self\n",
    "    \n",
    "    def transform(self, X):\n",
    "        return np.array([\n",
    "                np.mean([self.word2vec[w] * self.word2weight[w]\n",
    "                         for w in words if w in self.word2vec] or\n",
    "                        [np.zeros(self.dim)], axis=0)\n",
    "                for words in X\n",
    "            ])"
   ]
  },
  {
   "cell_type": "code",
   "execution_count": 44,
   "metadata": {
    "collapsed": false
   },
   "outputs": [],
   "source": [
    "#Train word embedding vector\n",
    "word_embedding_vector = TfidfEmbeddingVectorizer(w2v).fit(data['text'])"
   ]
  },
  {
   "cell_type": "code",
   "execution_count": 48,
   "metadata": {
    "collapsed": false
   },
   "outputs": [
    {
     "data": {
      "text/plain": [
       "TfidfVectorizer(analyzer='word', binary=False, decode_error='strict',\n",
       "        dtype=<class 'numpy.int64'>, encoding='utf-8', input='content',\n",
       "        lowercase=True, max_df=1.0, max_features=5000, min_df=1,\n",
       "        ngram_range=(2, 3), norm='l2', preprocessor=None, smooth_idf=True,\n",
       "        stop_words=None, strip_accents=None, sublinear_tf=False,\n",
       "        token_pattern='\\\\w{1,}', tokenizer=None, use_idf=True,\n",
       "        vocabulary=None)"
      ]
     },
     "execution_count": 48,
     "metadata": {},
     "output_type": "execute_result"
    }
   ],
   "source": [
    "#Train TFIDF vector\n",
    "# word level tf-idf\n",
    "tfidf_vect_word = TfidfVectorizer(analyzer='word', token_pattern=r'\\w{1,}', max_features=5000)\n",
    "tfidf_vect_word.fit(data['text'])\n",
    "# ngram level tf-idf \n",
    "tfidf_vect_ngram = TfidfVectorizer(analyzer='word', token_pattern=r'\\w{1,}', ngram_range=(2,3), max_features=5000)\n",
    "tfidf_vect_ngram.fit(data['text'])"
   ]
  },
  {
   "cell_type": "code",
   "execution_count": 49,
   "metadata": {
    "collapsed": true
   },
   "outputs": [],
   "source": [
    "def transforming(x):\n",
    "    #Transform train_x into vectors\n",
    "    train_x_word_embedding = word_embedding_vector.transform(x)\n",
    "    train_x_tfidf_word = tfidf_vect_word.transform(x)\n",
    "    train_x_tfidf_ngram = tfidf_vect_ngram.transform(x)\n",
    "    #Stack all vectors together\n",
    "    transformed_train_x = hstack([train_x_word_embedding,train_x_tfidf_word,train_x_tfidf_ngram])\n",
    "    return transformed_train_x"
   ]
  },
  {
   "cell_type": "code",
   "execution_count": 51,
   "metadata": {
    "collapsed": false
   },
   "outputs": [],
   "source": [
    "transformed_train_x = transforming(train_x)"
   ]
  },
  {
   "cell_type": "code",
   "execution_count": 53,
   "metadata": {
    "collapsed": false
   },
   "outputs": [
    {
     "data": {
      "text/plain": [
       "(1557,)"
      ]
     },
     "execution_count": 53,
     "metadata": {},
     "output_type": "execute_result"
    }
   ],
   "source": [
    "train_x.shape"
   ]
  },
  {
   "cell_type": "code",
   "execution_count": 54,
   "metadata": {
    "collapsed": false
   },
   "outputs": [
    {
     "data": {
      "text/plain": [
       "(1557, 10100)"
      ]
     },
     "execution_count": 54,
     "metadata": {},
     "output_type": "execute_result"
    }
   ],
   "source": [
    "transformed_train_x.shape"
   ]
  },
  {
   "cell_type": "code",
   "execution_count": 59,
   "metadata": {
    "collapsed": false
   },
   "outputs": [
    {
     "name": "stdout",
     "output_type": "stream",
     "text": [
      "Best Penalty: l2\n",
      "Best C: 464.158883361\n"
     ]
    }
   ],
   "source": [
    "#define algorithm\n",
    "logistic = linear_model.LogisticRegression()\n",
    "\n",
    "# Create regularization penalty space\n",
    "penalty = ['l1', 'l2']\n",
    "\n",
    "# Create regularization hyperparameter space\n",
    "C = np.logspace(0, 4, 10)\n",
    "\n",
    "# Create hyperparameter options\n",
    "hyperparameters = dict(C=C, penalty=penalty)\n",
    "\n",
    "# Create grid search using 5-fold cross validation\n",
    "clf = GridSearchCV(logistic, hyperparameters, cv=5, verbose=0)\n",
    "# Fit grid search\n",
    "best_model = clf.fit(transformed_train_x, train_y)\n",
    "\n",
    "# View best hyperparameters\n",
    "print('Best Penalty:', best_model.best_estimator_.get_params()['penalty'])\n",
    "print('Best C:', best_model.best_estimator_.get_params()['C'])"
   ]
  },
  {
   "cell_type": "code",
   "execution_count": 61,
   "metadata": {
    "collapsed": false
   },
   "outputs": [],
   "source": [
    "# get transforming text data\n",
    "transformed_test_x = transforming(valid_x)"
   ]
  },
  {
   "cell_type": "code",
   "execution_count": 62,
   "metadata": {
    "collapsed": true
   },
   "outputs": [],
   "source": [
    "predicted_valid_y = best_model.predict(transformed_test_x)\n",
    "predicted_valid_y_proba = best_model.predict_proba(transformed_test_x)"
   ]
  },
  {
   "cell_type": "code",
   "execution_count": 63,
   "metadata": {
    "collapsed": true
   },
   "outputs": [],
   "source": [
    "predicted_valid_y_proba_max = []\n",
    "for x in predicted_valid_y_proba:\n",
    "    predicted_valid_y_proba_max.append(max(x))"
   ]
  },
  {
   "cell_type": "code",
   "execution_count": 64,
   "metadata": {
    "collapsed": false
   },
   "outputs": [
    {
     "data": {
      "text/plain": [
       "0.9760479041916168"
      ]
     },
     "execution_count": 64,
     "metadata": {},
     "output_type": "execute_result"
    }
   ],
   "source": [
    "# check accuracy\n",
    "np.mean(predicted_valid_y == valid_y)"
   ]
  },
  {
   "cell_type": "code",
   "execution_count": 65,
   "metadata": {
    "collapsed": false
   },
   "outputs": [
    {
     "data": {
      "text/html": [
       "<div>\n",
       "<style>\n",
       "    .dataframe thead tr:only-child th {\n",
       "        text-align: right;\n",
       "    }\n",
       "\n",
       "    .dataframe thead th {\n",
       "        text-align: left;\n",
       "    }\n",
       "\n",
       "    .dataframe tbody tr th {\n",
       "        vertical-align: top;\n",
       "    }\n",
       "</style>\n",
       "<table border=\"1\" class=\"dataframe\">\n",
       "  <thead>\n",
       "    <tr style=\"text-align: right;\">\n",
       "      <th>Predicted</th>\n",
       "      <th>business</th>\n",
       "      <th>entertainment</th>\n",
       "      <th>politics</th>\n",
       "      <th>sport</th>\n",
       "      <th>tech</th>\n",
       "      <th>All</th>\n",
       "    </tr>\n",
       "    <tr>\n",
       "      <th>True</th>\n",
       "      <th></th>\n",
       "      <th></th>\n",
       "      <th></th>\n",
       "      <th></th>\n",
       "      <th></th>\n",
       "      <th></th>\n",
       "    </tr>\n",
       "  </thead>\n",
       "  <tbody>\n",
       "    <tr>\n",
       "      <th>business</th>\n",
       "      <td>154</td>\n",
       "      <td>0</td>\n",
       "      <td>1</td>\n",
       "      <td>1</td>\n",
       "      <td>2</td>\n",
       "      <td>158</td>\n",
       "    </tr>\n",
       "    <tr>\n",
       "      <th>entertainment</th>\n",
       "      <td>0</td>\n",
       "      <td>105</td>\n",
       "      <td>1</td>\n",
       "      <td>0</td>\n",
       "      <td>1</td>\n",
       "      <td>107</td>\n",
       "    </tr>\n",
       "    <tr>\n",
       "      <th>politics</th>\n",
       "      <td>3</td>\n",
       "      <td>1</td>\n",
       "      <td>122</td>\n",
       "      <td>1</td>\n",
       "      <td>0</td>\n",
       "      <td>127</td>\n",
       "    </tr>\n",
       "    <tr>\n",
       "      <th>sport</th>\n",
       "      <td>1</td>\n",
       "      <td>0</td>\n",
       "      <td>0</td>\n",
       "      <td>153</td>\n",
       "      <td>0</td>\n",
       "      <td>154</td>\n",
       "    </tr>\n",
       "    <tr>\n",
       "      <th>tech</th>\n",
       "      <td>0</td>\n",
       "      <td>1</td>\n",
       "      <td>2</td>\n",
       "      <td>1</td>\n",
       "      <td>118</td>\n",
       "      <td>122</td>\n",
       "    </tr>\n",
       "    <tr>\n",
       "      <th>All</th>\n",
       "      <td>158</td>\n",
       "      <td>107</td>\n",
       "      <td>126</td>\n",
       "      <td>156</td>\n",
       "      <td>121</td>\n",
       "      <td>668</td>\n",
       "    </tr>\n",
       "  </tbody>\n",
       "</table>\n",
       "</div>"
      ],
      "text/plain": [
       "Predicted      business  entertainment  politics  sport  tech  All\n",
       "True                                                              \n",
       "business            154              0         1      1     2  158\n",
       "entertainment         0            105         1      0     1  107\n",
       "politics              3              1       122      1     0  127\n",
       "sport                 1              0         0    153     0  154\n",
       "tech                  0              1         2      1   118  122\n",
       "All                 158            107       126    156   121  668"
      ]
     },
     "execution_count": 65,
     "metadata": {},
     "output_type": "execute_result"
    }
   ],
   "source": [
    "pd.crosstab(valid_y, predicted_valid_y, rownames=['True'], colnames=['Predicted'], margins=True)"
   ]
  },
  {
   "cell_type": "code",
   "execution_count": 66,
   "metadata": {
    "collapsed": true
   },
   "outputs": [],
   "source": [
    "#create a dataframe for prediction results\n",
    "result_df = pd.DataFrame(np.column_stack([valid_x,valid_y,\n",
    "                                         predicted_valid_y, predicted_valid_y_proba_max]),\n",
    "                         columns = ['Text','Ture_category','PREDICTED_cetegory', '% PREDICTED_cetegory'],\n",
    "                         index = valid_x.index)\n"
   ]
  },
  {
   "cell_type": "code",
   "execution_count": 67,
   "metadata": {
    "collapsed": false
   },
   "outputs": [
    {
     "data": {
      "text/html": [
       "<div>\n",
       "<style>\n",
       "    .dataframe thead tr:only-child th {\n",
       "        text-align: right;\n",
       "    }\n",
       "\n",
       "    .dataframe thead th {\n",
       "        text-align: left;\n",
       "    }\n",
       "\n",
       "    .dataframe tbody tr th {\n",
       "        vertical-align: top;\n",
       "    }\n",
       "</style>\n",
       "<table border=\"1\" class=\"dataframe\">\n",
       "  <thead>\n",
       "    <tr style=\"text-align: right;\">\n",
       "      <th></th>\n",
       "      <th>Text</th>\n",
       "      <th>Ture_category</th>\n",
       "      <th>PREDICTED_cetegory</th>\n",
       "      <th>% PREDICTED_cetegory</th>\n",
       "    </tr>\n",
       "  </thead>\n",
       "  <tbody>\n",
       "    <tr>\n",
       "      <th>942</th>\n",
       "      <td>butler strike gold spain britain kathy butler ...</td>\n",
       "      <td>sport</td>\n",
       "      <td>sport</td>\n",
       "      <td>0.994596</td>\n",
       "    </tr>\n",
       "    <tr>\n",
       "      <th>1429</th>\n",
       "      <td>bt offer equal access rival bt moved pre empt ...</td>\n",
       "      <td>business</td>\n",
       "      <td>tech</td>\n",
       "      <td>0.504323</td>\n",
       "    </tr>\n",
       "    <tr>\n",
       "      <th>1771</th>\n",
       "      <td>apple laptop greatest gadget apple powerbook 1...</td>\n",
       "      <td>tech</td>\n",
       "      <td>tech</td>\n",
       "      <td>0.998535</td>\n",
       "    </tr>\n",
       "    <tr>\n",
       "      <th>701</th>\n",
       "      <td>peer peer net stay peer peer p2p network stay ...</td>\n",
       "      <td>tech</td>\n",
       "      <td>tech</td>\n",
       "      <td>0.997934</td>\n",
       "    </tr>\n",
       "    <tr>\n",
       "      <th>459</th>\n",
       "      <td>fuming robinson blast official england coach a...</td>\n",
       "      <td>sport</td>\n",
       "      <td>sport</td>\n",
       "      <td>0.99897</td>\n",
       "    </tr>\n",
       "    <tr>\n",
       "      <th>2009</th>\n",
       "      <td>tindall aiming earn lion spot bath england cen...</td>\n",
       "      <td>sport</td>\n",
       "      <td>sport</td>\n",
       "      <td>0.994988</td>\n",
       "    </tr>\n",
       "    <tr>\n",
       "      <th>1428</th>\n",
       "      <td>sfa awaits report mikoliunas scottish football...</td>\n",
       "      <td>sport</td>\n",
       "      <td>sport</td>\n",
       "      <td>0.995133</td>\n",
       "    </tr>\n",
       "    <tr>\n",
       "      <th>2138</th>\n",
       "      <td>libya take 1bn unfrozen fund libya withdrawn 1...</td>\n",
       "      <td>business</td>\n",
       "      <td>business</td>\n",
       "      <td>0.998218</td>\n",
       "    </tr>\n",
       "    <tr>\n",
       "      <th>191</th>\n",
       "      <td>ticking budget facing u budget proposal laid a...</td>\n",
       "      <td>business</td>\n",
       "      <td>business</td>\n",
       "      <td>0.988215</td>\n",
       "    </tr>\n",
       "    <tr>\n",
       "      <th>763</th>\n",
       "      <td>share rise new man utd offer share manchester ...</td>\n",
       "      <td>business</td>\n",
       "      <td>business</td>\n",
       "      <td>0.998686</td>\n",
       "    </tr>\n",
       "    <tr>\n",
       "      <th>386</th>\n",
       "      <td>wright phillips start right england coach sven...</td>\n",
       "      <td>sport</td>\n",
       "      <td>sport</td>\n",
       "      <td>0.99466</td>\n",
       "    </tr>\n",
       "    <tr>\n",
       "      <th>1062</th>\n",
       "      <td>question trust technology major government dep...</td>\n",
       "      <td>tech</td>\n",
       "      <td>tech</td>\n",
       "      <td>0.858955</td>\n",
       "    </tr>\n",
       "    <tr>\n",
       "      <th>1141</th>\n",
       "      <td>mandelson warns bbc campbell bbc steer away de...</td>\n",
       "      <td>politics</td>\n",
       "      <td>politics</td>\n",
       "      <td>0.999117</td>\n",
       "    </tr>\n",
       "    <tr>\n",
       "      <th>2052</th>\n",
       "      <td>renault bos hail great year strong sale outsid...</td>\n",
       "      <td>business</td>\n",
       "      <td>business</td>\n",
       "      <td>0.999243</td>\n",
       "    </tr>\n",
       "    <tr>\n",
       "      <th>1637</th>\n",
       "      <td>china aviation seek rescue deal scandal hit je...</td>\n",
       "      <td>business</td>\n",
       "      <td>business</td>\n",
       "      <td>0.99926</td>\n",
       "    </tr>\n",
       "    <tr>\n",
       "      <th>1231</th>\n",
       "      <td>hollywood campaign hit website movie studio ef...</td>\n",
       "      <td>tech</td>\n",
       "      <td>tech</td>\n",
       "      <td>0.997763</td>\n",
       "    </tr>\n",
       "    <tr>\n",
       "      <th>90</th>\n",
       "      <td>slovakia reach hopman cup final slovakia play ...</td>\n",
       "      <td>sport</td>\n",
       "      <td>sport</td>\n",
       "      <td>0.999135</td>\n",
       "    </tr>\n",
       "    <tr>\n",
       "      <th>732</th>\n",
       "      <td>gb select holmes double bid kelly holmes chose...</td>\n",
       "      <td>sport</td>\n",
       "      <td>sport</td>\n",
       "      <td>0.998301</td>\n",
       "    </tr>\n",
       "    <tr>\n",
       "      <th>606</th>\n",
       "      <td>court mull file sharing future judge u supreme...</td>\n",
       "      <td>tech</td>\n",
       "      <td>tech</td>\n",
       "      <td>0.997684</td>\n",
       "    </tr>\n",
       "    <tr>\n",
       "      <th>361</th>\n",
       "      <td>u woman sue cartridge u woman suing hewlett pa...</td>\n",
       "      <td>tech</td>\n",
       "      <td>tech</td>\n",
       "      <td>0.992983</td>\n",
       "    </tr>\n",
       "    <tr>\n",
       "      <th>686</th>\n",
       "      <td>musical treatment capra film classic film wond...</td>\n",
       "      <td>entertainment</td>\n",
       "      <td>entertainment</td>\n",
       "      <td>0.997881</td>\n",
       "    </tr>\n",
       "    <tr>\n",
       "      <th>23</th>\n",
       "      <td>cole face lengthy injury lay aston villa carlt...</td>\n",
       "      <td>sport</td>\n",
       "      <td>sport</td>\n",
       "      <td>0.997977</td>\n",
       "    </tr>\n",
       "    <tr>\n",
       "      <th>413</th>\n",
       "      <td>artist secret postcard sale postcard artist in...</td>\n",
       "      <td>entertainment</td>\n",
       "      <td>entertainment</td>\n",
       "      <td>0.939863</td>\n",
       "    </tr>\n",
       "    <tr>\n",
       "      <th>2218</th>\n",
       "      <td>davy favour gloucester future wale hooker mefi...</td>\n",
       "      <td>sport</td>\n",
       "      <td>sport</td>\n",
       "      <td>0.996907</td>\n",
       "    </tr>\n",
       "    <tr>\n",
       "      <th>547</th>\n",
       "      <td>ink help drive democracy asia kyrgyz republic ...</td>\n",
       "      <td>tech</td>\n",
       "      <td>politics</td>\n",
       "      <td>0.352899</td>\n",
       "    </tr>\n",
       "    <tr>\n",
       "      <th>773</th>\n",
       "      <td>blackburn v burnley ewood park tuesday 1 march...</td>\n",
       "      <td>sport</td>\n",
       "      <td>sport</td>\n",
       "      <td>0.998524</td>\n",
       "    </tr>\n",
       "    <tr>\n",
       "      <th>33</th>\n",
       "      <td>show mtv osbournes rock star ozzy osbourne sai...</td>\n",
       "      <td>entertainment</td>\n",
       "      <td>entertainment</td>\n",
       "      <td>0.997469</td>\n",
       "    </tr>\n",
       "    <tr>\n",
       "      <th>2042</th>\n",
       "      <td>injury sideline philippoussis mark philippouss...</td>\n",
       "      <td>sport</td>\n",
       "      <td>sport</td>\n",
       "      <td>0.998207</td>\n",
       "    </tr>\n",
       "    <tr>\n",
       "      <th>339</th>\n",
       "      <td>russian ex spy hunger strike ex russian intell...</td>\n",
       "      <td>politics</td>\n",
       "      <td>politics</td>\n",
       "      <td>0.945077</td>\n",
       "    </tr>\n",
       "    <tr>\n",
       "      <th>2106</th>\n",
       "      <td>u trade deficit widens sharply gap u export im...</td>\n",
       "      <td>business</td>\n",
       "      <td>business</td>\n",
       "      <td>0.999421</td>\n",
       "    </tr>\n",
       "    <tr>\n",
       "      <th>...</th>\n",
       "      <td>...</td>\n",
       "      <td>...</td>\n",
       "      <td>...</td>\n",
       "      <td>...</td>\n",
       "    </tr>\n",
       "    <tr>\n",
       "      <th>2177</th>\n",
       "      <td>henman decides quit davis cup tim henman retir...</td>\n",
       "      <td>sport</td>\n",
       "      <td>sport</td>\n",
       "      <td>0.99873</td>\n",
       "    </tr>\n",
       "    <tr>\n",
       "      <th>1138</th>\n",
       "      <td>euro firm miss optimism 90 large company aroun...</td>\n",
       "      <td>business</td>\n",
       "      <td>business</td>\n",
       "      <td>0.99855</td>\n",
       "    </tr>\n",
       "    <tr>\n",
       "      <th>1137</th>\n",
       "      <td>arcy injury add ireland woe gordon arcy ruled ...</td>\n",
       "      <td>sport</td>\n",
       "      <td>sport</td>\n",
       "      <td>0.997613</td>\n",
       "    </tr>\n",
       "    <tr>\n",
       "      <th>1301</th>\n",
       "      <td>short attack u tsunami aid former cabinet mini...</td>\n",
       "      <td>politics</td>\n",
       "      <td>politics</td>\n",
       "      <td>0.793502</td>\n",
       "    </tr>\n",
       "    <tr>\n",
       "      <th>1814</th>\n",
       "      <td>disputed nirvana box set sale box set featurin...</td>\n",
       "      <td>entertainment</td>\n",
       "      <td>entertainment</td>\n",
       "      <td>0.990303</td>\n",
       "    </tr>\n",
       "    <tr>\n",
       "      <th>1562</th>\n",
       "      <td>manics charge bbc 6 music manic street preache...</td>\n",
       "      <td>entertainment</td>\n",
       "      <td>entertainment</td>\n",
       "      <td>0.992396</td>\n",
       "    </tr>\n",
       "    <tr>\n",
       "      <th>1777</th>\n",
       "      <td>tevez argentine brazil 65 year ago bernardo ga...</td>\n",
       "      <td>sport</td>\n",
       "      <td>sport</td>\n",
       "      <td>0.939143</td>\n",
       "    </tr>\n",
       "    <tr>\n",
       "      <th>1117</th>\n",
       "      <td>tsunami slows sri lanka growth sri lanka presi...</td>\n",
       "      <td>business</td>\n",
       "      <td>business</td>\n",
       "      <td>0.998013</td>\n",
       "    </tr>\n",
       "    <tr>\n",
       "      <th>1064</th>\n",
       "      <td>queen recruit singer new tour remaining member...</td>\n",
       "      <td>entertainment</td>\n",
       "      <td>entertainment</td>\n",
       "      <td>0.997641</td>\n",
       "    </tr>\n",
       "    <tr>\n",
       "      <th>947</th>\n",
       "      <td>connick jr lead broadway show singer actor har...</td>\n",
       "      <td>entertainment</td>\n",
       "      <td>entertainment</td>\n",
       "      <td>0.996421</td>\n",
       "    </tr>\n",
       "    <tr>\n",
       "      <th>296</th>\n",
       "      <td>cage film third week u top nicolas cage movie ...</td>\n",
       "      <td>entertainment</td>\n",
       "      <td>entertainment</td>\n",
       "      <td>0.997534</td>\n",
       "    </tr>\n",
       "    <tr>\n",
       "      <th>816</th>\n",
       "      <td>india unveils anti poverty budget india boost ...</td>\n",
       "      <td>business</td>\n",
       "      <td>business</td>\n",
       "      <td>0.97954</td>\n",
       "    </tr>\n",
       "    <tr>\n",
       "      <th>584</th>\n",
       "      <td>fa decides punish mourinho football associatio...</td>\n",
       "      <td>sport</td>\n",
       "      <td>sport</td>\n",
       "      <td>0.999418</td>\n",
       "    </tr>\n",
       "    <tr>\n",
       "      <th>1766</th>\n",
       "      <td>china overtake u net use chinese net using pop...</td>\n",
       "      <td>tech</td>\n",
       "      <td>tech</td>\n",
       "      <td>0.998262</td>\n",
       "    </tr>\n",
       "    <tr>\n",
       "      <th>977</th>\n",
       "      <td>jones happy henson heroic wale fly half stephe...</td>\n",
       "      <td>sport</td>\n",
       "      <td>sport</td>\n",
       "      <td>0.998809</td>\n",
       "    </tr>\n",
       "    <tr>\n",
       "      <th>936</th>\n",
       "      <td>charvis set lose fitness bid flanker colin cha...</td>\n",
       "      <td>sport</td>\n",
       "      <td>sport</td>\n",
       "      <td>0.996394</td>\n",
       "    </tr>\n",
       "    <tr>\n",
       "      <th>569</th>\n",
       "      <td>shark tale dvd u best seller oscar nominated a...</td>\n",
       "      <td>entertainment</td>\n",
       "      <td>entertainment</td>\n",
       "      <td>0.993888</td>\n",
       "    </tr>\n",
       "    <tr>\n",
       "      <th>897</th>\n",
       "      <td>lib dems target student vote student decide fa...</td>\n",
       "      <td>politics</td>\n",
       "      <td>politics</td>\n",
       "      <td>0.998437</td>\n",
       "    </tr>\n",
       "    <tr>\n",
       "      <th>1259</th>\n",
       "      <td>uk heading wrong way howard tony blair chance ...</td>\n",
       "      <td>politics</td>\n",
       "      <td>politics</td>\n",
       "      <td>0.999541</td>\n",
       "    </tr>\n",
       "    <tr>\n",
       "      <th>52</th>\n",
       "      <td>standard life cut policy bonus standard life e...</td>\n",
       "      <td>business</td>\n",
       "      <td>business</td>\n",
       "      <td>0.999162</td>\n",
       "    </tr>\n",
       "    <tr>\n",
       "      <th>1041</th>\n",
       "      <td>aviator creator oscar snub man said got oscar ...</td>\n",
       "      <td>entertainment</td>\n",
       "      <td>entertainment</td>\n",
       "      <td>0.999166</td>\n",
       "    </tr>\n",
       "    <tr>\n",
       "      <th>1760</th>\n",
       "      <td>mcclaren hail boro uefa spirit middlesbrough b...</td>\n",
       "      <td>sport</td>\n",
       "      <td>sport</td>\n",
       "      <td>0.997834</td>\n",
       "    </tr>\n",
       "    <tr>\n",
       "      <th>1555</th>\n",
       "      <td>u bank 515m sec settlement five bank america s...</td>\n",
       "      <td>business</td>\n",
       "      <td>business</td>\n",
       "      <td>0.996301</td>\n",
       "    </tr>\n",
       "    <tr>\n",
       "      <th>739</th>\n",
       "      <td>labour election love peace love short supply l...</td>\n",
       "      <td>politics</td>\n",
       "      <td>politics</td>\n",
       "      <td>0.998406</td>\n",
       "    </tr>\n",
       "    <tr>\n",
       "      <th>1072</th>\n",
       "      <td>window worm travel tetri user warned window vi...</td>\n",
       "      <td>tech</td>\n",
       "      <td>tech</td>\n",
       "      <td>0.998752</td>\n",
       "    </tr>\n",
       "    <tr>\n",
       "      <th>1721</th>\n",
       "      <td>tory leader quits legal position david mcletch...</td>\n",
       "      <td>politics</td>\n",
       "      <td>politics</td>\n",
       "      <td>0.997215</td>\n",
       "    </tr>\n",
       "    <tr>\n",
       "      <th>1524</th>\n",
       "      <td>gerrard happy anfield liverpool captain steven...</td>\n",
       "      <td>sport</td>\n",
       "      <td>sport</td>\n",
       "      <td>0.999026</td>\n",
       "    </tr>\n",
       "    <tr>\n",
       "      <th>353</th>\n",
       "      <td>pearce keen succeeding keegan joint assistant ...</td>\n",
       "      <td>sport</td>\n",
       "      <td>sport</td>\n",
       "      <td>0.990821</td>\n",
       "    </tr>\n",
       "    <tr>\n",
       "      <th>1058</th>\n",
       "      <td>howl help boost japan cinema japan box office ...</td>\n",
       "      <td>entertainment</td>\n",
       "      <td>entertainment</td>\n",
       "      <td>0.993661</td>\n",
       "    </tr>\n",
       "    <tr>\n",
       "      <th>1476</th>\n",
       "      <td>dollar slide ahead new year u dollar hit new r...</td>\n",
       "      <td>business</td>\n",
       "      <td>business</td>\n",
       "      <td>0.999453</td>\n",
       "    </tr>\n",
       "  </tbody>\n",
       "</table>\n",
       "<p>668 rows × 4 columns</p>\n",
       "</div>"
      ],
      "text/plain": [
       "                                                   Text  Ture_category  \\\n",
       "942   butler strike gold spain britain kathy butler ...          sport   \n",
       "1429  bt offer equal access rival bt moved pre empt ...       business   \n",
       "1771  apple laptop greatest gadget apple powerbook 1...           tech   \n",
       "701   peer peer net stay peer peer p2p network stay ...           tech   \n",
       "459   fuming robinson blast official england coach a...          sport   \n",
       "2009  tindall aiming earn lion spot bath england cen...          sport   \n",
       "1428  sfa awaits report mikoliunas scottish football...          sport   \n",
       "2138  libya take 1bn unfrozen fund libya withdrawn 1...       business   \n",
       "191   ticking budget facing u budget proposal laid a...       business   \n",
       "763   share rise new man utd offer share manchester ...       business   \n",
       "386   wright phillips start right england coach sven...          sport   \n",
       "1062  question trust technology major government dep...           tech   \n",
       "1141  mandelson warns bbc campbell bbc steer away de...       politics   \n",
       "2052  renault bos hail great year strong sale outsid...       business   \n",
       "1637  china aviation seek rescue deal scandal hit je...       business   \n",
       "1231  hollywood campaign hit website movie studio ef...           tech   \n",
       "90    slovakia reach hopman cup final slovakia play ...          sport   \n",
       "732   gb select holmes double bid kelly holmes chose...          sport   \n",
       "606   court mull file sharing future judge u supreme...           tech   \n",
       "361   u woman sue cartridge u woman suing hewlett pa...           tech   \n",
       "686   musical treatment capra film classic film wond...  entertainment   \n",
       "23    cole face lengthy injury lay aston villa carlt...          sport   \n",
       "413   artist secret postcard sale postcard artist in...  entertainment   \n",
       "2218  davy favour gloucester future wale hooker mefi...          sport   \n",
       "547   ink help drive democracy asia kyrgyz republic ...           tech   \n",
       "773   blackburn v burnley ewood park tuesday 1 march...          sport   \n",
       "33    show mtv osbournes rock star ozzy osbourne sai...  entertainment   \n",
       "2042  injury sideline philippoussis mark philippouss...          sport   \n",
       "339   russian ex spy hunger strike ex russian intell...       politics   \n",
       "2106  u trade deficit widens sharply gap u export im...       business   \n",
       "...                                                 ...            ...   \n",
       "2177  henman decides quit davis cup tim henman retir...          sport   \n",
       "1138  euro firm miss optimism 90 large company aroun...       business   \n",
       "1137  arcy injury add ireland woe gordon arcy ruled ...          sport   \n",
       "1301  short attack u tsunami aid former cabinet mini...       politics   \n",
       "1814  disputed nirvana box set sale box set featurin...  entertainment   \n",
       "1562  manics charge bbc 6 music manic street preache...  entertainment   \n",
       "1777  tevez argentine brazil 65 year ago bernardo ga...          sport   \n",
       "1117  tsunami slows sri lanka growth sri lanka presi...       business   \n",
       "1064  queen recruit singer new tour remaining member...  entertainment   \n",
       "947   connick jr lead broadway show singer actor har...  entertainment   \n",
       "296   cage film third week u top nicolas cage movie ...  entertainment   \n",
       "816   india unveils anti poverty budget india boost ...       business   \n",
       "584   fa decides punish mourinho football associatio...          sport   \n",
       "1766  china overtake u net use chinese net using pop...           tech   \n",
       "977   jones happy henson heroic wale fly half stephe...          sport   \n",
       "936   charvis set lose fitness bid flanker colin cha...          sport   \n",
       "569   shark tale dvd u best seller oscar nominated a...  entertainment   \n",
       "897   lib dems target student vote student decide fa...       politics   \n",
       "1259  uk heading wrong way howard tony blair chance ...       politics   \n",
       "52    standard life cut policy bonus standard life e...       business   \n",
       "1041  aviator creator oscar snub man said got oscar ...  entertainment   \n",
       "1760  mcclaren hail boro uefa spirit middlesbrough b...          sport   \n",
       "1555  u bank 515m sec settlement five bank america s...       business   \n",
       "739   labour election love peace love short supply l...       politics   \n",
       "1072  window worm travel tetri user warned window vi...           tech   \n",
       "1721  tory leader quits legal position david mcletch...       politics   \n",
       "1524  gerrard happy anfield liverpool captain steven...          sport   \n",
       "353   pearce keen succeeding keegan joint assistant ...          sport   \n",
       "1058  howl help boost japan cinema japan box office ...  entertainment   \n",
       "1476  dollar slide ahead new year u dollar hit new r...       business   \n",
       "\n",
       "     PREDICTED_cetegory % PREDICTED_cetegory  \n",
       "942               sport             0.994596  \n",
       "1429               tech             0.504323  \n",
       "1771               tech             0.998535  \n",
       "701                tech             0.997934  \n",
       "459               sport              0.99897  \n",
       "2009              sport             0.994988  \n",
       "1428              sport             0.995133  \n",
       "2138           business             0.998218  \n",
       "191            business             0.988215  \n",
       "763            business             0.998686  \n",
       "386               sport              0.99466  \n",
       "1062               tech             0.858955  \n",
       "1141           politics             0.999117  \n",
       "2052           business             0.999243  \n",
       "1637           business              0.99926  \n",
       "1231               tech             0.997763  \n",
       "90                sport             0.999135  \n",
       "732               sport             0.998301  \n",
       "606                tech             0.997684  \n",
       "361                tech             0.992983  \n",
       "686       entertainment             0.997881  \n",
       "23                sport             0.997977  \n",
       "413       entertainment             0.939863  \n",
       "2218              sport             0.996907  \n",
       "547            politics             0.352899  \n",
       "773               sport             0.998524  \n",
       "33        entertainment             0.997469  \n",
       "2042              sport             0.998207  \n",
       "339            politics             0.945077  \n",
       "2106           business             0.999421  \n",
       "...                 ...                  ...  \n",
       "2177              sport              0.99873  \n",
       "1138           business              0.99855  \n",
       "1137              sport             0.997613  \n",
       "1301           politics             0.793502  \n",
       "1814      entertainment             0.990303  \n",
       "1562      entertainment             0.992396  \n",
       "1777              sport             0.939143  \n",
       "1117           business             0.998013  \n",
       "1064      entertainment             0.997641  \n",
       "947       entertainment             0.996421  \n",
       "296       entertainment             0.997534  \n",
       "816            business              0.97954  \n",
       "584               sport             0.999418  \n",
       "1766               tech             0.998262  \n",
       "977               sport             0.998809  \n",
       "936               sport             0.996394  \n",
       "569       entertainment             0.993888  \n",
       "897            politics             0.998437  \n",
       "1259           politics             0.999541  \n",
       "52             business             0.999162  \n",
       "1041      entertainment             0.999166  \n",
       "1760              sport             0.997834  \n",
       "1555           business             0.996301  \n",
       "739            politics             0.998406  \n",
       "1072               tech             0.998752  \n",
       "1721           politics             0.997215  \n",
       "1524              sport             0.999026  \n",
       "353               sport             0.990821  \n",
       "1058      entertainment             0.993661  \n",
       "1476           business             0.999453  \n",
       "\n",
       "[668 rows x 4 columns]"
      ]
     },
     "execution_count": 67,
     "metadata": {},
     "output_type": "execute_result"
    }
   ],
   "source": [
    "result_df"
   ]
  },
  {
   "cell_type": "code",
   "execution_count": 68,
   "metadata": {
    "collapsed": false
   },
   "outputs": [
    {
     "data": {
      "text/plain": [
       "(668, 4)"
      ]
     },
     "execution_count": 68,
     "metadata": {},
     "output_type": "execute_result"
    }
   ],
   "source": [
    "result_df.shape"
   ]
  },
  {
   "cell_type": "code",
   "execution_count": 70,
   "metadata": {
    "collapsed": false
   },
   "outputs": [
    {
     "data": {
      "text/html": [
       "<div>\n",
       "<style>\n",
       "    .dataframe thead tr:only-child th {\n",
       "        text-align: right;\n",
       "    }\n",
       "\n",
       "    .dataframe thead th {\n",
       "        text-align: left;\n",
       "    }\n",
       "\n",
       "    .dataframe tbody tr th {\n",
       "        vertical-align: top;\n",
       "    }\n",
       "</style>\n",
       "<table border=\"1\" class=\"dataframe\">\n",
       "  <thead>\n",
       "    <tr style=\"text-align: right;\">\n",
       "      <th></th>\n",
       "      <th>Text</th>\n",
       "      <th>Ture_category</th>\n",
       "      <th>PREDICTED_cetegory</th>\n",
       "      <th>% PREDICTED_cetegory</th>\n",
       "    </tr>\n",
       "  </thead>\n",
       "  <tbody>\n",
       "    <tr>\n",
       "      <th>1429</th>\n",
       "      <td>bt offer equal access rival bt moved pre empt ...</td>\n",
       "      <td>business</td>\n",
       "      <td>tech</td>\n",
       "      <td>0.504323</td>\n",
       "    </tr>\n",
       "    <tr>\n",
       "      <th>547</th>\n",
       "      <td>ink help drive democracy asia kyrgyz republic ...</td>\n",
       "      <td>tech</td>\n",
       "      <td>politics</td>\n",
       "      <td>0.352899</td>\n",
       "    </tr>\n",
       "    <tr>\n",
       "      <th>384</th>\n",
       "      <td>drive save festive holiday effort made protect...</td>\n",
       "      <td>politics</td>\n",
       "      <td>entertainment</td>\n",
       "      <td>0.558888</td>\n",
       "    </tr>\n",
       "    <tr>\n",
       "      <th>1146</th>\n",
       "      <td>bbc lead interactive bafta win bbc national th...</td>\n",
       "      <td>tech</td>\n",
       "      <td>entertainment</td>\n",
       "      <td>0.822778</td>\n",
       "    </tr>\n",
       "    <tr>\n",
       "      <th>1565</th>\n",
       "      <td>ferdinand cast doubt glazer rio ferdinand said...</td>\n",
       "      <td>sport</td>\n",
       "      <td>business</td>\n",
       "      <td>0.84811</td>\n",
       "    </tr>\n",
       "    <tr>\n",
       "      <th>2072</th>\n",
       "      <td>hatfield executive go trial engineering firm b...</td>\n",
       "      <td>politics</td>\n",
       "      <td>sport</td>\n",
       "      <td>0.729885</td>\n",
       "    </tr>\n",
       "    <tr>\n",
       "      <th>2002</th>\n",
       "      <td>salary scandal cameroon cameroon say widesprea...</td>\n",
       "      <td>business</td>\n",
       "      <td>politics</td>\n",
       "      <td>0.804776</td>\n",
       "    </tr>\n",
       "    <tr>\n",
       "      <th>2183</th>\n",
       "      <td>piero give rugby perspective bbc sport unveils...</td>\n",
       "      <td>tech</td>\n",
       "      <td>sport</td>\n",
       "      <td>0.829921</td>\n",
       "    </tr>\n",
       "    <tr>\n",
       "      <th>1933</th>\n",
       "      <td>fear raised ballet future fewer child uk follo...</td>\n",
       "      <td>entertainment</td>\n",
       "      <td>tech</td>\n",
       "      <td>0.801555</td>\n",
       "    </tr>\n",
       "    <tr>\n",
       "      <th>445</th>\n",
       "      <td>hunt ban support decline support ban hunting f...</td>\n",
       "      <td>politics</td>\n",
       "      <td>business</td>\n",
       "      <td>0.766438</td>\n",
       "    </tr>\n",
       "    <tr>\n",
       "      <th>677</th>\n",
       "      <td>minimum wage increased â 5 05 minimum wage ris...</td>\n",
       "      <td>politics</td>\n",
       "      <td>business</td>\n",
       "      <td>0.618138</td>\n",
       "    </tr>\n",
       "    <tr>\n",
       "      <th>1827</th>\n",
       "      <td>cash give way flexible friend spending credit ...</td>\n",
       "      <td>business</td>\n",
       "      <td>tech</td>\n",
       "      <td>0.465933</td>\n",
       "    </tr>\n",
       "    <tr>\n",
       "      <th>179</th>\n",
       "      <td>arsenal may seek full share listing arsenal vi...</td>\n",
       "      <td>business</td>\n",
       "      <td>sport</td>\n",
       "      <td>0.607115</td>\n",
       "    </tr>\n",
       "    <tr>\n",
       "      <th>378</th>\n",
       "      <td>parent face video game lesson way ensuring par...</td>\n",
       "      <td>tech</td>\n",
       "      <td>politics</td>\n",
       "      <td>0.895788</td>\n",
       "    </tr>\n",
       "    <tr>\n",
       "      <th>275</th>\n",
       "      <td>report attack defence spending ministry defenc...</td>\n",
       "      <td>politics</td>\n",
       "      <td>business</td>\n",
       "      <td>0.568074</td>\n",
       "    </tr>\n",
       "    <tr>\n",
       "      <th>37</th>\n",
       "      <td>row threatens hendrix museum plan proposal ope...</td>\n",
       "      <td>entertainment</td>\n",
       "      <td>politics</td>\n",
       "      <td>0.366042</td>\n",
       "    </tr>\n",
       "  </tbody>\n",
       "</table>\n",
       "</div>"
      ],
      "text/plain": [
       "                                                   Text  Ture_category  \\\n",
       "1429  bt offer equal access rival bt moved pre empt ...       business   \n",
       "547   ink help drive democracy asia kyrgyz republic ...           tech   \n",
       "384   drive save festive holiday effort made protect...       politics   \n",
       "1146  bbc lead interactive bafta win bbc national th...           tech   \n",
       "1565  ferdinand cast doubt glazer rio ferdinand said...          sport   \n",
       "2072  hatfield executive go trial engineering firm b...       politics   \n",
       "2002  salary scandal cameroon cameroon say widesprea...       business   \n",
       "2183  piero give rugby perspective bbc sport unveils...           tech   \n",
       "1933  fear raised ballet future fewer child uk follo...  entertainment   \n",
       "445   hunt ban support decline support ban hunting f...       politics   \n",
       "677   minimum wage increased â 5 05 minimum wage ris...       politics   \n",
       "1827  cash give way flexible friend spending credit ...       business   \n",
       "179   arsenal may seek full share listing arsenal vi...       business   \n",
       "378   parent face video game lesson way ensuring par...           tech   \n",
       "275   report attack defence spending ministry defenc...       politics   \n",
       "37    row threatens hendrix museum plan proposal ope...  entertainment   \n",
       "\n",
       "     PREDICTED_cetegory % PREDICTED_cetegory  \n",
       "1429               tech             0.504323  \n",
       "547            politics             0.352899  \n",
       "384       entertainment             0.558888  \n",
       "1146      entertainment             0.822778  \n",
       "1565           business              0.84811  \n",
       "2072              sport             0.729885  \n",
       "2002           politics             0.804776  \n",
       "2183              sport             0.829921  \n",
       "1933               tech             0.801555  \n",
       "445            business             0.766438  \n",
       "677            business             0.618138  \n",
       "1827               tech             0.465933  \n",
       "179               sport             0.607115  \n",
       "378            politics             0.895788  \n",
       "275            business             0.568074  \n",
       "37             politics             0.366042  "
      ]
     },
     "execution_count": 70,
     "metadata": {},
     "output_type": "execute_result"
    }
   ],
   "source": [
    "error_prediction = result_df[result_df['Ture_category'] != result_df['PREDICTED_cetegory']]\n",
    "error_prediction"
   ]
  },
  {
   "cell_type": "code",
   "execution_count": 71,
   "metadata": {
    "collapsed": false
   },
   "outputs": [
    {
     "name": "stdout",
     "output_type": "stream",
     "text": [
      "[[  4.25872446e-03   8.53905841e-04   1.19873511e-04   9.94595521e-01\n",
      "    1.71975518e-04]\n",
      " [  4.92008130e-01   6.25402830e-05   2.00253228e-03   1.60338793e-03\n",
      "    5.04323409e-01]\n",
      " [  5.79066406e-05   9.24333679e-04   6.07266090e-05   4.21945065e-04\n",
      "    9.98535088e-01]\n",
      " ..., \n",
      " [  2.01765787e-03   3.58700805e-04   6.38350855e-04   9.90820817e-01\n",
      "    6.16447366e-03]\n",
      " [  6.20598166e-03   9.93660957e-01   4.09462380e-06   2.44300509e-05\n",
      "    1.04536673e-04]\n",
      " [  9.99452824e-01   1.59939155e-04   2.31572352e-04   1.14281151e-04\n",
      "    4.13834430e-05]]\n"
     ]
    }
   ],
   "source": [
    "# look the prob in prediction\n",
    "print(predicted_valid_y_proba)"
   ]
  },
  {
   "cell_type": "code",
   "execution_count": null,
   "metadata": {
    "collapsed": true
   },
   "outputs": [],
   "source": []
  }
 ],
 "metadata": {
  "kernelspec": {
   "display_name": "Python 3",
   "language": "python",
   "name": "python3"
  },
  "language_info": {
   "codemirror_mode": {
    "name": "ipython",
    "version": 3
   },
   "file_extension": ".py",
   "mimetype": "text/x-python",
   "name": "python",
   "nbconvert_exporter": "python",
   "pygments_lexer": "ipython3",
   "version": "3.6.6"
  }
 },
 "nbformat": 4,
 "nbformat_minor": 2
}
